{
 "cells": [
  {
   "cell_type": "code",
   "execution_count": 3,
   "metadata": {},
   "outputs": [
    {
     "name": "stdout",
     "output_type": "stream",
     "text": [
      "Collecting simpletransformers\n",
      "\u001b[?25l  Downloading https://files.pythonhosted.org/packages/35/ef/0b70ae95138064d665d9298c4d96afba2edf4b86dc44f762807ceb12668e/simpletransformers-0.61.4-py3-none-any.whl (213kB)\n",
      "\u001b[K     |████████████████████████████████| 215kB 2.6MB/s eta 0:00:01\n",
      "\u001b[?25hCollecting wandb (from simpletransformers)\n",
      "\u001b[?25l  Downloading https://files.pythonhosted.org/packages/f6/28/4aefc543967839bdb4e139831b82004279f1c435cede2a9557ccf8369875/wandb-0.10.27-py2.py3-none-any.whl (2.1MB)\n",
      "\u001b[K     |████████████████████████████████| 2.1MB 6.8MB/s eta 0:00:01\n",
      "\u001b[?25hCollecting sentencepiece (from simpletransformers)\n",
      "\u001b[?25l  Downloading https://files.pythonhosted.org/packages/40/62/ac0a3bf69c1149e509bc32c3efaf0a3e309a51ea3dfa8f8f7a42895c99fa/sentencepiece-0.1.95-cp37-cp37m-macosx_10_6_x86_64.whl (1.1MB)\n",
      "\u001b[K     |████████████████████████████████| 1.1MB 19.3MB/s eta 0:00:01\n",
      "\u001b[?25hCollecting transformers>=4.2.0 (from simpletransformers)\n",
      "\u001b[?25l  Downloading https://files.pythonhosted.org/packages/d8/b2/57495b5309f09fa501866e225c84532d1fd89536ea62406b2181933fb418/transformers-4.5.1-py3-none-any.whl (2.1MB)\n",
      "\u001b[K     |████████████████████████████████| 2.1MB 23.5MB/s eta 0:00:01\n",
      "\u001b[?25hCollecting datasets (from simpletransformers)\n",
      "\u001b[?25l  Downloading https://files.pythonhosted.org/packages/da/d6/a3d2c55b940a7c556e88f5598b401990805fc0f0a28b2fc9870cf0b8c761/datasets-1.6.0-py3-none-any.whl (202kB)\n",
      "\u001b[K     |████████████████████████████████| 204kB 19.4MB/s eta 0:00:01\n",
      "\u001b[?25hCollecting tqdm>=4.47.0 (from simpletransformers)\n",
      "\u001b[?25l  Downloading https://files.pythonhosted.org/packages/72/8a/34efae5cf9924328a8f34eeb2fdaae14c011462d9f0e3fcded48e1266d1c/tqdm-4.60.0-py2.py3-none-any.whl (75kB)\n",
      "\u001b[K     |████████████████████████████████| 81kB 9.3MB/s  eta 0:00:01\n",
      "\u001b[?25hRequirement already satisfied: requests in /Users/emilysharata/opt/anaconda3/lib/python3.7/site-packages (from simpletransformers) (2.22.0)\n",
      "Collecting regex (from simpletransformers)\n",
      "\u001b[?25l  Downloading https://files.pythonhosted.org/packages/6b/02/5d8634b1848274caa6e25d69d83ca37668b4d718ed9a11bb2aa0c63af665/regex-2021.4.4-cp37-cp37m-macosx_10_9_x86_64.whl (285kB)\n",
      "\u001b[K     |████████████████████████████████| 286kB 16.3MB/s eta 0:00:01\n",
      "\u001b[?25hRequirement already satisfied: scipy in /Users/emilysharata/opt/anaconda3/lib/python3.7/site-packages (from simpletransformers) (1.3.1)\n",
      "Collecting tensorboardx (from simpletransformers)\n",
      "\u001b[?25l  Downloading https://files.pythonhosted.org/packages/07/84/46421bd3e0e89a92682b1a38b40efc22dafb6d8e3d947e4ceefd4a5fabc7/tensorboardX-2.2-py2.py3-none-any.whl (120kB)\n",
      "\u001b[K     |████████████████████████████████| 122kB 13.1MB/s eta 0:00:01\n",
      "\u001b[?25hRequirement already satisfied: pandas in /Users/emilysharata/opt/anaconda3/lib/python3.7/site-packages (from simpletransformers) (0.25.1)\n",
      "Requirement already satisfied: scikit-learn in /Users/emilysharata/opt/anaconda3/lib/python3.7/site-packages (from simpletransformers) (0.21.3)\n",
      "Collecting seqeval (from simpletransformers)\n",
      "\u001b[?25l  Downloading https://files.pythonhosted.org/packages/9d/2d/233c79d5b4e5ab1dbf111242299153f3caddddbb691219f363ad55ce783d/seqeval-1.2.2.tar.gz (43kB)\n",
      "\u001b[K     |████████████████████████████████| 51kB 9.1MB/s  eta 0:00:01\n",
      "\u001b[?25hRequirement already satisfied: numpy in /Users/emilysharata/opt/anaconda3/lib/python3.7/site-packages (from simpletransformers) (1.17.2)\n",
      "Collecting streamlit (from simpletransformers)\n",
      "\u001b[?25l  Downloading https://files.pythonhosted.org/packages/d9/99/a8913c21bd07a14f72658a01784414ffecb380ddd0f9a127257314fea697/streamlit-0.80.0-py2.py3-none-any.whl (8.2MB)\n",
      "\u001b[K     |████████████████████████████████| 8.2MB 17.4MB/s eta 0:00:01\n",
      "\u001b[?25hCollecting tokenizers (from simpletransformers)\n",
      "\u001b[?25l  Downloading https://files.pythonhosted.org/packages/d1/43/518de4fc320cf51c967202bc8fe2f2acf348a1119c7f5660f65bba6841f4/tokenizers-0.10.2-cp37-cp37m-macosx_10_11_x86_64.whl (2.3MB)\n",
      "\u001b[K     |████████████████████████████████| 2.3MB 16.2MB/s eta 0:00:01\n",
      "\u001b[?25hCollecting configparser>=3.8.1 (from wandb->simpletransformers)\n",
      "  Downloading https://files.pythonhosted.org/packages/fd/01/ff260a18caaf4457eb028c96eeb405c4a230ca06c8ec9c1379f813caa52e/configparser-5.0.2-py3-none-any.whl\n",
      "Requirement already satisfied: psutil>=5.0.0 in /Users/emilysharata/opt/anaconda3/lib/python3.7/site-packages (from wandb->simpletransformers) (5.6.3)\n",
      "Requirement already satisfied: PyYAML in /Users/emilysharata/opt/anaconda3/lib/python3.7/site-packages (from wandb->simpletransformers) (5.1.2)\n",
      "Collecting sentry-sdk>=0.4.0 (from wandb->simpletransformers)\n",
      "\u001b[?25l  Downloading https://files.pythonhosted.org/packages/f3/92/5a33be64990ba815364a8f2dd9e6f51de60d23dfddafb4f1fc5577d4dc64/sentry_sdk-1.0.0-py2.py3-none-any.whl (131kB)\n",
      "\u001b[K     |████████████████████████████████| 133kB 17.9MB/s eta 0:00:01\n",
      "\u001b[?25hCollecting pathtools (from wandb->simpletransformers)\n",
      "  Downloading https://files.pythonhosted.org/packages/e7/7f/470d6fcdf23f9f3518f6b0b76be9df16dcc8630ad409947f8be2eb0ed13a/pathtools-0.1.2.tar.gz\n",
      "Collecting shortuuid>=0.5.0 (from wandb->simpletransformers)\n",
      "  Downloading https://files.pythonhosted.org/packages/25/a6/2ecc1daa6a304e7f1b216f0896b26156b78e7c38e1211e9b798b4716c53d/shortuuid-1.0.1-py3-none-any.whl\n",
      "Collecting GitPython>=1.0.0 (from wandb->simpletransformers)\n",
      "\u001b[?25l  Downloading https://files.pythonhosted.org/packages/a6/99/98019716955ba243657daedd1de8f3a88ca1f5b75057c38e959db22fb87b/GitPython-3.1.14-py3-none-any.whl (159kB)\n",
      "\u001b[K     |████████████████████████████████| 163kB 20.7MB/s eta 0:00:01\n",
      "\u001b[?25hRequirement already satisfied: python-dateutil>=2.6.1 in /Users/emilysharata/opt/anaconda3/lib/python3.7/site-packages (from wandb->simpletransformers) (2.8.0)\n",
      "Collecting protobuf>=3.12.0 (from wandb->simpletransformers)\n",
      "\u001b[?25l  Downloading https://files.pythonhosted.org/packages/e9/bb/6ca2011fd6cc62a942e1920cb0ddac348079af2d6fbf5ca84e9eb399ca71/protobuf-3.15.8-cp37-cp37m-macosx_10_9_x86_64.whl (1.0MB)\n",
      "\u001b[K     |████████████████████████████████| 1.0MB 16.9MB/s eta 0:00:01\n",
      "\u001b[?25hCollecting promise<3,>=2.0 (from wandb->simpletransformers)\n",
      "  Downloading https://files.pythonhosted.org/packages/cf/9c/fb5d48abfe5d791cd496e4242ebcf87a4bb2e0c3dcd6e0ae68c11426a528/promise-2.3.tar.gz\n",
      "Requirement already satisfied: Click>=7.0 in /Users/emilysharata/opt/anaconda3/lib/python3.7/site-packages (from wandb->simpletransformers) (7.0)\n",
      "Collecting six>=1.13.0 (from wandb->simpletransformers)\n",
      "  Downloading https://files.pythonhosted.org/packages/ee/ff/48bde5c0f013094d729fe4b0316ba2a24774b3ff1c52d924a8a4cb04078a/six-1.15.0-py2.py3-none-any.whl\n",
      "Collecting subprocess32>=3.5.3 (from wandb->simpletransformers)\n",
      "\u001b[?25l  Downloading https://files.pythonhosted.org/packages/32/c8/564be4d12629b912ea431f1a50eb8b3b9d00f1a0b1ceff17f266be190007/subprocess32-3.5.4.tar.gz (97kB)\n",
      "\u001b[K     |████████████████████████████████| 102kB 10.9MB/s ta 0:00:01\n",
      "\u001b[?25hCollecting docker-pycreds>=0.4.0 (from wandb->simpletransformers)\n",
      "  Downloading https://files.pythonhosted.org/packages/f5/e8/f6bd1eee09314e7e6dee49cbe2c5e22314ccdb38db16c9fc72d2fa80d054/docker_pycreds-0.4.0-py2.py3-none-any.whl\n",
      "Requirement already satisfied: importlib-metadata; python_version < \"3.8\" in /Users/emilysharata/opt/anaconda3/lib/python3.7/site-packages (from transformers>=4.2.0->simpletransformers) (0.23)\n",
      "Requirement already satisfied: filelock in /Users/emilysharata/opt/anaconda3/lib/python3.7/site-packages (from transformers>=4.2.0->simpletransformers) (3.0.12)\n",
      "Collecting sacremoses (from transformers>=4.2.0->simpletransformers)\n",
      "\u001b[?25l  Downloading https://files.pythonhosted.org/packages/75/ee/67241dc87f266093c533a2d4d3d69438e57d7a90abb216fa076e7d475d4a/sacremoses-0.0.45-py3-none-any.whl (895kB)\n",
      "\u001b[K     |████████████████████████████████| 901kB 24.7MB/s eta 0:00:01\n",
      "\u001b[?25hRequirement already satisfied: packaging in /Users/emilysharata/opt/anaconda3/lib/python3.7/site-packages (from transformers>=4.2.0->simpletransformers) (19.2)\n",
      "Collecting dill (from datasets->simpletransformers)\n",
      "\u001b[?25l  Downloading https://files.pythonhosted.org/packages/52/d6/79f40d230895fa1ce3b6af0d22e0ac79c65175dc069c194b79cc8e05a033/dill-0.3.3-py2.py3-none-any.whl (81kB)\n",
      "\u001b[K     |████████████████████████████████| 81kB 10.7MB/s eta 0:00:01\n",
      "\u001b[?25hCollecting pyarrow>=1.0.0 (from datasets->simpletransformers)\n"
     ]
    },
    {
     "name": "stdout",
     "output_type": "stream",
     "text": [
      "\u001b[?25l  Downloading https://files.pythonhosted.org/packages/68/5f/1fb0c604636d46257af3c3075955e860161e8c41386405467f073df73f91/pyarrow-3.0.0-cp37-cp37m-macosx_10_13_x86_64.whl (14.1MB)\n",
      "\u001b[K     |████████████████████████████████| 14.1MB 15.4MB/s eta 0:00:01\n",
      "\u001b[?25hCollecting multiprocess (from datasets->simpletransformers)\n",
      "\u001b[?25l  Downloading https://files.pythonhosted.org/packages/db/20/458ac043a57322365ac2ed86a911bf7598fc2e49bccb3f94ea810fbb6b9b/multiprocess-0.70.11.1-py37-none-any.whl (108kB)\n",
      "\u001b[K     |████████████████████████████████| 112kB 22.9MB/s eta 0:00:01\n",
      "\u001b[?25hCollecting huggingface-hub<0.1.0 (from datasets->simpletransformers)\n",
      "  Downloading https://files.pythonhosted.org/packages/a1/88/7b1e45720ecf59c6c6737ff332f41c955963090a18e72acbcbeac6b25e86/huggingface_hub-0.0.8-py3-none-any.whl\n",
      "Requirement already satisfied: fsspec in /Users/emilysharata/opt/anaconda3/lib/python3.7/site-packages (from datasets->simpletransformers) (0.5.2)\n",
      "Collecting xxhash (from datasets->simpletransformers)\n",
      "  Downloading https://files.pythonhosted.org/packages/5b/91/199a896fbf73b0b0d5023c411ee9fd1a53f1068dc82a6ddef075805db2a8/xxhash-2.0.2-cp37-cp37m-macosx_10_9_x86_64.whl\n",
      "Requirement already satisfied: urllib3!=1.25.0,!=1.25.1,<1.26,>=1.21.1 in /Users/emilysharata/opt/anaconda3/lib/python3.7/site-packages (from requests->simpletransformers) (1.24.2)\n",
      "Requirement already satisfied: idna<2.9,>=2.5 in /Users/emilysharata/opt/anaconda3/lib/python3.7/site-packages (from requests->simpletransformers) (2.8)\n",
      "Requirement already satisfied: chardet<3.1.0,>=3.0.2 in /Users/emilysharata/opt/anaconda3/lib/python3.7/site-packages (from requests->simpletransformers) (3.0.4)\n",
      "Requirement already satisfied: certifi>=2017.4.17 in /Users/emilysharata/opt/anaconda3/lib/python3.7/site-packages (from requests->simpletransformers) (2019.9.11)\n",
      "Requirement already satisfied: pytz>=2017.2 in /Users/emilysharata/opt/anaconda3/lib/python3.7/site-packages (from pandas->simpletransformers) (2019.3)\n",
      "Requirement already satisfied: joblib>=0.11 in /Users/emilysharata/opt/anaconda3/lib/python3.7/site-packages (from scikit-learn->simpletransformers) (0.13.2)\n",
      "Collecting cachetools>=4.0 (from streamlit->simpletransformers)\n",
      "  Downloading https://files.pythonhosted.org/packages/bb/72/8df2e0dc991f1a1d2c6869404e7622e8ee50d80bff357dbb57c3df70305b/cachetools-4.2.1-py3-none-any.whl\n",
      "Collecting astor (from streamlit->simpletransformers)\n",
      "  Downloading https://files.pythonhosted.org/packages/c3/88/97eef84f48fa04fbd6750e62dcceafba6c63c81b7ac1420856c8dcc0a3f9/astor-0.8.1-py2.py3-none-any.whl\n",
      "Requirement already satisfied: pillow>=6.2.0 in /Users/emilysharata/opt/anaconda3/lib/python3.7/site-packages (from streamlit->simpletransformers) (6.2.0)\n",
      "Collecting toml (from streamlit->simpletransformers)\n",
      "  Downloading https://files.pythonhosted.org/packages/44/6f/7120676b6d73228c96e17f1f794d8ab046fc910d781c8d151120c3f1569e/toml-0.10.2-py2.py3-none-any.whl\n",
      "Collecting tzlocal (from streamlit->simpletransformers)\n",
      "  Downloading https://files.pythonhosted.org/packages/5d/94/d47b0fd5988e6b7059de05720a646a2930920fff247a826f61674d436ba4/tzlocal-2.1-py2.py3-none-any.whl\n",
      "Collecting blinker (from streamlit->simpletransformers)\n",
      "\u001b[?25l  Downloading https://files.pythonhosted.org/packages/1b/51/e2a9f3b757eb802f61dc1f2b09c8c99f6eb01cf06416c0671253536517b6/blinker-1.4.tar.gz (111kB)\n",
      "\u001b[K     |████████████████████████████████| 112kB 17.6MB/s eta 0:00:01\n",
      "\u001b[?25hCollecting pydeck>=0.1.dev5 (from streamlit->simpletransformers)\n",
      "\u001b[?25l  Downloading https://files.pythonhosted.org/packages/d6/bc/f0e44828e4290367c869591d50d3671a4d0ee94926da6cb734b7b200308c/pydeck-0.6.2-py2.py3-none-any.whl (4.2MB)\n",
      "\u001b[K     |████████████████████████████████| 4.2MB 18.8MB/s eta 0:00:01��        | 3.1MB 18.8MB/s eta 0:00:01\n",
      "\u001b[?25hCollecting validators (from streamlit->simpletransformers)\n",
      "  Downloading https://files.pythonhosted.org/packages/db/2f/7fed3ee94ad665ad2c1de87f858f10a7785251ff75b4fd47987888d07ef1/validators-0.18.2-py3-none-any.whl\n",
      "Collecting altair>=3.2.0 (from streamlit->simpletransformers)\n",
      "\u001b[?25l  Downloading https://files.pythonhosted.org/packages/01/55/0bb2226e34f21fa549c3f4557b4f154a5632f61132a969da17c95ca8eab9/altair-4.1.0-py3-none-any.whl (727kB)\n",
      "\u001b[K     |████████████████████████████████| 737kB 19.5MB/s eta 0:00:01\n",
      "\u001b[?25hCollecting base58 (from streamlit->simpletransformers)\n",
      "  Downloading https://files.pythonhosted.org/packages/b8/a1/d9f565e9910c09fd325dc638765e8843a19fa696275c16cc08cf3b0a3c25/base58-2.1.0-py3-none-any.whl\n",
      "Requirement already satisfied: tornado>=5.0 in /Users/emilysharata/opt/anaconda3/lib/python3.7/site-packages (from streamlit->simpletransformers) (6.0.3)\n",
      "Collecting gitdb<5,>=4.0.1 (from GitPython>=1.0.0->wandb->simpletransformers)\n",
      "\u001b[?25l  Downloading https://files.pythonhosted.org/packages/ea/e8/f414d1a4f0bbc668ed441f74f44c116d9816833a48bf81d22b697090dba8/gitdb-4.0.7-py3-none-any.whl (63kB)\n",
      "\u001b[K     |████████████████████████████████| 71kB 16.6MB/s eta 0:00:01\n",
      "\u001b[?25hRequirement already satisfied: zipp>=0.5 in /Users/emilysharata/opt/anaconda3/lib/python3.7/site-packages (from importlib-metadata; python_version < \"3.8\"->transformers>=4.2.0->simpletransformers) (0.6.0)\n",
      "Requirement already satisfied: pyparsing>=2.0.2 in /Users/emilysharata/opt/anaconda3/lib/python3.7/site-packages (from packaging->transformers>=4.2.0->simpletransformers) (2.4.2)\n",
      "Requirement already satisfied: ipywidgets>=7.0.0 in /Users/emilysharata/opt/anaconda3/lib/python3.7/site-packages (from pydeck>=0.1.dev5->streamlit->simpletransformers) (7.5.1)\n",
      "Requirement already satisfied: jinja2>=2.10.1 in /Users/emilysharata/opt/anaconda3/lib/python3.7/site-packages (from pydeck>=0.1.dev5->streamlit->simpletransformers) (2.10.3)\n",
      "Requirement already satisfied: traitlets>=4.3.2 in /Users/emilysharata/opt/anaconda3/lib/python3.7/site-packages (from pydeck>=0.1.dev5->streamlit->simpletransformers) (4.3.3)\n",
      "Requirement already satisfied: ipykernel>=5.1.2; python_version >= \"3.4\" in /Users/emilysharata/opt/anaconda3/lib/python3.7/site-packages (from pydeck>=0.1.dev5->streamlit->simpletransformers) (5.1.2)\n",
      "Requirement already satisfied: decorator>=3.4.0 in /Users/emilysharata/opt/anaconda3/lib/python3.7/site-packages (from validators->streamlit->simpletransformers) (4.4.0)\n",
      "Requirement already satisfied: toolz in /Users/emilysharata/opt/anaconda3/lib/python3.7/site-packages (from altair>=3.2.0->streamlit->simpletransformers) (0.10.0)\n",
      "Requirement already satisfied: jsonschema in /Users/emilysharata/opt/anaconda3/lib/python3.7/site-packages (from altair>=3.2.0->streamlit->simpletransformers) (3.0.2)\n",
      "Requirement already satisfied: entrypoints in /Users/emilysharata/opt/anaconda3/lib/python3.7/site-packages (from altair>=3.2.0->streamlit->simpletransformers) (0.3)\n",
      "Collecting smmap<5,>=3.0.1 (from gitdb<5,>=4.0.1->GitPython>=1.0.0->wandb->simpletransformers)\n",
      "  Downloading https://files.pythonhosted.org/packages/68/ee/d540eb5e5996eb81c26ceffac6ee49041d473bc5125f2aa995cf51ec1cf1/smmap-4.0.0-py2.py3-none-any.whl\n",
      "Requirement already satisfied: more-itertools in /Users/emilysharata/opt/anaconda3/lib/python3.7/site-packages (from zipp>=0.5->importlib-metadata; python_version < \"3.8\"->transformers>=4.2.0->simpletransformers) (7.2.0)\n",
      "Requirement already satisfied: ipython>=4.0.0; python_version >= \"3.3\" in /Users/emilysharata/opt/anaconda3/lib/python3.7/site-packages (from ipywidgets>=7.0.0->pydeck>=0.1.dev5->streamlit->simpletransformers) (7.8.0)\n",
      "Requirement already satisfied: nbformat>=4.2.0 in /Users/emilysharata/opt/anaconda3/lib/python3.7/site-packages (from ipywidgets>=7.0.0->pydeck>=0.1.dev5->streamlit->simpletransformers) (4.4.0)\n",
      "Requirement already satisfied: widgetsnbextension~=3.5.0 in /Users/emilysharata/opt/anaconda3/lib/python3.7/site-packages (from ipywidgets>=7.0.0->pydeck>=0.1.dev5->streamlit->simpletransformers) (3.5.1)\n",
      "Requirement already satisfied: MarkupSafe>=0.23 in /Users/emilysharata/opt/anaconda3/lib/python3.7/site-packages (from jinja2>=2.10.1->pydeck>=0.1.dev5->streamlit->simpletransformers) (1.1.1)\n",
      "Requirement already satisfied: ipython-genutils in /Users/emilysharata/opt/anaconda3/lib/python3.7/site-packages (from traitlets>=4.3.2->pydeck>=0.1.dev5->streamlit->simpletransformers) (0.2.0)\n",
      "Requirement already satisfied: jupyter-client in /Users/emilysharata/opt/anaconda3/lib/python3.7/site-packages (from ipykernel>=5.1.2; python_version >= \"3.4\"->pydeck>=0.1.dev5->streamlit->simpletransformers) (5.3.3)\n",
      "Requirement already satisfied: pyrsistent>=0.14.0 in /Users/emilysharata/opt/anaconda3/lib/python3.7/site-packages (from jsonschema->altair>=3.2.0->streamlit->simpletransformers) (0.15.4)\n"
     ]
    },
    {
     "name": "stdout",
     "output_type": "stream",
     "text": [
      "Requirement already satisfied: setuptools in /Users/emilysharata/opt/anaconda3/lib/python3.7/site-packages (from jsonschema->altair>=3.2.0->streamlit->simpletransformers) (41.4.0)\n",
      "Requirement already satisfied: attrs>=17.4.0 in /Users/emilysharata/opt/anaconda3/lib/python3.7/site-packages (from jsonschema->altair>=3.2.0->streamlit->simpletransformers) (19.2.0)\n",
      "Requirement already satisfied: jedi>=0.10 in /Users/emilysharata/opt/anaconda3/lib/python3.7/site-packages (from ipython>=4.0.0; python_version >= \"3.3\"->ipywidgets>=7.0.0->pydeck>=0.1.dev5->streamlit->simpletransformers) (0.15.1)\n",
      "Requirement already satisfied: prompt-toolkit<2.1.0,>=2.0.0 in /Users/emilysharata/opt/anaconda3/lib/python3.7/site-packages (from ipython>=4.0.0; python_version >= \"3.3\"->ipywidgets>=7.0.0->pydeck>=0.1.dev5->streamlit->simpletransformers) (2.0.10)\n",
      "Requirement already satisfied: pickleshare in /Users/emilysharata/opt/anaconda3/lib/python3.7/site-packages (from ipython>=4.0.0; python_version >= \"3.3\"->ipywidgets>=7.0.0->pydeck>=0.1.dev5->streamlit->simpletransformers) (0.7.5)\n",
      "Requirement already satisfied: pygments in /Users/emilysharata/opt/anaconda3/lib/python3.7/site-packages (from ipython>=4.0.0; python_version >= \"3.3\"->ipywidgets>=7.0.0->pydeck>=0.1.dev5->streamlit->simpletransformers) (2.4.2)\n",
      "Requirement already satisfied: pexpect; sys_platform != \"win32\" in /Users/emilysharata/opt/anaconda3/lib/python3.7/site-packages (from ipython>=4.0.0; python_version >= \"3.3\"->ipywidgets>=7.0.0->pydeck>=0.1.dev5->streamlit->simpletransformers) (4.7.0)\n",
      "Requirement already satisfied: backcall in /Users/emilysharata/opt/anaconda3/lib/python3.7/site-packages (from ipython>=4.0.0; python_version >= \"3.3\"->ipywidgets>=7.0.0->pydeck>=0.1.dev5->streamlit->simpletransformers) (0.1.0)\n",
      "Requirement already satisfied: appnope; sys_platform == \"darwin\" in /Users/emilysharata/opt/anaconda3/lib/python3.7/site-packages (from ipython>=4.0.0; python_version >= \"3.3\"->ipywidgets>=7.0.0->pydeck>=0.1.dev5->streamlit->simpletransformers) (0.1.0)\n",
      "Requirement already satisfied: jupyter-core in /Users/emilysharata/opt/anaconda3/lib/python3.7/site-packages (from nbformat>=4.2.0->ipywidgets>=7.0.0->pydeck>=0.1.dev5->streamlit->simpletransformers) (4.5.0)\n",
      "Requirement already satisfied: notebook>=4.4.1 in /Users/emilysharata/opt/anaconda3/lib/python3.7/site-packages (from widgetsnbextension~=3.5.0->ipywidgets>=7.0.0->pydeck>=0.1.dev5->streamlit->simpletransformers) (6.0.1)\n",
      "Requirement already satisfied: pyzmq>=13 in /Users/emilysharata/opt/anaconda3/lib/python3.7/site-packages (from jupyter-client->ipykernel>=5.1.2; python_version >= \"3.4\"->pydeck>=0.1.dev5->streamlit->simpletransformers) (18.1.0)\n",
      "Requirement already satisfied: parso>=0.5.0 in /Users/emilysharata/opt/anaconda3/lib/python3.7/site-packages (from jedi>=0.10->ipython>=4.0.0; python_version >= \"3.3\"->ipywidgets>=7.0.0->pydeck>=0.1.dev5->streamlit->simpletransformers) (0.5.1)\n",
      "Requirement already satisfied: wcwidth in /Users/emilysharata/opt/anaconda3/lib/python3.7/site-packages (from prompt-toolkit<2.1.0,>=2.0.0->ipython>=4.0.0; python_version >= \"3.3\"->ipywidgets>=7.0.0->pydeck>=0.1.dev5->streamlit->simpletransformers) (0.1.7)\n",
      "Requirement already satisfied: ptyprocess>=0.5 in /Users/emilysharata/opt/anaconda3/lib/python3.7/site-packages (from pexpect; sys_platform != \"win32\"->ipython>=4.0.0; python_version >= \"3.3\"->ipywidgets>=7.0.0->pydeck>=0.1.dev5->streamlit->simpletransformers) (0.6.0)\n",
      "Requirement already satisfied: nbconvert in /Users/emilysharata/opt/anaconda3/lib/python3.7/site-packages (from notebook>=4.4.1->widgetsnbextension~=3.5.0->ipywidgets>=7.0.0->pydeck>=0.1.dev5->streamlit->simpletransformers) (5.6.0)\n",
      "Requirement already satisfied: Send2Trash in /Users/emilysharata/opt/anaconda3/lib/python3.7/site-packages (from notebook>=4.4.1->widgetsnbextension~=3.5.0->ipywidgets>=7.0.0->pydeck>=0.1.dev5->streamlit->simpletransformers) (1.5.0)\n",
      "Requirement already satisfied: terminado>=0.8.1 in /Users/emilysharata/opt/anaconda3/lib/python3.7/site-packages (from notebook>=4.4.1->widgetsnbextension~=3.5.0->ipywidgets>=7.0.0->pydeck>=0.1.dev5->streamlit->simpletransformers) (0.8.2)\n",
      "Requirement already satisfied: prometheus-client in /Users/emilysharata/opt/anaconda3/lib/python3.7/site-packages (from notebook>=4.4.1->widgetsnbextension~=3.5.0->ipywidgets>=7.0.0->pydeck>=0.1.dev5->streamlit->simpletransformers) (0.7.1)\n",
      "Requirement already satisfied: mistune<2,>=0.8.1 in /Users/emilysharata/opt/anaconda3/lib/python3.7/site-packages (from nbconvert->notebook>=4.4.1->widgetsnbextension~=3.5.0->ipywidgets>=7.0.0->pydeck>=0.1.dev5->streamlit->simpletransformers) (0.8.4)\n",
      "Requirement already satisfied: bleach in /Users/emilysharata/opt/anaconda3/lib/python3.7/site-packages (from nbconvert->notebook>=4.4.1->widgetsnbextension~=3.5.0->ipywidgets>=7.0.0->pydeck>=0.1.dev5->streamlit->simpletransformers) (3.1.0)\n",
      "Requirement already satisfied: pandocfilters>=1.4.1 in /Users/emilysharata/opt/anaconda3/lib/python3.7/site-packages (from nbconvert->notebook>=4.4.1->widgetsnbextension~=3.5.0->ipywidgets>=7.0.0->pydeck>=0.1.dev5->streamlit->simpletransformers) (1.4.2)\n",
      "Requirement already satisfied: testpath in /Users/emilysharata/opt/anaconda3/lib/python3.7/site-packages (from nbconvert->notebook>=4.4.1->widgetsnbextension~=3.5.0->ipywidgets>=7.0.0->pydeck>=0.1.dev5->streamlit->simpletransformers) (0.4.2)\n",
      "Requirement already satisfied: defusedxml in /Users/emilysharata/opt/anaconda3/lib/python3.7/site-packages (from nbconvert->notebook>=4.4.1->widgetsnbextension~=3.5.0->ipywidgets>=7.0.0->pydeck>=0.1.dev5->streamlit->simpletransformers) (0.6.0)\n",
      "Requirement already satisfied: webencodings in /Users/emilysharata/opt/anaconda3/lib/python3.7/site-packages (from bleach->nbconvert->notebook>=4.4.1->widgetsnbextension~=3.5.0->ipywidgets>=7.0.0->pydeck>=0.1.dev5->streamlit->simpletransformers) (0.5.1)\n",
      "Building wheels for collected packages: seqeval, pathtools, promise, subprocess32, blinker\n",
      "  Building wheel for seqeval (setup.py) ... \u001b[?25ldone\n",
      "\u001b[?25h  Created wheel for seqeval: filename=seqeval-1.2.2-cp37-none-any.whl size=16171 sha256=c270c5c333f7a563572d760d1f72fc3ddfd3cdf6ed718c6bef8258dd19db9b5a\n",
      "  Stored in directory: /Users/emilysharata/Library/Caches/pip/wheels/52/df/1b/45d75646c37428f7e626214704a0e35bd3cfc32eda37e59e5f\n",
      "  Building wheel for pathtools (setup.py) ... \u001b[?25ldone\n",
      "\u001b[?25h  Created wheel for pathtools: filename=pathtools-0.1.2-cp37-none-any.whl size=8786 sha256=40df694c5e69ad11971e32ac7477dc25d2bef860d1962620ceb3115bc697af09\n",
      "  Stored in directory: /Users/emilysharata/Library/Caches/pip/wheels/0b/04/79/c3b0c3a0266a3cb4376da31e5bfe8bba0c489246968a68e843\n",
      "  Building wheel for promise (setup.py) ... \u001b[?25ldone\n",
      "\u001b[?25h  Created wheel for promise: filename=promise-2.3-cp37-none-any.whl size=21494 sha256=2033ad6761450d6c278e0d727534c2519950425bdabc8323775028c677413bce\n",
      "  Stored in directory: /Users/emilysharata/Library/Caches/pip/wheels/19/49/34/c3c1e78bcb954c49e5ec0d31784fe63d14d427f316b12fbde9\n",
      "  Building wheel for subprocess32 (setup.py) ... \u001b[?25ldone\n",
      "\u001b[?25h  Created wheel for subprocess32: filename=subprocess32-3.5.4-cp37-none-any.whl size=6490 sha256=926456e7accced96516e747c2755f89efdd5be6991b0e2464ee8ed242654412a\n",
      "  Stored in directory: /Users/emilysharata/Library/Caches/pip/wheels/68/39/1a/5e402bdfdf004af1786c8b853fd92f8c4a04f22aad179654d1\n",
      "  Building wheel for blinker (setup.py) ... \u001b[?25ldone\n",
      "\u001b[?25h  Created wheel for blinker: filename=blinker-1.4-cp37-none-any.whl size=13450 sha256=2a4ab606ef8dd48e9a7c516aa24dfa33ec84715a183875ed982a3781cda701a7\n",
      "  Stored in directory: /Users/emilysharata/Library/Caches/pip/wheels/92/a0/00/8690a57883956a301d91cf4ec999cc0b258b01e3f548f86e89\n",
      "Successfully built seqeval pathtools promise subprocess32 blinker\n",
      "\u001b[31mERROR: astroid 2.3.1 requires typed-ast<1.5,>=1.4.0; implementation_name == \"cpython\" and python_version < \"3.8\", which is not installed.\u001b[0m\n",
      "\u001b[31mERROR: astroid 2.3.1 has requirement six==1.12, but you'll have six 1.15.0 which is incompatible.\u001b[0m\n",
      "\u001b[31mERROR: datasets 1.6.0 has requirement tqdm<4.50.0,>=4.27, but you'll have tqdm 4.60.0 which is incompatible.\u001b[0m\n",
      "Installing collected packages: configparser, sentry-sdk, pathtools, shortuuid, smmap, gitdb, GitPython, six, protobuf, promise, subprocess32, docker-pycreds, wandb, sentencepiece, tokenizers, regex, tqdm, sacremoses, transformers, dill, pyarrow, multiprocess, huggingface-hub, xxhash, datasets, tensorboardx, seqeval, cachetools, astor, toml, tzlocal, blinker, pydeck, validators, altair, base58, streamlit, simpletransformers\n"
     ]
    },
    {
     "name": "stdout",
     "output_type": "stream",
     "text": [
      "  Found existing installation: six 1.12.0\n",
      "    Uninstalling six-1.12.0:\n",
      "      Successfully uninstalled six-1.12.0\n",
      "  Found existing installation: tqdm 4.36.1\n",
      "    Uninstalling tqdm-4.36.1:\n",
      "      Successfully uninstalled tqdm-4.36.1\n",
      "Successfully installed GitPython-3.1.14 altair-4.1.0 astor-0.8.1 base58-2.1.0 blinker-1.4 cachetools-4.2.1 configparser-5.0.2 datasets-1.6.0 dill-0.3.3 docker-pycreds-0.4.0 gitdb-4.0.7 huggingface-hub-0.0.8 multiprocess-0.70.11.1 pathtools-0.1.2 promise-2.3 protobuf-3.15.8 pyarrow-3.0.0 pydeck-0.6.2 regex-2021.4.4 sacremoses-0.0.45 sentencepiece-0.1.95 sentry-sdk-1.0.0 seqeval-1.2.2 shortuuid-1.0.1 simpletransformers-0.61.4 six-1.15.0 smmap-4.0.0 streamlit-0.80.0 subprocess32-3.5.4 tensorboardx-2.2 tokenizers-0.10.2 toml-0.10.2 tqdm-4.60.0 transformers-4.5.1 tzlocal-2.1 validators-0.18.2 wandb-0.10.27 xxhash-2.0.2\n",
      "Note: you may need to restart the kernel to use updated packages.\n"
     ]
    }
   ],
   "source": [
    "pip install simpletransformers"
   ]
  },
  {
   "cell_type": "code",
   "execution_count": 3,
   "metadata": {},
   "outputs": [
    {
     "name": "stdout",
     "output_type": "stream",
     "text": [
      "Collecting torch\n",
      "\u001b[?25l  Downloading https://files.pythonhosted.org/packages/e0/17/ee73e3011b9f62919eb2991ed4c216b90285469c6d0b11c1cda6538819b1/torch-1.8.1-cp37-none-macosx_10_9_x86_64.whl (119.5MB)\n",
      "\u001b[K     |████████████████████████████████| 119.5MB 116kB/s eta 0:00:011  |█                               | 3.6MB 2.8MB/s eta 0:00:42     |█▊                              | 6.3MB 2.8MB/s eta 0:00:41     |█████████                       | 33.3MB 16.9MB/s eta 0:00:06     |█████████████████████████████   | 108.6MB 12.0MB/s eta 0:00:01\n",
      "\u001b[?25hRequirement already satisfied: numpy in /Users/emilysharata/opt/anaconda3/lib/python3.7/site-packages (from torch) (1.17.2)\n",
      "Collecting typing-extensions (from torch)\n",
      "  Downloading https://files.pythonhosted.org/packages/60/7a/e881b5abb54db0e6e671ab088d079c57ce54e8a01a3ca443f561ccadb37e/typing_extensions-3.7.4.3-py3-none-any.whl\n",
      "Installing collected packages: typing-extensions, torch\n",
      "Successfully installed torch-1.8.1 typing-extensions-3.7.4.3\n",
      "Note: you may need to restart the kernel to use updated packages.\n"
     ]
    }
   ],
   "source": [
    "pip install torch"
   ]
  },
  {
   "cell_type": "code",
   "execution_count": 1,
   "metadata": {},
   "outputs": [],
   "source": [
    "from simpletransformers.classification import (\n",
    "    ClassificationModel, ClassificationArgs\n",
    ")\n",
    "import pandas as pd\n",
    "import logging"
   ]
  },
  {
   "cell_type": "code",
   "execution_count": 2,
   "metadata": {},
   "outputs": [],
   "source": [
    "logging.basicConfig(level=logging.INFO)\n",
    "transformers_logger = logging.getLogger(\"transformers\")\n",
    "transformers_logger.setLevel(logging.WARNING)"
   ]
  },
  {
   "cell_type": "code",
   "execution_count": 4,
   "metadata": {},
   "outputs": [
    {
     "data": {
      "text/plain": [
       "[['Aragorn was the heir of Isildur', 'Gimli fought with a battle axe', 1],\n",
       " ['Frodo was the heir of Isildur', 'Legolas was an expert archer', 0]]"
      ]
     },
     "execution_count": 4,
     "metadata": {},
     "output_type": "execute_result"
    }
   ],
   "source": [
    "train_data = [\n",
    "    [\n",
    "        \"Aragorn was the heir of Isildur\",\n",
    "        \"Gimli fought with a battle axe\",\n",
    "        1,\n",
    "    ],\n",
    "    [\n",
    "        \"Frodo was the heir of Isildur\",\n",
    "        \"Legolas was an expert archer\",\n",
    "        0,\n",
    "    ],\n",
    "]\n",
    "train_data"
   ]
  },
  {
   "cell_type": "code",
   "execution_count": 7,
   "metadata": {},
   "outputs": [
    {
     "data": {
      "text/plain": [
       "['Frodo was the heir of Isildur', 'Legolas was an expert archer', 0]"
      ]
     },
     "execution_count": 7,
     "metadata": {},
     "output_type": "execute_result"
    }
   ],
   "source": [
    "train_data[1]"
   ]
  },
  {
   "cell_type": "code",
   "execution_count": 8,
   "metadata": {},
   "outputs": [
    {
     "data": {
      "text/html": [
       "<div>\n",
       "<style scoped>\n",
       "    .dataframe tbody tr th:only-of-type {\n",
       "        vertical-align: middle;\n",
       "    }\n",
       "\n",
       "    .dataframe tbody tr th {\n",
       "        vertical-align: top;\n",
       "    }\n",
       "\n",
       "    .dataframe thead th {\n",
       "        text-align: right;\n",
       "    }\n",
       "</style>\n",
       "<table border=\"1\" class=\"dataframe\">\n",
       "  <thead>\n",
       "    <tr style=\"text-align: right;\">\n",
       "      <th></th>\n",
       "      <th>text_a</th>\n",
       "      <th>text_b</th>\n",
       "      <th>labels</th>\n",
       "    </tr>\n",
       "  </thead>\n",
       "  <tbody>\n",
       "    <tr>\n",
       "      <td>0</td>\n",
       "      <td>Aragorn was the heir of Isildur</td>\n",
       "      <td>Gimli fought with a battle axe</td>\n",
       "      <td>1</td>\n",
       "    </tr>\n",
       "    <tr>\n",
       "      <td>1</td>\n",
       "      <td>Frodo was the heir of Isildur</td>\n",
       "      <td>Legolas was an expert archer</td>\n",
       "      <td>0</td>\n",
       "    </tr>\n",
       "  </tbody>\n",
       "</table>\n",
       "</div>"
      ],
      "text/plain": [
       "                            text_a                          text_b  labels\n",
       "0  Aragorn was the heir of Isildur  Gimli fought with a battle axe       1\n",
       "1    Frodo was the heir of Isildur    Legolas was an expert archer       0"
      ]
     },
     "execution_count": 8,
     "metadata": {},
     "output_type": "execute_result"
    }
   ],
   "source": [
    "train_df = pd.DataFrame(train_data)\n",
    "train_df.columns = [\"text_a\", \"text_b\", \"labels\"]\n",
    "train_df"
   ]
  },
  {
   "cell_type": "code",
   "execution_count": 15,
   "metadata": {},
   "outputs": [
    {
     "data": {
      "text/html": [
       "<div>\n",
       "<style scoped>\n",
       "    .dataframe tbody tr th:only-of-type {\n",
       "        vertical-align: middle;\n",
       "    }\n",
       "\n",
       "    .dataframe tbody tr th {\n",
       "        vertical-align: top;\n",
       "    }\n",
       "\n",
       "    .dataframe thead th {\n",
       "        text-align: right;\n",
       "    }\n",
       "</style>\n",
       "<table border=\"1\" class=\"dataframe\">\n",
       "  <thead>\n",
       "    <tr style=\"text-align: right;\">\n",
       "      <th></th>\n",
       "      <th>text_a</th>\n",
       "      <th>text_b</th>\n",
       "      <th>labels</th>\n",
       "    </tr>\n",
       "  </thead>\n",
       "  <tbody>\n",
       "    <tr>\n",
       "      <td>0</td>\n",
       "      <td>Theoden was the king of Rohan</td>\n",
       "      <td>Gimli's preferred weapon was a battle axe</td>\n",
       "      <td>1</td>\n",
       "    </tr>\n",
       "    <tr>\n",
       "      <td>1</td>\n",
       "      <td>Merry was the king of Rohan</td>\n",
       "      <td>Legolas was taller than Gimli</td>\n",
       "      <td>0</td>\n",
       "    </tr>\n",
       "  </tbody>\n",
       "</table>\n",
       "</div>"
      ],
      "text/plain": [
       "                          text_a                                     text_b  \\\n",
       "0  Theoden was the king of Rohan  Gimli's preferred weapon was a battle axe   \n",
       "1    Merry was the king of Rohan              Legolas was taller than Gimli   \n",
       "\n",
       "   labels  \n",
       "0       1  \n",
       "1       0  "
      ]
     },
     "execution_count": 15,
     "metadata": {},
     "output_type": "execute_result"
    }
   ],
   "source": [
    "eval_data = [\n",
    "    [\n",
    "        \"Theoden was the king of Rohan\",\n",
    "        \"Gimli's preferred weapon was a battle axe\",\n",
    "        1,\n",
    "    ],\n",
    "    [\n",
    "        \"Merry was the king of Rohan\",\n",
    "        \"Legolas was taller than Gimli\",\n",
    "        0,\n",
    "    ],\n",
    "]\n",
    "eval_df = pd.DataFrame(eval_data)\n",
    "eval_df.columns = [\"text_a\", \"text_b\", \"labels\"]\n",
    "eval_df"
   ]
  },
  {
   "cell_type": "code",
   "execution_count": 9,
   "metadata": {},
   "outputs": [],
   "source": [
    "# Optional model configuration\n",
    "model_args = ClassificationArgs(num_train_epochs=1)"
   ]
  },
  {
   "cell_type": "code",
   "execution_count": 11,
   "metadata": {},
   "outputs": [
    {
     "name": "stderr",
     "output_type": "stream",
     "text": [
      "INFO:filelock:Lock 112660235024 acquired on /Users/emilysharata/.cache/huggingface/transformers/51ba668f7ff34e7cdfa9561e8361747738113878850a7d717dbc69de8683aaad.c7efaa30a0d80b2958b876969faa180e485944a849deee4ad482332de65365a7.lock\n"
     ]
    },
    {
     "data": {
      "application/vnd.jupyter.widget-view+json": {
       "model_id": "5a0744cf71d046849015c0132e54946b",
       "version_major": 2,
       "version_minor": 0
      },
      "text/plain": [
       "Downloading:   0%|          | 0.00/501M [00:00<?, ?B/s]"
      ]
     },
     "metadata": {},
     "output_type": "display_data"
    },
    {
     "name": "stderr",
     "output_type": "stream",
     "text": [
      "INFO:filelock:Lock 112660235024 released on /Users/emilysharata/.cache/huggingface/transformers/51ba668f7ff34e7cdfa9561e8361747738113878850a7d717dbc69de8683aaad.c7efaa30a0d80b2958b876969faa180e485944a849deee4ad482332de65365a7.lock\n",
      "Some weights of the model checkpoint at roberta-base were not used when initializing RobertaForSequenceClassification: ['lm_head.bias', 'lm_head.dense.weight', 'lm_head.dense.bias', 'lm_head.layer_norm.weight', 'lm_head.layer_norm.bias', 'lm_head.decoder.weight']\n",
      "- This IS expected if you are initializing RobertaForSequenceClassification from the checkpoint of a model trained on another task or with another architecture (e.g. initializing a BertForSequenceClassification model from a BertForPreTraining model).\n",
      "- This IS NOT expected if you are initializing RobertaForSequenceClassification from the checkpoint of a model that you expect to be exactly identical (initializing a BertForSequenceClassification model from a BertForSequenceClassification model).\n",
      "Some weights of RobertaForSequenceClassification were not initialized from the model checkpoint at roberta-base and are newly initialized: ['classifier.dense.weight', 'classifier.dense.bias', 'classifier.out_proj.weight', 'classifier.out_proj.bias']\n",
      "You should probably TRAIN this model on a down-stream task to be able to use it for predictions and inference.\n",
      "INFO:filelock:Lock 113343741392 acquired on /Users/emilysharata/.cache/huggingface/transformers/d3ccdbfeb9aaa747ef20432d4976c32ee3fa69663b379deb253ccfce2bb1fdc5.d67d6b367eb24ab43b08ad55e014cf254076934f71d832bbab9ad35644a375ab.lock\n"
     ]
    },
    {
     "data": {
      "application/vnd.jupyter.widget-view+json": {
       "model_id": "98a5f30c2151491691339eebb9bc9a15",
       "version_major": 2,
       "version_minor": 0
      },
      "text/plain": [
       "Downloading:   0%|          | 0.00/899k [00:00<?, ?B/s]"
      ]
     },
     "metadata": {},
     "output_type": "display_data"
    },
    {
     "name": "stderr",
     "output_type": "stream",
     "text": [
      "INFO:filelock:Lock 113343741392 released on /Users/emilysharata/.cache/huggingface/transformers/d3ccdbfeb9aaa747ef20432d4976c32ee3fa69663b379deb253ccfce2bb1fdc5.d67d6b367eb24ab43b08ad55e014cf254076934f71d832bbab9ad35644a375ab.lock\n",
      "INFO:filelock:Lock 113343777872 acquired on /Users/emilysharata/.cache/huggingface/transformers/cafdecc90fcab17011e12ac813dd574b4b3fea39da6dd817813efa010262ff3f.5d12962c5ee615a4c803841266e9c3be9a691a924f72d395d3a6c6c81157788b.lock\n"
     ]
    },
    {
     "data": {
      "application/vnd.jupyter.widget-view+json": {
       "model_id": "2e16876a04f348e1b253bc71c5953e71",
       "version_major": 2,
       "version_minor": 0
      },
      "text/plain": [
       "Downloading:   0%|          | 0.00/456k [00:00<?, ?B/s]"
      ]
     },
     "metadata": {},
     "output_type": "display_data"
    },
    {
     "name": "stderr",
     "output_type": "stream",
     "text": [
      "INFO:filelock:Lock 113343777872 released on /Users/emilysharata/.cache/huggingface/transformers/cafdecc90fcab17011e12ac813dd574b4b3fea39da6dd817813efa010262ff3f.5d12962c5ee615a4c803841266e9c3be9a691a924f72d395d3a6c6c81157788b.lock\n",
      "INFO:filelock:Lock 113343740496 acquired on /Users/emilysharata/.cache/huggingface/transformers/d53fc0fa09b8342651efd4073d75e19617b3e51287c2a535becda5808a8db287.fc9576039592f026ad76a1c231b89aee8668488c671dfbe6616bab2ed298d730.lock\n"
     ]
    },
    {
     "data": {
      "application/vnd.jupyter.widget-view+json": {
       "model_id": "bc284f82156e45f1a38c25875aacfd7d",
       "version_major": 2,
       "version_minor": 0
      },
      "text/plain": [
       "Downloading:   0%|          | 0.00/1.36M [00:00<?, ?B/s]"
      ]
     },
     "metadata": {},
     "output_type": "display_data"
    },
    {
     "name": "stderr",
     "output_type": "stream",
     "text": [
      "INFO:filelock:Lock 113343740496 released on /Users/emilysharata/.cache/huggingface/transformers/d53fc0fa09b8342651efd4073d75e19617b3e51287c2a535becda5808a8db287.fc9576039592f026ad76a1c231b89aee8668488c671dfbe6616bab2ed298d730.lock\n"
     ]
    }
   ],
   "source": [
    "# Create a ClassificationModel\n",
    "model = ClassificationModel(\"roberta\", \"roberta-base\", use_cuda=False)"
   ]
  },
  {
   "cell_type": "code",
   "execution_count": 12,
   "metadata": {},
   "outputs": [
    {
     "name": "stderr",
     "output_type": "stream",
     "text": [
      "INFO:simpletransformers.classification.classification_utils: Converting to features started. Cache is not used.\n"
     ]
    },
    {
     "data": {
      "application/vnd.jupyter.widget-view+json": {
       "model_id": "405acd7a063245d199b74254654a575f",
       "version_major": 2,
       "version_minor": 0
      },
      "text/plain": [
       "  0%|          | 0/2 [00:00<?, ?it/s]"
      ]
     },
     "metadata": {},
     "output_type": "display_data"
    },
    {
     "name": "stderr",
     "output_type": "stream",
     "text": [
      "INFO:simpletransformers.classification.classification_utils: Saving features into cached file cache_dir/cached_train_roberta_128_2_3\n"
     ]
    },
    {
     "data": {
      "application/vnd.jupyter.widget-view+json": {
       "model_id": "81c34ea9e8cd4566bf086952b50769cd",
       "version_major": 2,
       "version_minor": 0
      },
      "text/plain": [
       "Epoch:   0%|          | 0/1 [00:00<?, ?it/s]"
      ]
     },
     "metadata": {},
     "output_type": "display_data"
    },
    {
     "data": {
      "application/vnd.jupyter.widget-view+json": {
       "model_id": "29eed90c6b7a4810a39663c226db1051",
       "version_major": 2,
       "version_minor": 0
      },
      "text/plain": [
       "Running Epoch 0 of 1:   0%|          | 0/1 [00:00<?, ?it/s]"
      ]
     },
     "metadata": {},
     "output_type": "display_data"
    },
    {
     "name": "stderr",
     "output_type": "stream",
     "text": [
      "INFO:simpletransformers.classification.classification_model: Training of roberta model complete. Saved to outputs/.\n"
     ]
    },
    {
     "data": {
      "text/plain": [
       "(1, 0.6907705664634705)"
      ]
     },
     "execution_count": 12,
     "metadata": {},
     "output_type": "execute_result"
    }
   ],
   "source": [
    "model.train_model(train_df)"
   ]
  },
  {
   "cell_type": "code",
   "execution_count": 16,
   "metadata": {},
   "outputs": [
    {
     "name": "stderr",
     "output_type": "stream",
     "text": [
      "INFO:simpletransformers.classification.classification_utils: Converting to features started. Cache is not used.\n"
     ]
    },
    {
     "data": {
      "application/vnd.jupyter.widget-view+json": {
       "model_id": "d90979f26ca947f39a1d9f074429a4b5",
       "version_major": 2,
       "version_minor": 0
      },
      "text/plain": [
       "  0%|          | 0/2 [00:00<?, ?it/s]"
      ]
     },
     "metadata": {},
     "output_type": "display_data"
    },
    {
     "name": "stderr",
     "output_type": "stream",
     "text": [
      "INFO:simpletransformers.classification.classification_utils: Saving features into cached file cache_dir/cached_dev_roberta_128_2_3\n"
     ]
    },
    {
     "data": {
      "application/vnd.jupyter.widget-view+json": {
       "model_id": "3b5d7ce5bec04524b31ed288ae9cc2d9",
       "version_major": 2,
       "version_minor": 0
      },
      "text/plain": [
       "Running Evaluation:   0%|          | 0/1 [00:00<?, ?it/s]"
      ]
     },
     "metadata": {},
     "output_type": "display_data"
    },
    {
     "name": "stderr",
     "output_type": "stream",
     "text": [
      "/Users/emilysharata/opt/anaconda3/lib/python3.7/site-packages/sklearn/metrics/classification.py:872: RuntimeWarning: invalid value encountered in double_scalars\n",
      "  mcc = cov_ytyp / np.sqrt(cov_ytyt * cov_ypyp)\n",
      "INFO:simpletransformers.classification.classification_model:{'mcc': 0.0, 'tp': 0, 'tn': 1, 'fp': 0, 'fn': 1, 'auroc': 0.0, 'auprc': 0.5, 'eval_loss': 0.6956838965415955}\n"
     ]
    }
   ],
   "source": [
    "result, model_outputs, wrong_predictions = model.eval_model(\n",
    "    eval_df\n",
    ")"
   ]
  },
  {
   "cell_type": "code",
   "execution_count": 18,
   "metadata": {},
   "outputs": [
    {
     "data": {
      "text/plain": [
       "array([[-0.02729866, -0.07226127],\n",
       "       [-0.03501458, -0.0706532 ]])"
      ]
     },
     "execution_count": 18,
     "metadata": {},
     "output_type": "execute_result"
    }
   ],
   "source": [
    "model_outputs"
   ]
  },
  {
   "cell_type": "code",
   "execution_count": 19,
   "metadata": {},
   "outputs": [
    {
     "name": "stderr",
     "output_type": "stream",
     "text": [
      "INFO:simpletransformers.classification.classification_utils: Converting to features started. Cache is not used.\n"
     ]
    },
    {
     "data": {
      "application/vnd.jupyter.widget-view+json": {
       "model_id": "2a420b3f600a4d00979a5b19c18dd261",
       "version_major": 2,
       "version_minor": 0
      },
      "text/plain": [
       "  0%|          | 0/1 [00:00<?, ?it/s]"
      ]
     },
     "metadata": {},
     "output_type": "display_data"
    },
    {
     "data": {
      "application/vnd.jupyter.widget-view+json": {
       "model_id": "77fcc16f59ad485e81c000fc051549ee",
       "version_major": 2,
       "version_minor": 0
      },
      "text/plain": [
       "  0%|          | 0/1 [00:00<?, ?it/s]"
      ]
     },
     "metadata": {},
     "output_type": "display_data"
    }
   ],
   "source": [
    "predictions, raw_outputs = model.predict(\n",
    "    [\n",
    "        [\n",
    "            \"Legolas was an expert archer\",\n",
    "            \"Legolas was taller than Gimli\",\n",
    "        ]\n",
    "    ]\n",
    ")"
   ]
  },
  {
   "cell_type": "code",
   "execution_count": 21,
   "metadata": {},
   "outputs": [
    {
     "data": {
      "text/plain": [
       "array([[-0.04425328, -0.06486306]])"
      ]
     },
     "execution_count": 21,
     "metadata": {},
     "output_type": "execute_result"
    }
   ],
   "source": [
    "raw_outputs"
   ]
  },
  {
   "cell_type": "code",
   "execution_count": null,
   "metadata": {},
   "outputs": [],
   "source": [
    "import pandas as pd"
   ]
  },
  {
   "cell_type": "code",
   "execution_count": null,
   "metadata": {},
   "outputs": [],
   "source": []
  }
 ],
 "metadata": {
  "kernelspec": {
   "display_name": "Python 3",
   "language": "python",
   "name": "python3"
  },
  "language_info": {
   "codemirror_mode": {
    "name": "ipython",
    "version": 3
   },
   "file_extension": ".py",
   "mimetype": "text/x-python",
   "name": "python",
   "nbconvert_exporter": "python",
   "pygments_lexer": "ipython3",
   "version": "3.7.4"
  }
 },
 "nbformat": 4,
 "nbformat_minor": 2
}
