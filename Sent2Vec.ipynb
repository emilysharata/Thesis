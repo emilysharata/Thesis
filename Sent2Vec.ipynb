{
 "cells": [
  {
   "cell_type": "code",
   "execution_count": 3,
   "metadata": {},
   "outputs": [],
   "source": [
    "import json\n",
    "import os"
   ]
  },
  {
   "cell_type": "code",
   "execution_count": 4,
   "metadata": {},
   "outputs": [],
   "source": [
    "import spacy"
   ]
  },
  {
   "cell_type": "code",
   "execution_count": 5,
   "metadata": {},
   "outputs": [],
   "source": [
    "#Load the job description data \n",
    "data = json.load(open(os.path.expanduser(\"~/Desktop/Thesis/Data/output_V1.1.json\")))"
   ]
  },
  {
   "cell_type": "code",
   "execution_count": 6,
   "metadata": {},
   "outputs": [
    {
     "data": {
      "text/plain": [
       "'<p>Wir sind ein erfolgreiches und unabhängiges Ingenieurbüro in Schönried.<br><br>Zur Verstärkung unseres Teams und um die vielfältigen, interessanten Objekte optimal bearbeiten zu können, suchen wir</p>\\n<h2>Bauingenieur (m/w)</h2>\\n<h3>Ihre Arbeitsgebiete</h3>\\n<p>Konstruktiver Ingenieurbau sowohl in Projektierung&nbsp; als auch in der Bauleitung allgemeiner Tief- und Strassenbau.</p>\\n<h3>Ihr Profil</h3>\\n<p>Sie verfügen über ein abgeschlossenes Studium als Bauingenieur (ETH/TU/FH).</p>\\n<p>Sie möchten Erfahrungen in Projektierung und Bauleitung sammeln.</p>\\n<p>Sie sind umgänglich und wollen sich weiterentwickeln, sind gewohnt mit Druck umzugehen und können auch in hektischen Situationen die Ruhe bewahren.</p>\\n<h3>Ihre Chancen</h3>\\n<p>Sie können Ihre Kenntnisse und Erfahrungen in einem kleinen motivierten Team, mit modernen Arbeitsgeräten und interessanten Objekten erweitern.<br><br>Sie erhalten die Gelegenheit, an der Aufgabe zu wachsen.</p>\\n<h3>Weitere Informationen und Bewerbung</h3>\\n<p>Wir stehen Ihnen gerne für weitere Informationen zur Verfügung und freuen uns auf Ihre Bewerbung.</p>\\n<p>Bitte senden Sie Ihre Unterlagen vorzugsweise per e-Mail an Clewi Haldi, clewi(at)haldi.eu</p>\\n<p>&nbsp;</p>\\n<p>Wir freuen uns auf Ihre Kontaktnahme.</p>\\n<p>Haldi Design AG, Schönried</p>'"
      ]
     },
     "execution_count": 6,
     "metadata": {},
     "output_type": "execute_result"
    }
   ],
   "source": [
    "#View the first entry in the \"Content\" column \n",
    "data[0][\"CONTENT\"]"
   ]
  },
  {
   "cell_type": "code",
   "execution_count": 7,
   "metadata": {},
   "outputs": [
    {
     "data": {
      "text/plain": [
       "1992"
      ]
     },
     "execution_count": 7,
     "metadata": {},
     "output_type": "execute_result"
    }
   ],
   "source": [
    "#Count how many job descriptions contain the word \"the\"\n",
    "probably_english = [x[\"CONTENT\"] for x in data if \"the \" in x[\"CONTENT\"].lower()]\n",
    "len(probably_english)"
   ]
  },
  {
   "cell_type": "code",
   "execution_count": 8,
   "metadata": {},
   "outputs": [],
   "source": [
    "#Define a function that takes in job descriptions and an array of common words that appends to an array every time it finds a common word\n",
    "def wordMatches(phrase, commonWords):\n",
    "    return sum([phrase.count(w+\" \") for w in commonWords])"
   ]
  },
  {
   "cell_type": "code",
   "execution_count": 9,
   "metadata": {},
   "outputs": [],
   "source": [
    "common_english = [\"the\", \"be\", \"to\", \"of\", \"and\", \"a\", \"in\", \"that\", \"have\", \"it\",]\n",
    "english_matches = [wordMatches(x[\"CONTENT\"], common_english) for x in data]"
   ]
  },
  {
   "cell_type": "code",
   "execution_count": 10,
   "metadata": {},
   "outputs": [],
   "source": [
    "common_french = [\"le\", \"de\", \"un\", \"être\", \"et\", \"à\", \"il\", \"avoir\", \"ne\", \"son\"]\n",
    "french_matches = [wordMatches(x[\"CONTENT\"], common_french) for x in data]"
   ]
  },
  {
   "cell_type": "code",
   "execution_count": 11,
   "metadata": {},
   "outputs": [],
   "source": [
    "common_german = [\"der\", \"die\", \"das\", \"und\", \"sein\", \"in\", \"ein\", \"zu\", \"haben\", \"werden\"]\n",
    "german_matches = [wordMatches(x[\"CONTENT\"], common_german) for x in data]"
   ]
  },
  {
   "cell_type": "code",
   "execution_count": 12,
   "metadata": {},
   "outputs": [],
   "source": [
    "english = []\n",
    "french = []\n",
    "german = []\n",
    "missed = []\n",
    "for i, (e, f, g) in enumerate(zip(english_matches, french_matches, german_matches)):\n",
    "    if e > f and e > g:\n",
    "        english.append(data[i])\n",
    "    elif f > e and f > g:\n",
    "        french.append(data[i])\n",
    "    elif g > e and g > f:\n",
    "        german.append(data[i])\n",
    "    else:\n",
    "        missed.append(data[i])"
   ]
  },
  {
   "cell_type": "code",
   "execution_count": 13,
   "metadata": {},
   "outputs": [
    {
     "name": "stdout",
     "output_type": "stream",
     "text": [
      "8115 8565\n"
     ]
    }
   ],
   "source": [
    "#we can see that there are some descriptions that don't contain enough common words in any language. we will have to see if its best to delete these.\n",
    "print(len(english)+len(german)+len(french), len(data))"
   ]
  },
  {
   "cell_type": "code",
   "execution_count": 14,
   "metadata": {},
   "outputs": [
    {
     "name": "stdout",
     "output_type": "stream",
     "text": [
      "Schedule: Full-time\n",
      "\n",
      "Job ID: REQ20000224\n",
      "\n",
      "\n",
      "Brief Description:\n",
      "\n",
      "Responsible for implementation and maintenance of the Quality Assurance Program throughout the UBC and assisting with the implementation and maintenance of the UBC Quality Management System within UBC Pharma Services.\n",
      "\n",
      "Specific Job Duties:\n",
      "\n",
      "\n",
      "* Design and implement and manage an internal audit system of clinical and Pharmacovigilance processes\n",
      "\n",
      "* Review existing SOPs/project specific plans and audit processes to ensure that staff are compliant with process\n",
      "\n",
      "* Create/develop and present training to staff on applicable regulatory requirements\n",
      "\n",
      "* Document audit findings/observations/recommendations in an audit report\n",
      "\n",
      "* Track audit responses from teams\n",
      "\n",
      "* Review audit findings/observations/recommendations and identify process improvement initiatives\n",
      "\n",
      "* Manage and/or conduct audits of internal processes/documentation to assess compliance with applicable regulations as well as UBC SOPs and contractual requirements\n",
      "\n",
      "* Manage and/or conduct process audits in all functional areas\n",
      "\n",
      "* Attend project team meetings, as necessary. Work with Director of Finance and General Manager or Director Regulatory Compliance and Process Implementation to forecast and track resourcing needs on a departmental level versus the annual corporate approved group budget\n",
      "\n",
      "* Manage/coordinate the process of on-site Sponsor and Regulatory Audits - ensure regulatory inspection readiness\n",
      "\n",
      "\n",
      "Requirements:\n",
      "\n",
      "\n",
      "* Proven experience in Quality Assurance within a CRO or Pharmaceutical company\n",
      "\n",
      "* Knowledge of ICH GCP Guidelines, EU and FDA Regulations as well as Guidelines on Good Pharmacovigilance Practice (GVP) OR Good Clinical Practice (GCP)\n",
      "\n",
      "* Good written and verbal communication skills\n",
      "\n",
      "* Strong client auditing experience\n",
      "\n",
      "* Advanced training in clinical Quality Assurance\n",
      "\n",
      "\n",
      "*LI-CD1-UBC\n",
      "\n",
      "\n",
      "ABOUT UBC Europe\n",
      "\n",
      "United BioSource Corporation (UBC) is the leading provider of integrated development and commercial support solutions that deliver evidence of safe use, while optimizing access to mediation and care.\n",
      "\n",
      "\n",
      "UBC leverages our specialty pharmacy therapy expertise and contracts for specialty pharmacy and specialty distribution services.\n",
      "\n",
      "\n",
      "UBC's services include reimbursement, patient assistance and alternate funding programs, channel optimization through specialty pharmacy, specialty distribution and 3PL services, Customized clinical adherence and commercialization strategies powered by Express Scripts data.\n"
     ]
    }
   ],
   "source": [
    "#Looking at first job description in English\n",
    "print(english[0][\"CONTENT\"])"
   ]
  },
  {
   "cell_type": "code",
   "execution_count": 15,
   "metadata": {},
   "outputs": [],
   "source": [
    "import pandas as pd"
   ]
  },
  {
   "cell_type": "code",
   "execution_count": null,
   "metadata": {},
   "outputs": [],
   "source": [
    "# Report the number of sentences in the first job description."
   ]
  },
  {
   "cell_type": "code",
   "execution_count": 16,
   "metadata": {},
   "outputs": [
    {
     "name": "stdout",
     "output_type": "stream",
     "text": [
      "Number of sentences is 59\n",
      "The first 10 are ['Schedule: Full-time', '', 'Job ID: REQ20000224', '', '', 'Brief Description:', '', 'Responsible for implementation and maintenance of the Quality Assurance Program throughout the UBC and assisting with the implementation and maintenance of the UBC Quality Management System within UBC Pharma Services.', '', 'Specific Job Duties:']\n"
     ]
    }
   ],
   "source": [
    "by_sentence = english[0][\"CONTENT\"].split(\"\\n\")\n",
    "print(\"Number of sentences is\", len(by_sentence))\n",
    "print(\"The first 10 are\", by_sentence[:10])"
   ]
  },
  {
   "cell_type": "code",
   "execution_count": 17,
   "metadata": {},
   "outputs": [],
   "source": [
    "import logging\n",
    "\n",
    "logging.basicConfig(level=logging.INFO)"
   ]
  },
  {
   "cell_type": "code",
   "execution_count": 18,
   "metadata": {},
   "outputs": [],
   "source": [
    "#Just to try some basic manipulation/sentence similarity matching, lets look at some of the jobs related to \"sustainability\"\n",
    "sustain = []\n",
    "for e in english:\n",
    "    if \"Sustain\" in e[\"JOBTITEL\"]:\n",
    "        sustain.append(e)"
   ]
  },
  {
   "cell_type": "code",
   "execution_count": 19,
   "metadata": {},
   "outputs": [],
   "source": [
    "#Looks like one of the jobs related to sustainability is for Starbucks. We will name this \"starbucks\"\n",
    "starbucks = sustain[0][\"CONTENT\"]\n",
    "starbucks_sentence = [x.strip(\"*\") for x in starbucks.split(\"\\n\") if x != '']"
   ]
  },
  {
   "cell_type": "code",
   "execution_count": 20,
   "metadata": {},
   "outputs": [],
   "source": [
    "import pandas as pd\n"
   ]
  },
  {
   "cell_type": "code",
   "execution_count": 21,
   "metadata": {},
   "outputs": [],
   "source": [
    "#Load the activities file and call it df\n",
    "df = pd.read_csv(os.path.expanduser(\"~/Desktop/Thesis/Data/Activities.csv\"), error_bad_lines=False)"
   ]
  },
  {
   "cell_type": "code",
   "execution_count": 22,
   "metadata": {},
   "outputs": [],
   "source": [
    "#Rename the columns of the activities file so they are more usable. We will be using the activities as desribed by short sentences\n",
    "newdf = df.rename(columns={'O*Net\\nMétiers verts' : \"label\", 'O\"Net: Détails des activités pour les métiers verts' : \"activities\"})"
   ]
  },
  {
   "cell_type": "code",
   "execution_count": 23,
   "metadata": {},
   "outputs": [
    {
     "data": {
      "text/html": [
       "<div>\n",
       "<style scoped>\n",
       "    .dataframe tbody tr th:only-of-type {\n",
       "        vertical-align: middle;\n",
       "    }\n",
       "\n",
       "    .dataframe tbody tr th {\n",
       "        vertical-align: top;\n",
       "    }\n",
       "\n",
       "    .dataframe thead th {\n",
       "        text-align: right;\n",
       "    }\n",
       "</style>\n",
       "<table border=\"1\" class=\"dataframe\">\n",
       "  <thead>\n",
       "    <tr style=\"text-align: right;\">\n",
       "      <th></th>\n",
       "      <th>label</th>\n",
       "      <th>activities</th>\n",
       "    </tr>\n",
       "  </thead>\n",
       "  <tbody>\n",
       "    <tr>\n",
       "      <td>3</td>\n",
       "      <td>4.A.1.a.1.G01</td>\n",
       "      <td>Collect geographic information systems (GIS) d...</td>\n",
       "    </tr>\n",
       "    <tr>\n",
       "      <td>4</td>\n",
       "      <td>4.A.1.a.1.G02</td>\n",
       "      <td>Collect geological data.</td>\n",
       "    </tr>\n",
       "    <tr>\n",
       "      <td>5</td>\n",
       "      <td>4.A.1.a.1.G03</td>\n",
       "      <td>Collect data about green practices or programs.</td>\n",
       "    </tr>\n",
       "    <tr>\n",
       "      <td>6</td>\n",
       "      <td>4.A.1.a.1.G04</td>\n",
       "      <td>Collect energy use data.</td>\n",
       "    </tr>\n",
       "    <tr>\n",
       "      <td>7</td>\n",
       "      <td>4.A.1.a.1.G05</td>\n",
       "      <td>Collect product or environmental samples for t...</td>\n",
       "    </tr>\n",
       "    <tr>\n",
       "      <td>...</td>\n",
       "      <td>...</td>\n",
       "      <td>...</td>\n",
       "    </tr>\n",
       "    <tr>\n",
       "      <td>222</td>\n",
       "      <td>4.A.4.b.6.G05</td>\n",
       "      <td>Advise others on green engineering or design i...</td>\n",
       "    </tr>\n",
       "    <tr>\n",
       "      <td>223</td>\n",
       "      <td>4.A.4.b.6.G06</td>\n",
       "      <td>Advise others on green investments.</td>\n",
       "    </tr>\n",
       "    <tr>\n",
       "      <td>224</td>\n",
       "      <td>4.A.4.b.6.G07</td>\n",
       "      <td>Advise others on environmental remediation or ...</td>\n",
       "    </tr>\n",
       "    <tr>\n",
       "      <td>225</td>\n",
       "      <td>4.A.4.b.6.G08</td>\n",
       "      <td>Provide technical guidance on green projects.</td>\n",
       "    </tr>\n",
       "    <tr>\n",
       "      <td>227</td>\n",
       "      <td>4.A.4.c.1.G01</td>\n",
       "      <td>Obtain permits.</td>\n",
       "    </tr>\n",
       "  </tbody>\n",
       "</table>\n",
       "<p>170 rows × 2 columns</p>\n",
       "</div>"
      ],
      "text/plain": [
       "             label                                         activities\n",
       "3    4.A.1.a.1.G01  Collect geographic information systems (GIS) d...\n",
       "4    4.A.1.a.1.G02                           Collect geological data.\n",
       "5    4.A.1.a.1.G03    Collect data about green practices or programs.\n",
       "6    4.A.1.a.1.G04                           Collect energy use data.\n",
       "7    4.A.1.a.1.G05  Collect product or environmental samples for t...\n",
       "..             ...                                                ...\n",
       "222  4.A.4.b.6.G05  Advise others on green engineering or design i...\n",
       "223  4.A.4.b.6.G06                Advise others on green investments.\n",
       "224  4.A.4.b.6.G07  Advise others on environmental remediation or ...\n",
       "225  4.A.4.b.6.G08      Provide technical guidance on green projects.\n",
       "227  4.A.4.c.1.G01                                    Obtain permits.\n",
       "\n",
       "[170 rows x 2 columns]"
      ]
     },
     "execution_count": 23,
     "metadata": {},
     "output_type": "execute_result"
    }
   ],
   "source": [
    "newdf[[\"label\", \"activities\"]][~newdf[\"label\"].isna()]"
   ]
  },
  {
   "cell_type": "code",
   "execution_count": 24,
   "metadata": {},
   "outputs": [],
   "source": [
    "#Find all the activities that contain the word \"sustain\". We will try to see if they share similarity with the starbucks job.\n",
    "sustain_acts = [a for a in newdf[\"activities\"] if \"sustain\" in str(a).lower()]"
   ]
  },
  {
   "cell_type": "code",
   "execution_count": 25,
   "metadata": {},
   "outputs": [
    {
     "data": {
      "text/plain": [
       "0      Where and how are the information and data gai...\n",
       "1       Observing, receiving, and otherwise obtaining...\n",
       "2                                                    NaN\n",
       "3      Collect geographic information systems (GIS) d...\n",
       "4                               Collect geological data.\n",
       "                             ...                        \n",
       "225        Provide technical guidance on green projects.\n",
       "226    Performing day-to-day administrative tasks suc...\n",
       "227                                      Obtain permits.\n",
       "228     Recruiting, interviewing, selecting, hiring, ...\n",
       "229     Monitoring and controlling resources and over...\n",
       "Name: activities, Length: 230, dtype: object"
      ]
     },
     "execution_count": 25,
     "metadata": {},
     "output_type": "execute_result"
    }
   ],
   "source": [
    "#Look briefly at all the activites\n",
    "newdf[\"activities\"]"
   ]
  },
  {
   "cell_type": "code",
   "execution_count": 26,
   "metadata": {},
   "outputs": [
    {
     "name": "stdout",
     "output_type": "stream",
     "text": [
      "['Monitor sustainability indicators or other measures of green program effectiveness.', 'Develop environmental sustainability plans or projects. ', 'Design sustainable industrial processes or technologies.']\n",
      "The number of activities that contain the word sustain are 3\n"
     ]
    }
   ],
   "source": [
    "#Look at just the activities that contain the word \"sustain\"\n",
    "print(sustain_acts)\n",
    "print(\"The number of activities that contain the word sustain are\",len(sustain_acts))"
   ]
  },
  {
   "cell_type": "code",
   "execution_count": 27,
   "metadata": {},
   "outputs": [
    {
     "name": "stdout",
     "output_type": "stream",
     "text": [
      "Starbucks Coffee Trading Company (SCTC), based in Lausanne, an affiliate company of Starbucks Coffee Company, is responsible for all of Starbucks green coffee purchasing functions and continues an unwavering commitment to sourcing, roasting and delivering only the highest quality Arabica coffees.\n",
      "\n",
      "In order to strengthen our current organization, we are recruiting aSustainability Specialist (full-time).\n",
      "\n",
      "Responsibilities and essential job functions include but are not limited to the following:\n",
      "\n",
      "\n",
      "* Subject to coffee and coffee production experience, will help drive the evolution and development of our Ethical Sourcing Programs standards and indicators.\n",
      "\n",
      "* Provide support and coordination in planning events related to all aspects of the administration of Ethical Coffee Sourcing Programs program. Support 3rd Party audit activity preparation, verification monitoring and shadow audits.\n",
      "\n",
      "* Track annual purchasing data for further reporting into Global Responsibility. Transparency and traceability data input, extractions, analysis. Identify problem areas, inconsistencies, etc., and raise awareness with team.\n",
      "\n",
      "* Support CAFÉ & Cocoa Practices program development:\n",
      "\n",
      "\n",
      "* Identification and tracking the implementation of critical indicators in addition to Zero Tolerance indicators.\n",
      "\n",
      "* Multi-roaster sustainability program development and implementation.\n",
      "\n",
      "\n",
      "* Lead annual external and internal audit requirements on sustainability and Ethical Sourcing. Fair Trade quarterly and annual reporting.\n",
      "\n",
      "* Handle increasing number of internal / external compliance / traceability / transparency / tracking queries.\n",
      "\n",
      "* Improve reliability and controls of information entered in various reporting systems, Access, Verifier Reporting System (VRS) platform. Support the implementation of new functionalities / extraction of available data for planning use by trading team.\n",
      "\n",
      "\n",
      "The successful candidate should have the following experience:\n",
      "\n",
      "\n",
      "* Excellent verbal and written communication skills in English and Spanish are essential. French and Brazilian Portuguese a plus.\n",
      "\n",
      "* Business Bachelor in agronomy or sustainability, or equivalent combination of work experiences and trainings in coffee or other agricultural commodity with varied and complex supply-chains.\n",
      "\n",
      "* Minimum of 3 years of progressive business experience in sourcing, customer service, administrative support or other analytical/business function.\n",
      "\n",
      "* Experience in coffee & coffee origin countries desirable - a definite plus.\n",
      "\n",
      "* Solid experience in international and multi-cultural working environments. Work experience in developing countries is an advantage.\n",
      "\n",
      "* Ability to work well independently as well as part of a team.\n",
      "\n",
      "* Strong attention to detail and efficient organizational skills. Flexibility to adjust to a changing workload to ensure timely results and respect deadlines.\n",
      "\n",
      "* Ability to lead multiple projects and working groups. Communicate effectively to a wide range of internal and external stakeholders and be able to identify inefficiencies and clarify misalignments in a analytical manner that generates fair and prompt resolution of problems.\n",
      "\n",
      "* Computer skills: Advanced Microsoft Office; proficiency in Excel, Access and general database management; Oracle; understanding of computer programming is a plus.\n",
      "\n",
      "\n",
      "If you are interested in this position, we look forward to receiving your application in English by email to: sctcrecruitment@starbucks.com contact person Ayda Kobler.Closing datefor applications:January 26th, 2017.\n",
      "\n",
      "\n",
      "www.starbucks-jobs.ch\n"
     ]
    }
   ],
   "source": [
    "#Take a look at the Starbucks description again\n",
    "print(starbucks)"
   ]
  },
  {
   "cell_type": "code",
   "execution_count": 28,
   "metadata": {},
   "outputs": [
    {
     "name": "stdout",
     "output_type": "stream",
     "text": [
      "['Starbucks Coffee Trading Company (SCTC), based in Lausanne, an affiliate company of Starbucks Coffee Company, is responsible for all of Starbucks green coffee purchasing functions and continues an unwavering commitment to sourcing, roasting and delivering only the highest quality Arabica coffees.', 'In order to strengthen our current organization, we are recruiting aSustainability Specialist (full-time).', 'Responsibilities and essential job functions include but are not limited to the following:', ' Subject to coffee and coffee production experience, will help drive the evolution and development of our Ethical Sourcing Programs standards and indicators.', ' Provide support and coordination in planning events related to all aspects of the administration of Ethical Coffee Sourcing Programs program. Support 3rd Party audit activity preparation, verification monitoring and shadow audits.', ' Track annual purchasing data for further reporting into Global Responsibility. Transparency and traceability data input, extractions, analysis. Identify problem areas, inconsistencies, etc., and raise awareness with team.', ' Support CAFÉ & Cocoa Practices program development:', ' Identification and tracking the implementation of critical indicators in addition to Zero Tolerance indicators.', ' Multi-roaster sustainability program development and implementation.', ' Lead annual external and internal audit requirements on sustainability and Ethical Sourcing. Fair Trade quarterly and annual reporting.', ' Handle increasing number of internal / external compliance / traceability / transparency / tracking queries.', ' Improve reliability and controls of information entered in various reporting systems, Access, Verifier Reporting System (VRS) platform. Support the implementation of new functionalities / extraction of available data for planning use by trading team.', 'The successful candidate should have the following experience:', ' Excellent verbal and written communication skills in English and Spanish are essential. French and Brazilian Portuguese a plus.', ' Business Bachelor in agronomy or sustainability, or equivalent combination of work experiences and trainings in coffee or other agricultural commodity with varied and complex supply-chains.', ' Minimum of 3 years of progressive business experience in sourcing, customer service, administrative support or other analytical/business function.', ' Experience in coffee & coffee origin countries desirable - a definite plus.', ' Solid experience in international and multi-cultural working environments. Work experience in developing countries is an advantage.', ' Ability to work well independently as well as part of a team.', ' Strong attention to detail and efficient organizational skills. Flexibility to adjust to a changing workload to ensure timely results and respect deadlines.', ' Ability to lead multiple projects and working groups. Communicate effectively to a wide range of internal and external stakeholders and be able to identify inefficiencies and clarify misalignments in a analytical manner that generates fair and prompt resolution of problems.', ' Computer skills: Advanced Microsoft Office; proficiency in Excel, Access and general database management; Oracle; understanding of computer programming is a plus.', 'If you are interested in this position, we look forward to receiving your application in English by email to: sctcrecruitment@starbucks.com contact person Ayda Kobler.Closing datefor applications:January 26th, 2017.', 'www.starbucks-jobs.ch']\n"
     ]
    }
   ],
   "source": [
    "print(starbucks_sentence)"
   ]
  },
  {
   "cell_type": "code",
   "execution_count": 29,
   "metadata": {},
   "outputs": [],
   "source": [
    "from scipy import spatial\n",
    "import numpy as np"
   ]
  },
  {
   "cell_type": "code",
   "execution_count": 30,
   "metadata": {},
   "outputs": [
    {
     "name": "stderr",
     "output_type": "stream",
     "text": [
      "/Users/emilysharata/opt/anaconda3/lib/python3.7/site-packages/gensim/similarities/__init__.py:15: UserWarning: The gensim.similarities.levenshtein submodule is disabled, because the optional Levenshtein package <https://pypi.org/project/python-Levenshtein/> is unavailable. Install Levenhstein (e.g. `pip install python-Levenshtein`) to suppress this warning.\n",
      "  warnings.warn(msg)\n"
     ]
    }
   ],
   "source": [
    "from sent2vec.vectorizer import Vectorizer"
   ]
  },
  {
   "cell_type": "code",
   "execution_count": 43,
   "metadata": {},
   "outputs": [],
   "source": [
    "vectorizer = Vectorizer()"
   ]
  },
  {
   "cell_type": "code",
   "execution_count": 44,
   "metadata": {},
   "outputs": [
    {
     "data": {
      "text/plain": [
       "[]"
      ]
     },
     "execution_count": 44,
     "metadata": {},
     "output_type": "execute_result"
    }
   ],
   "source": [
    "vectorizer.vectors"
   ]
  },
  {
   "cell_type": "code",
   "execution_count": 45,
   "metadata": {},
   "outputs": [],
   "source": [
    "#vectorizer.bert(sustain_acts + starbucks_sentence)"
   ]
  },
  {
   "cell_type": "code",
   "execution_count": 46,
   "metadata": {},
   "outputs": [],
   "source": [
    "#vectors_bert_star = vectorizer.vectors"
   ]
  },
  {
   "cell_type": "code",
   "execution_count": 47,
   "metadata": {},
   "outputs": [
    {
     "name": "stdout",
     "output_type": "stream",
     "text": [
      "27 24\n"
     ]
    },
    {
     "data": {
      "text/plain": [
       "array([[ 0.10083248, -0.2559276 ,  0.25373894, ..., -0.04750134,\n",
       "         0.49411827, -0.01433489],\n",
       "       [ 0.22708401, -0.24253352,  0.19259986, ..., -0.01968886,\n",
       "         0.5213354 , -0.06281801],\n",
       "       [ 0.18757936, -0.20222832,  0.21969041, ..., -0.03970376,\n",
       "         0.52207696, -0.01737296],\n",
       "       ...,\n",
       "       [-0.3808492 , -0.17122799, -0.01378075, ..., -0.02913184,\n",
       "         0.45424843,  0.16941491],\n",
       "       [-0.09688131, -0.0369665 ,  0.0582107 , ..., -0.02043307,\n",
       "         0.21404622,  0.638735  ],\n",
       "       [ 0.17177413, -0.1992814 ,  0.2103268 , ...,  0.04191228,\n",
       "         0.6096772 , -0.0271646 ]], dtype=float32)"
      ]
     },
     "execution_count": 47,
     "metadata": {},
     "output_type": "execute_result"
    }
   ],
   "source": [
    "#print(len(vectors_bert_star),len(starbucks_sentence))\n",
    "#vectors_bert_star"
   ]
  },
  {
   "cell_type": "code",
   "execution_count": 51,
   "metadata": {},
   "outputs": [],
   "source": [
    "vectorizer.bert(sustain_acts+starbucks_sentence)\n",
    "vectors_bert_all = vectorizer.vectors"
   ]
  },
  {
   "cell_type": "code",
   "execution_count": 149,
   "metadata": {},
   "outputs": [
    {
     "data": {
      "text/plain": [
       "array([[ 0.00998792, -0.515236  , -0.4422387 , ..., -0.28360677,\n",
       "         0.97924036,  0.10759158],\n",
       "       [ 0.24797446, -0.3398302 , -0.206575  , ..., -0.23113875,\n",
       "         1.0178344 ,  0.1125699 ],\n",
       "       [ 0.09938529, -0.19218685, -0.13090894, ..., -0.14742354,\n",
       "         0.92989254,  0.28508624]], dtype=float32)"
      ]
     },
     "execution_count": 149,
     "metadata": {},
     "output_type": "execute_result"
    }
   ],
   "source": [
    "vectors_bert_all"
   ]
  },
  {
   "cell_type": "code",
   "execution_count": null,
   "metadata": {},
   "outputs": [],
   "source": [
    "from scipy import spatial"
   ]
  },
  {
   "cell_type": "code",
   "execution_count": 48,
   "metadata": {},
   "outputs": [],
   "source": [
    "df = pd.DataFrame(columns=[\"sentence\", \"activity1\", \"activity2\", \"activity3\"])"
   ]
  },
  {
   "cell_type": "code",
   "execution_count": 49,
   "metadata": {},
   "outputs": [],
   "source": [
    "messages = sustain_acts + starbucks_sentence"
   ]
  },
  {
   "cell_type": "code",
   "execution_count": 52,
   "metadata": {},
   "outputs": [],
   "source": [
    "for i, v in enumerate(vectors_bert_all):\n",
    "    dist_1 = spatial.distance.cosine(vectors_bert_all[0], v)\n",
    "    dist_2 = spatial.distance.cosine(vectors_bert_all[1], v)\n",
    "    dist_3 = spatial.distance.cosine(vectors_bert_all[2], v)\n",
    "    df = df.append({\"sentence\" : messages[i], \"activity1\" : dist_1, \"activity2\" : dist_2, \"activity3\" : dist_3}, ignore_index=True)"
   ]
  },
  {
   "cell_type": "code",
   "execution_count": 53,
   "metadata": {},
   "outputs": [
    {
     "name": "stdout",
     "output_type": "stream",
     "text": [
      "11\n",
      "activity1 is  Monitor sustainability indicators or other measures of green program effectiveness.\n",
      "--> Best match is  Multi-roaster sustainability program development and implementation.\n",
      "11\n",
      "activity2 is  Develop environmental sustainability plans or projects. \n",
      "--> Best match is  Multi-roaster sustainability program development and implementation.\n",
      "11\n",
      "activity3 is  Design sustainable industrial processes or technologies.\n",
      "--> Best match is  Multi-roaster sustainability program development and implementation.\n"
     ]
    }
   ],
   "source": [
    "for i in range(3):\n",
    "    label = \"activity%i\" % (i+1)\n",
    "    senmatch = df[label][3:].idxmin()\n",
    "    print(senmatch)\n",
    "    print(\"%s is \" % label, messages[i])\n",
    "    print(\"--> Best match is\", df[\"sentence\"][senmatch])"
   ]
  },
  {
   "cell_type": "code",
   "execution_count": 179,
   "metadata": {},
   "outputs": [
    {
     "data": {
      "text/html": [
       "<div>\n",
       "<style scoped>\n",
       "    .dataframe tbody tr th:only-of-type {\n",
       "        vertical-align: middle;\n",
       "    }\n",
       "\n",
       "    .dataframe tbody tr th {\n",
       "        vertical-align: top;\n",
       "    }\n",
       "\n",
       "    .dataframe thead th {\n",
       "        text-align: right;\n",
       "    }\n",
       "</style>\n",
       "<table border=\"1\" class=\"dataframe\">\n",
       "  <thead>\n",
       "    <tr style=\"text-align: right;\">\n",
       "      <th></th>\n",
       "      <th>sentence1</th>\n",
       "      <th>sentence2</th>\n",
       "      <th>sentence3</th>\n",
       "    </tr>\n",
       "  </thead>\n",
       "  <tbody>\n",
       "  </tbody>\n",
       "</table>\n",
       "</div>"
      ],
      "text/plain": [
       "Empty DataFrame\n",
       "Columns: [sentence1, sentence2, sentence3]\n",
       "Index: []"
      ]
     },
     "execution_count": 179,
     "metadata": {},
     "output_type": "execute_result"
    }
   ],
   "source": [
    "maxvals = pd.DataFrame(columns=[\"sentence1\", \"sentence2\", \"sentence3\"])\n",
    "maxvals"
   ]
  },
  {
   "cell_type": "code",
   "execution_count": 180,
   "metadata": {},
   "outputs": [],
   "source": [
    "\n",
    "for i, v in enumerate(vectors_bert_all[3:]):\n",
    "    dist_1 = spatial.distance.cosine(vectors_bert_all[0], v)\n",
    "    dist_2 = spatial.distance.cosine(vectors_bert_all[1], v)\n",
    "    dist_3 = spatial.distance.cosine(vectors_bert_all[2], v)\n",
    "    maxvals = maxvals.append({\"sentence1\" : dist_1, \"sentence2\" : dist_2, \"sentence3\" : dist_3}, ignore_index=True)"
   ]
  },
  {
   "cell_type": "code",
   "execution_count": 186,
   "metadata": {},
   "outputs": [
    {
     "name": "stdout",
     "output_type": "stream",
     "text": [
      "0\n",
      "45\n",
      "45\n",
      "Develop environmental sustainability plans or projects.  * Ability to lead multiple projects and working groups. Communicate effectively to a wide range of internal and external stakeholders and be able to identify inefficiencies and clarify misalignments in a analytical manner that generates fair and prompt resolution of problems.\n",
      "Monitor sustainability indicators or other measures of green program effectiveness. Starbucks Coffee Trading Company (SCTC), based in Lausanne, an affiliate company of Starbucks Coffee Company, is responsible for all of Starbucks green coffee purchasing functions and continues an unwavering commitment to sourcing, roasting and delivering only the highest quality Arabica coffees.\n"
     ]
    }
   ],
   "source": [
    "print(maxvals[\"sentence1\"].idxmax())\n",
    "print(maxvals[\"sentence2\"].idxmax())\n",
    "print(maxvals[\"sentence3\"].idxmax())\n",
    "\n",
    "print(sustain_acts[1], starbucks_sentence[45])\n",
    "print(sustain_acts[0], starbucks_sentence[0])"
   ]
  },
  {
   "cell_type": "code",
   "execution_count": 191,
   "metadata": {},
   "outputs": [
    {
     "name": "stdout",
     "output_type": "stream",
     "text": [
      "Average sentence1 0.08423543969790141\n",
      "Max sentence1 0.2450575828552246\n",
      "0.08423543969790141\n",
      "0.079433955528118\n"
     ]
    }
   ],
   "source": [
    "print(\"Average sentence1\", np.sum(maxvals[\"sentence1\"])/len(maxvals))\n",
    "print(\"Max sentence1\", np.max(maxvals[\"sentence1\"]))\n",
    "print(np.sum(maxvals[\"sentence1\"])/len(maxvals))\n",
    "print(np.sum(maxvals[\"sentence2\"])/len(maxvals))"
   ]
  }
 ],
 "metadata": {
  "kernelspec": {
   "display_name": "Python 3",
   "language": "python",
   "name": "python3"
  },
  "language_info": {
   "codemirror_mode": {
    "name": "ipython",
    "version": 3
   },
   "file_extension": ".py",
   "mimetype": "text/x-python",
   "name": "python",
   "nbconvert_exporter": "python",
   "pygments_lexer": "ipython3",
   "version": "3.7.4"
  }
 },
 "nbformat": 4,
 "nbformat_minor": 2
}
