{
 "cells": [
  {
   "cell_type": "code",
   "execution_count": 1,
   "id": "77730b2b",
   "metadata": {},
   "outputs": [],
   "source": [
    "%load_ext autoreload\n",
    "%autoreload 2\n",
    "from Methods import JobOffers,dataframeHelpers"
   ]
  },
  {
   "cell_type": "code",
   "execution_count": 2,
   "id": "6ebbc8a9",
   "metadata": {},
   "outputs": [],
   "source": [
    "import os\n",
    "import nltk\n",
    "import re\n",
    "import pandas as pd\n",
    "import numpy as np\n",
    "import tensorflow as tf\n",
    "import tensorflow_hub as hub\n",
    "import matplotlib.pyplot as plt"
   ]
  },
  {
   "cell_type": "code",
   "execution_count": 3,
   "id": "fc0ee1a0",
   "metadata": {},
   "outputs": [],
   "source": [
    "autoreload JobOffers,dataframeHelpers"
   ]
  },
  {
   "cell_type": "code",
   "execution_count": 4,
   "id": "6810724a",
   "metadata": {},
   "outputs": [],
   "source": [
    "# Only run this if you want to redo the translations\n",
    "# Start with google and use easynmt if it fails\n",
    "# JobOffers.writeTranslatedJobs(1000, method=\"google\", fallback=True)"
   ]
  },
  {
   "cell_type": "code",
   "execution_count": 5,
   "id": "b981ea5d",
   "metadata": {},
   "outputs": [],
   "source": [
    "# rawOffers = JobOffers.readJsonFile(\"Data/output_v1.1.json\")"
   ]
  },
  {
   "cell_type": "code",
   "execution_count": 6,
   "id": "97646346",
   "metadata": {},
   "outputs": [],
   "source": [
    "mergedDf = pd.read_csv(\"Data/mergedJobs1000.csv\")"
   ]
  },
  {
   "cell_type": "code",
   "execution_count": 7,
   "id": "former-correspondence",
   "metadata": {},
   "outputs": [
    {
     "data": {
      "text/plain": [
       "1101"
      ]
     },
     "execution_count": 7,
     "metadata": {},
     "output_type": "execute_result"
    }
   ],
   "source": [
    "len(mergedDf)"
   ]
  },
  {
   "cell_type": "code",
   "execution_count": 8,
   "id": "54f4b70d",
   "metadata": {},
   "outputs": [],
   "source": [
    "for canton in mergedDf[\"CANTON1\"].value_counts().index[:-1]:\n",
    "    mergedDf[f\"Canton_{canton}\"] = mergedDf.apply(lambda x: canton in x[\"CANTON\"], axis=1)"
   ]
  },
  {
   "cell_type": "code",
   "execution_count": 9,
   "id": "f3700b53",
   "metadata": {},
   "outputs": [],
   "source": [
    "dummies = pd.get_dummies(mergedDf[\"COMPANY_SIZE\"])\n",
    "mergedDf = mergedDf.join(dummies)"
   ]
  },
  {
   "cell_type": "code",
   "execution_count": 10,
   "id": "88d6a83f",
   "metadata": {},
   "outputs": [
    {
     "data": {
      "text/plain": [
       "1.0    304\n",
       "0.0    237\n",
       "Name: MJ, dtype: int64"
      ]
     },
     "execution_count": 10,
     "metadata": {},
     "output_type": "execute_result"
    }
   ],
   "source": [
    "mergedDf[\"MJ\"].value_counts()"
   ]
  },
  {
   "cell_type": "code",
   "execution_count": null,
   "id": "ee95e080",
   "metadata": {},
   "outputs": [],
   "source": []
  },
  {
   "cell_type": "code",
   "execution_count": 11,
   "id": "08660c34",
   "metadata": {},
   "outputs": [
    {
     "data": {
      "text/plain": [
       "'Building leaders Horticultural technician HF The Aemmer AG has been preparing sophisticated and beautiful garden and sports facilities for over 85 years. As a traditional family business with 35 employees and the most modern machinery, we strive to afford proper work. For expanding our team, we are looking for immediate or after agreement building guideline horticultural technician HF their area of \\u200b\\u200bresponsibility they are involved in the entire expiration of the planning offensea before and construction management to billing. Your areas of responsibility include sophisticated new plant garden change in private and public areas. Our expectations independence as well as joy in working in a team. In addition to flexibility of versatility and commitment should, above all, enjoy the contact with our customers. We offer we offer you a challenging versatile and self-employed activity of a modern dynamic and family operation. A pleasant working atmosphere in a motivated team and attractive techniques. Feel address then send us your complete application documents with photo to Mr. Alfred R. Grand Managing Director. Aemmer AG Garden and Sportplatzbau Oeleweg 12 3250 Lyss Tel. No. 032 387 79 50 a. Basic enslarge construction. CH landscape gardener as a foreman group boss We are a renowned company in the Bernese Zealand with 35 employees and the most modern machine park. We are active in the fields of horticulture sports fields and garden maintenance. At the center of our actions is our demanding and loyal clientele. They are a trained landscape gardener at least 25 years old and already have first experiences as a foreman or group boss. You are happy to work in a dynamic team looking forward to new interesting gardening challenges and ... Contact Alfred R. Grand Managing Director Aemmer AG Oeleweg 12 3250 Lyss Tel. 032 387 79 50'"
      ]
     },
     "execution_count": 11,
     "metadata": {},
     "output_type": "execute_result"
    }
   ],
   "source": [
    "mergedDf.iloc[0][\"TRANSLATED_JOBS\"]"
   ]
  },
  {
   "cell_type": "code",
   "execution_count": 12,
   "id": "04cfb4e1",
   "metadata": {},
   "outputs": [],
   "source": [
    "labeledDf = mergedDf[~mergedDf[\"MJ\"].isna()]"
   ]
  },
  {
   "cell_type": "code",
   "execution_count": 13,
   "id": "49b8f106",
   "metadata": {},
   "outputs": [
    {
     "data": {
      "text/html": [
       "<div>\n",
       "<style scoped>\n",
       "    .dataframe tbody tr th:only-of-type {\n",
       "        vertical-align: middle;\n",
       "    }\n",
       "\n",
       "    .dataframe tbody tr th {\n",
       "        vertical-align: top;\n",
       "    }\n",
       "\n",
       "    .dataframe thead th {\n",
       "        text-align: right;\n",
       "    }\n",
       "</style>\n",
       "<table border=\"1\" class=\"dataframe\">\n",
       "  <thead>\n",
       "    <tr style=\"text-align: right;\">\n",
       "      <th></th>\n",
       "      <th>Unnamed: 0</th>\n",
       "      <th>index</th>\n",
       "      <th>JOB_ID</th>\n",
       "      <th>MJ</th>\n",
       "      <th>ISCO</th>\n",
       "      <th>JOB_CONTENT</th>\n",
       "      <th>TRANSLATED_JOBS</th>\n",
       "      <th>CANTON</th>\n",
       "      <th>COMPANY_SIZE</th>\n",
       "      <th>NumSentences</th>\n",
       "      <th>...</th>\n",
       "      <th>Canton_GE</th>\n",
       "      <th>Canton_NE</th>\n",
       "      <th>Canton_FR</th>\n",
       "      <th>Canton_VS</th>\n",
       "      <th>Canton_JU</th>\n",
       "      <th>Canton_AR</th>\n",
       "      <th>Large</th>\n",
       "      <th>Micro</th>\n",
       "      <th>Midsize</th>\n",
       "      <th>Small</th>\n",
       "    </tr>\n",
       "  </thead>\n",
       "  <tbody>\n",
       "    <tr>\n",
       "      <th>0</th>\n",
       "      <td>0</td>\n",
       "      <td>0</td>\n",
       "      <td>12047533.0</td>\n",
       "      <td>1.0</td>\n",
       "      <td>31230;12190;21620</td>\n",
       "      <td>['Building leaders Horticultural technician HF...</td>\n",
       "      <td>Building leaders Horticultural technician HF T...</td>\n",
       "      <td>['BE']</td>\n",
       "      <td>Micro</td>\n",
       "      <td>25</td>\n",
       "      <td>...</td>\n",
       "      <td>False</td>\n",
       "      <td>False</td>\n",
       "      <td>False</td>\n",
       "      <td>False</td>\n",
       "      <td>False</td>\n",
       "      <td>False</td>\n",
       "      <td>0</td>\n",
       "      <td>1</td>\n",
       "      <td>0</td>\n",
       "      <td>0</td>\n",
       "    </tr>\n",
       "    <tr>\n",
       "      <th>1</th>\n",
       "      <td>1</td>\n",
       "      <td>1</td>\n",
       "      <td>14422389.0</td>\n",
       "      <td>1.0</td>\n",
       "      <td>21620</td>\n",
       "      <td>['As an educational and social education cente...</td>\n",
       "      <td>As an educational and social education center,...</td>\n",
       "      <td>['BE']</td>\n",
       "      <td>Small</td>\n",
       "      <td>15</td>\n",
       "      <td>...</td>\n",
       "      <td>False</td>\n",
       "      <td>False</td>\n",
       "      <td>False</td>\n",
       "      <td>False</td>\n",
       "      <td>False</td>\n",
       "      <td>False</td>\n",
       "      <td>0</td>\n",
       "      <td>0</td>\n",
       "      <td>0</td>\n",
       "      <td>1</td>\n",
       "    </tr>\n",
       "    <tr>\n",
       "      <th>2</th>\n",
       "      <td>2</td>\n",
       "      <td>2</td>\n",
       "      <td>14616465.0</td>\n",
       "      <td>1.0</td>\n",
       "      <td>21420</td>\n",
       "      <td>['Civil Engineer 1804 Corsiersurvey Engineerin...</td>\n",
       "      <td>Civil Engineer 1804 Corsiersurvey Engineering ...</td>\n",
       "      <td>['VD']</td>\n",
       "      <td>Micro</td>\n",
       "      <td>12</td>\n",
       "      <td>...</td>\n",
       "      <td>False</td>\n",
       "      <td>False</td>\n",
       "      <td>False</td>\n",
       "      <td>False</td>\n",
       "      <td>False</td>\n",
       "      <td>False</td>\n",
       "      <td>0</td>\n",
       "      <td>1</td>\n",
       "      <td>0</td>\n",
       "      <td>0</td>\n",
       "    </tr>\n",
       "    <tr>\n",
       "      <th>3</th>\n",
       "      <td>3</td>\n",
       "      <td>3</td>\n",
       "      <td>14617343.0</td>\n",
       "      <td>1.0</td>\n",
       "      <td>21620</td>\n",
       "      <td>['24', ' 05', ' 2017 Internship Landscape Deve...</td>\n",
       "      <td>24. 05. 2017 Internship Landscape Development ...</td>\n",
       "      <td>['BE']</td>\n",
       "      <td>Micro</td>\n",
       "      <td>7</td>\n",
       "      <td>...</td>\n",
       "      <td>False</td>\n",
       "      <td>False</td>\n",
       "      <td>False</td>\n",
       "      <td>False</td>\n",
       "      <td>False</td>\n",
       "      <td>False</td>\n",
       "      <td>0</td>\n",
       "      <td>1</td>\n",
       "      <td>0</td>\n",
       "      <td>0</td>\n",
       "    </tr>\n",
       "    <tr>\n",
       "      <th>4</th>\n",
       "      <td>4</td>\n",
       "      <td>4</td>\n",
       "      <td>14515774.0</td>\n",
       "      <td>1.0</td>\n",
       "      <td>21430</td>\n",
       "      <td>['Company portrait The office for the forest o...</td>\n",
       "      <td>Company portrait The office for the forest of ...</td>\n",
       "      <td>['BE']</td>\n",
       "      <td>Midsize</td>\n",
       "      <td>21</td>\n",
       "      <td>...</td>\n",
       "      <td>False</td>\n",
       "      <td>False</td>\n",
       "      <td>False</td>\n",
       "      <td>False</td>\n",
       "      <td>False</td>\n",
       "      <td>False</td>\n",
       "      <td>0</td>\n",
       "      <td>0</td>\n",
       "      <td>1</td>\n",
       "      <td>0</td>\n",
       "    </tr>\n",
       "    <tr>\n",
       "      <th>...</th>\n",
       "      <td>...</td>\n",
       "      <td>...</td>\n",
       "      <td>...</td>\n",
       "      <td>...</td>\n",
       "      <td>...</td>\n",
       "      <td>...</td>\n",
       "      <td>...</td>\n",
       "      <td>...</td>\n",
       "      <td>...</td>\n",
       "      <td>...</td>\n",
       "      <td>...</td>\n",
       "      <td>...</td>\n",
       "      <td>...</td>\n",
       "      <td>...</td>\n",
       "      <td>...</td>\n",
       "      <td>...</td>\n",
       "      <td>...</td>\n",
       "      <td>...</td>\n",
       "      <td>...</td>\n",
       "      <td>...</td>\n",
       "      <td>...</td>\n",
       "    </tr>\n",
       "    <tr>\n",
       "      <th>1096</th>\n",
       "      <td>1120</td>\n",
       "      <td>120</td>\n",
       "      <td>20933760.0</td>\n",
       "      <td>1.0</td>\n",
       "      <td>24310;24210</td>\n",
       "      <td>[\"Emploi ESDA is looking for a Market Data Ana...</td>\n",
       "      <td>Emploi ESDA is looking for a Market Data Analy...</td>\n",
       "      <td>['GE']</td>\n",
       "      <td>Midsize</td>\n",
       "      <td>12</td>\n",
       "      <td>...</td>\n",
       "      <td>True</td>\n",
       "      <td>False</td>\n",
       "      <td>False</td>\n",
       "      <td>False</td>\n",
       "      <td>False</td>\n",
       "      <td>False</td>\n",
       "      <td>0</td>\n",
       "      <td>0</td>\n",
       "      <td>1</td>\n",
       "      <td>0</td>\n",
       "    </tr>\n",
       "    <tr>\n",
       "      <th>1097</th>\n",
       "      <td>1121</td>\n",
       "      <td>121</td>\n",
       "      <td>21930428.0</td>\n",
       "      <td>1.0</td>\n",
       "      <td>26220;41200</td>\n",
       "      <td>['Org', ' Setting and Reporting  This position...</td>\n",
       "      <td>Org. Setting and Reporting  This position is l...</td>\n",
       "      <td>['GE']</td>\n",
       "      <td>Midsize</td>\n",
       "      <td>66</td>\n",
       "      <td>...</td>\n",
       "      <td>True</td>\n",
       "      <td>False</td>\n",
       "      <td>False</td>\n",
       "      <td>False</td>\n",
       "      <td>False</td>\n",
       "      <td>False</td>\n",
       "      <td>0</td>\n",
       "      <td>0</td>\n",
       "      <td>1</td>\n",
       "      <td>0</td>\n",
       "    </tr>\n",
       "    <tr>\n",
       "      <th>1098</th>\n",
       "      <td>1122</td>\n",
       "      <td>122</td>\n",
       "      <td>22071257.0</td>\n",
       "      <td>1.0</td>\n",
       "      <td>26220</td>\n",
       "      <td>['Caterpillar Graduate Program  Junior Busines...</td>\n",
       "      <td>Caterpillar Graduate Program  Junior Business ...</td>\n",
       "      <td>['GE']</td>\n",
       "      <td>Large</td>\n",
       "      <td>21</td>\n",
       "      <td>...</td>\n",
       "      <td>True</td>\n",
       "      <td>False</td>\n",
       "      <td>False</td>\n",
       "      <td>False</td>\n",
       "      <td>False</td>\n",
       "      <td>False</td>\n",
       "      <td>1</td>\n",
       "      <td>0</td>\n",
       "      <td>0</td>\n",
       "      <td>0</td>\n",
       "    </tr>\n",
       "    <tr>\n",
       "      <th>1099</th>\n",
       "      <td>1123</td>\n",
       "      <td>123</td>\n",
       "      <td>18359929.0</td>\n",
       "      <td>1.0</td>\n",
       "      <td>21490</td>\n",
       "      <td>['Energy Energy Management Raymond E', ' Moser...</td>\n",
       "      <td>Energy Energy Management Raymond E. Moser has ...</td>\n",
       "      <td>['GE']</td>\n",
       "      <td>Micro</td>\n",
       "      <td>24</td>\n",
       "      <td>...</td>\n",
       "      <td>True</td>\n",
       "      <td>False</td>\n",
       "      <td>False</td>\n",
       "      <td>False</td>\n",
       "      <td>False</td>\n",
       "      <td>False</td>\n",
       "      <td>0</td>\n",
       "      <td>1</td>\n",
       "      <td>0</td>\n",
       "      <td>0</td>\n",
       "    </tr>\n",
       "    <tr>\n",
       "      <th>1100</th>\n",
       "      <td>1124</td>\n",
       "      <td>124</td>\n",
       "      <td>20085876.0</td>\n",
       "      <td>1.0</td>\n",
       "      <td>20000</td>\n",
       "      <td>['Federal Polytechnic Lecole of Lausanne EPFL ...</td>\n",
       "      <td>Federal Polytechnic Lecole of Lausanne EPFL is...</td>\n",
       "      <td>['VD']</td>\n",
       "      <td>Midsize</td>\n",
       "      <td>19</td>\n",
       "      <td>...</td>\n",
       "      <td>False</td>\n",
       "      <td>False</td>\n",
       "      <td>False</td>\n",
       "      <td>False</td>\n",
       "      <td>False</td>\n",
       "      <td>False</td>\n",
       "      <td>0</td>\n",
       "      <td>0</td>\n",
       "      <td>1</td>\n",
       "      <td>0</td>\n",
       "    </tr>\n",
       "  </tbody>\n",
       "</table>\n",
       "<p>541 rows × 24 columns</p>\n",
       "</div>"
      ],
      "text/plain": [
       "      Unnamed: 0  index      JOB_ID   MJ               ISCO  \\\n",
       "0              0      0  12047533.0  1.0  31230;12190;21620   \n",
       "1              1      1  14422389.0  1.0              21620   \n",
       "2              2      2  14616465.0  1.0              21420   \n",
       "3              3      3  14617343.0  1.0              21620   \n",
       "4              4      4  14515774.0  1.0              21430   \n",
       "...          ...    ...         ...  ...                ...   \n",
       "1096        1120    120  20933760.0  1.0        24310;24210   \n",
       "1097        1121    121  21930428.0  1.0        26220;41200   \n",
       "1098        1122    122  22071257.0  1.0              26220   \n",
       "1099        1123    123  18359929.0  1.0              21490   \n",
       "1100        1124    124  20085876.0  1.0              20000   \n",
       "\n",
       "                                            JOB_CONTENT  \\\n",
       "0     ['Building leaders Horticultural technician HF...   \n",
       "1     ['As an educational and social education cente...   \n",
       "2     ['Civil Engineer 1804 Corsiersurvey Engineerin...   \n",
       "3     ['24', ' 05', ' 2017 Internship Landscape Deve...   \n",
       "4     ['Company portrait The office for the forest o...   \n",
       "...                                                 ...   \n",
       "1096  [\"Emploi ESDA is looking for a Market Data Ana...   \n",
       "1097  ['Org', ' Setting and Reporting  This position...   \n",
       "1098  ['Caterpillar Graduate Program  Junior Busines...   \n",
       "1099  ['Energy Energy Management Raymond E', ' Moser...   \n",
       "1100  ['Federal Polytechnic Lecole of Lausanne EPFL ...   \n",
       "\n",
       "                                        TRANSLATED_JOBS  CANTON COMPANY_SIZE  \\\n",
       "0     Building leaders Horticultural technician HF T...  ['BE']        Micro   \n",
       "1     As an educational and social education center,...  ['BE']        Small   \n",
       "2     Civil Engineer 1804 Corsiersurvey Engineering ...  ['VD']        Micro   \n",
       "3     24. 05. 2017 Internship Landscape Development ...  ['BE']        Micro   \n",
       "4     Company portrait The office for the forest of ...  ['BE']      Midsize   \n",
       "...                                                 ...     ...          ...   \n",
       "1096  Emploi ESDA is looking for a Market Data Analy...  ['GE']      Midsize   \n",
       "1097  Org. Setting and Reporting  This position is l...  ['GE']      Midsize   \n",
       "1098  Caterpillar Graduate Program  Junior Business ...  ['GE']        Large   \n",
       "1099  Energy Energy Management Raymond E. Moser has ...  ['GE']        Micro   \n",
       "1100  Federal Polytechnic Lecole of Lausanne EPFL is...  ['VD']      Midsize   \n",
       "\n",
       "      NumSentences  ...  Canton_GE Canton_NE  Canton_FR  Canton_VS  Canton_JU  \\\n",
       "0               25  ...      False     False      False      False      False   \n",
       "1               15  ...      False     False      False      False      False   \n",
       "2               12  ...      False     False      False      False      False   \n",
       "3                7  ...      False     False      False      False      False   \n",
       "4               21  ...      False     False      False      False      False   \n",
       "...            ...  ...        ...       ...        ...        ...        ...   \n",
       "1096            12  ...       True     False      False      False      False   \n",
       "1097            66  ...       True     False      False      False      False   \n",
       "1098            21  ...       True     False      False      False      False   \n",
       "1099            24  ...       True     False      False      False      False   \n",
       "1100            19  ...      False     False      False      False      False   \n",
       "\n",
       "      Canton_AR  Large  Micro  Midsize  Small  \n",
       "0         False      0      1        0      0  \n",
       "1         False      0      0        0      1  \n",
       "2         False      0      1        0      0  \n",
       "3         False      0      1        0      0  \n",
       "4         False      0      0        1      0  \n",
       "...         ...    ...    ...      ...    ...  \n",
       "1096      False      0      0        1      0  \n",
       "1097      False      0      0        1      0  \n",
       "1098      False      1      0        0      0  \n",
       "1099      False      0      1        0      0  \n",
       "1100      False      0      0        1      0  \n",
       "\n",
       "[541 rows x 24 columns]"
      ]
     },
     "execution_count": 13,
     "metadata": {},
     "output_type": "execute_result"
    }
   ],
   "source": [
    "labeledDf"
   ]
  },
  {
   "cell_type": "code",
   "execution_count": 14,
   "id": "87ced0fc",
   "metadata": {},
   "outputs": [
    {
     "data": {
      "text/html": [
       "<div>\n",
       "<style scoped>\n",
       "    .dataframe tbody tr th:only-of-type {\n",
       "        vertical-align: middle;\n",
       "    }\n",
       "\n",
       "    .dataframe tbody tr th {\n",
       "        vertical-align: top;\n",
       "    }\n",
       "\n",
       "    .dataframe thead th {\n",
       "        text-align: right;\n",
       "    }\n",
       "</style>\n",
       "<table border=\"1\" class=\"dataframe\">\n",
       "  <thead>\n",
       "    <tr style=\"text-align: right;\">\n",
       "      <th></th>\n",
       "      <th>Unnamed: 0</th>\n",
       "      <th>index</th>\n",
       "      <th>JOB_ID</th>\n",
       "      <th>MJ</th>\n",
       "      <th>ISCO</th>\n",
       "      <th>JOB_CONTENT</th>\n",
       "      <th>TRANSLATED_JOBS</th>\n",
       "      <th>CANTON</th>\n",
       "      <th>COMPANY_SIZE</th>\n",
       "      <th>NumSentences</th>\n",
       "      <th>...</th>\n",
       "      <th>Canton_GE</th>\n",
       "      <th>Canton_NE</th>\n",
       "      <th>Canton_FR</th>\n",
       "      <th>Canton_VS</th>\n",
       "      <th>Canton_JU</th>\n",
       "      <th>Canton_AR</th>\n",
       "      <th>Large</th>\n",
       "      <th>Micro</th>\n",
       "      <th>Midsize</th>\n",
       "      <th>Small</th>\n",
       "    </tr>\n",
       "  </thead>\n",
       "  <tbody>\n",
       "    <tr>\n",
       "      <th>0</th>\n",
       "      <td>0</td>\n",
       "      <td>0</td>\n",
       "      <td>12047533.0</td>\n",
       "      <td>1.0</td>\n",
       "      <td>31230;12190;21620</td>\n",
       "      <td>['Building leaders Horticultural technician HF...</td>\n",
       "      <td>Building leaders Horticultural technician HF T...</td>\n",
       "      <td>['BE']</td>\n",
       "      <td>Micro</td>\n",
       "      <td>25</td>\n",
       "      <td>...</td>\n",
       "      <td>False</td>\n",
       "      <td>False</td>\n",
       "      <td>False</td>\n",
       "      <td>False</td>\n",
       "      <td>False</td>\n",
       "      <td>False</td>\n",
       "      <td>0</td>\n",
       "      <td>1</td>\n",
       "      <td>0</td>\n",
       "      <td>0</td>\n",
       "    </tr>\n",
       "    <tr>\n",
       "      <th>1</th>\n",
       "      <td>1</td>\n",
       "      <td>1</td>\n",
       "      <td>14422389.0</td>\n",
       "      <td>1.0</td>\n",
       "      <td>21620</td>\n",
       "      <td>['As an educational and social education cente...</td>\n",
       "      <td>As an educational and social education center,...</td>\n",
       "      <td>['BE']</td>\n",
       "      <td>Small</td>\n",
       "      <td>15</td>\n",
       "      <td>...</td>\n",
       "      <td>False</td>\n",
       "      <td>False</td>\n",
       "      <td>False</td>\n",
       "      <td>False</td>\n",
       "      <td>False</td>\n",
       "      <td>False</td>\n",
       "      <td>0</td>\n",
       "      <td>0</td>\n",
       "      <td>0</td>\n",
       "      <td>1</td>\n",
       "    </tr>\n",
       "    <tr>\n",
       "      <th>2</th>\n",
       "      <td>2</td>\n",
       "      <td>2</td>\n",
       "      <td>14616465.0</td>\n",
       "      <td>1.0</td>\n",
       "      <td>21420</td>\n",
       "      <td>['Civil Engineer 1804 Corsiersurvey Engineerin...</td>\n",
       "      <td>Civil Engineer 1804 Corsiersurvey Engineering ...</td>\n",
       "      <td>['VD']</td>\n",
       "      <td>Micro</td>\n",
       "      <td>12</td>\n",
       "      <td>...</td>\n",
       "      <td>False</td>\n",
       "      <td>False</td>\n",
       "      <td>False</td>\n",
       "      <td>False</td>\n",
       "      <td>False</td>\n",
       "      <td>False</td>\n",
       "      <td>0</td>\n",
       "      <td>1</td>\n",
       "      <td>0</td>\n",
       "      <td>0</td>\n",
       "    </tr>\n",
       "    <tr>\n",
       "      <th>3</th>\n",
       "      <td>3</td>\n",
       "      <td>3</td>\n",
       "      <td>14617343.0</td>\n",
       "      <td>1.0</td>\n",
       "      <td>21620</td>\n",
       "      <td>['24', ' 05', ' 2017 Internship Landscape Deve...</td>\n",
       "      <td>24. 05. 2017 Internship Landscape Development ...</td>\n",
       "      <td>['BE']</td>\n",
       "      <td>Micro</td>\n",
       "      <td>7</td>\n",
       "      <td>...</td>\n",
       "      <td>False</td>\n",
       "      <td>False</td>\n",
       "      <td>False</td>\n",
       "      <td>False</td>\n",
       "      <td>False</td>\n",
       "      <td>False</td>\n",
       "      <td>0</td>\n",
       "      <td>1</td>\n",
       "      <td>0</td>\n",
       "      <td>0</td>\n",
       "    </tr>\n",
       "    <tr>\n",
       "      <th>4</th>\n",
       "      <td>4</td>\n",
       "      <td>4</td>\n",
       "      <td>14515774.0</td>\n",
       "      <td>1.0</td>\n",
       "      <td>21430</td>\n",
       "      <td>['Company portrait The office for the forest o...</td>\n",
       "      <td>Company portrait The office for the forest of ...</td>\n",
       "      <td>['BE']</td>\n",
       "      <td>Midsize</td>\n",
       "      <td>21</td>\n",
       "      <td>...</td>\n",
       "      <td>False</td>\n",
       "      <td>False</td>\n",
       "      <td>False</td>\n",
       "      <td>False</td>\n",
       "      <td>False</td>\n",
       "      <td>False</td>\n",
       "      <td>0</td>\n",
       "      <td>0</td>\n",
       "      <td>1</td>\n",
       "      <td>0</td>\n",
       "    </tr>\n",
       "    <tr>\n",
       "      <th>...</th>\n",
       "      <td>...</td>\n",
       "      <td>...</td>\n",
       "      <td>...</td>\n",
       "      <td>...</td>\n",
       "      <td>...</td>\n",
       "      <td>...</td>\n",
       "      <td>...</td>\n",
       "      <td>...</td>\n",
       "      <td>...</td>\n",
       "      <td>...</td>\n",
       "      <td>...</td>\n",
       "      <td>...</td>\n",
       "      <td>...</td>\n",
       "      <td>...</td>\n",
       "      <td>...</td>\n",
       "      <td>...</td>\n",
       "      <td>...</td>\n",
       "      <td>...</td>\n",
       "      <td>...</td>\n",
       "      <td>...</td>\n",
       "      <td>...</td>\n",
       "    </tr>\n",
       "    <tr>\n",
       "      <th>1096</th>\n",
       "      <td>1120</td>\n",
       "      <td>120</td>\n",
       "      <td>20933760.0</td>\n",
       "      <td>1.0</td>\n",
       "      <td>24310;24210</td>\n",
       "      <td>[\"Emploi ESDA is looking for a Market Data Ana...</td>\n",
       "      <td>Emploi ESDA is looking for a Market Data Analy...</td>\n",
       "      <td>['GE']</td>\n",
       "      <td>Midsize</td>\n",
       "      <td>12</td>\n",
       "      <td>...</td>\n",
       "      <td>True</td>\n",
       "      <td>False</td>\n",
       "      <td>False</td>\n",
       "      <td>False</td>\n",
       "      <td>False</td>\n",
       "      <td>False</td>\n",
       "      <td>0</td>\n",
       "      <td>0</td>\n",
       "      <td>1</td>\n",
       "      <td>0</td>\n",
       "    </tr>\n",
       "    <tr>\n",
       "      <th>1097</th>\n",
       "      <td>1121</td>\n",
       "      <td>121</td>\n",
       "      <td>21930428.0</td>\n",
       "      <td>1.0</td>\n",
       "      <td>26220;41200</td>\n",
       "      <td>['Org', ' Setting and Reporting  This position...</td>\n",
       "      <td>Org. Setting and Reporting  This position is l...</td>\n",
       "      <td>['GE']</td>\n",
       "      <td>Midsize</td>\n",
       "      <td>66</td>\n",
       "      <td>...</td>\n",
       "      <td>True</td>\n",
       "      <td>False</td>\n",
       "      <td>False</td>\n",
       "      <td>False</td>\n",
       "      <td>False</td>\n",
       "      <td>False</td>\n",
       "      <td>0</td>\n",
       "      <td>0</td>\n",
       "      <td>1</td>\n",
       "      <td>0</td>\n",
       "    </tr>\n",
       "    <tr>\n",
       "      <th>1098</th>\n",
       "      <td>1122</td>\n",
       "      <td>122</td>\n",
       "      <td>22071257.0</td>\n",
       "      <td>1.0</td>\n",
       "      <td>26220</td>\n",
       "      <td>['Caterpillar Graduate Program  Junior Busines...</td>\n",
       "      <td>Caterpillar Graduate Program  Junior Business ...</td>\n",
       "      <td>['GE']</td>\n",
       "      <td>Large</td>\n",
       "      <td>21</td>\n",
       "      <td>...</td>\n",
       "      <td>True</td>\n",
       "      <td>False</td>\n",
       "      <td>False</td>\n",
       "      <td>False</td>\n",
       "      <td>False</td>\n",
       "      <td>False</td>\n",
       "      <td>1</td>\n",
       "      <td>0</td>\n",
       "      <td>0</td>\n",
       "      <td>0</td>\n",
       "    </tr>\n",
       "    <tr>\n",
       "      <th>1099</th>\n",
       "      <td>1123</td>\n",
       "      <td>123</td>\n",
       "      <td>18359929.0</td>\n",
       "      <td>1.0</td>\n",
       "      <td>21490</td>\n",
       "      <td>['Energy Energy Management Raymond E', ' Moser...</td>\n",
       "      <td>Energy Energy Management Raymond E. Moser has ...</td>\n",
       "      <td>['GE']</td>\n",
       "      <td>Micro</td>\n",
       "      <td>24</td>\n",
       "      <td>...</td>\n",
       "      <td>True</td>\n",
       "      <td>False</td>\n",
       "      <td>False</td>\n",
       "      <td>False</td>\n",
       "      <td>False</td>\n",
       "      <td>False</td>\n",
       "      <td>0</td>\n",
       "      <td>1</td>\n",
       "      <td>0</td>\n",
       "      <td>0</td>\n",
       "    </tr>\n",
       "    <tr>\n",
       "      <th>1100</th>\n",
       "      <td>1124</td>\n",
       "      <td>124</td>\n",
       "      <td>20085876.0</td>\n",
       "      <td>1.0</td>\n",
       "      <td>20000</td>\n",
       "      <td>['Federal Polytechnic Lecole of Lausanne EPFL ...</td>\n",
       "      <td>Federal Polytechnic Lecole of Lausanne EPFL is...</td>\n",
       "      <td>['VD']</td>\n",
       "      <td>Midsize</td>\n",
       "      <td>19</td>\n",
       "      <td>...</td>\n",
       "      <td>False</td>\n",
       "      <td>False</td>\n",
       "      <td>False</td>\n",
       "      <td>False</td>\n",
       "      <td>False</td>\n",
       "      <td>False</td>\n",
       "      <td>0</td>\n",
       "      <td>0</td>\n",
       "      <td>1</td>\n",
       "      <td>0</td>\n",
       "    </tr>\n",
       "  </tbody>\n",
       "</table>\n",
       "<p>1101 rows × 24 columns</p>\n",
       "</div>"
      ],
      "text/plain": [
       "      Unnamed: 0  index      JOB_ID   MJ               ISCO  \\\n",
       "0              0      0  12047533.0  1.0  31230;12190;21620   \n",
       "1              1      1  14422389.0  1.0              21620   \n",
       "2              2      2  14616465.0  1.0              21420   \n",
       "3              3      3  14617343.0  1.0              21620   \n",
       "4              4      4  14515774.0  1.0              21430   \n",
       "...          ...    ...         ...  ...                ...   \n",
       "1096        1120    120  20933760.0  1.0        24310;24210   \n",
       "1097        1121    121  21930428.0  1.0        26220;41200   \n",
       "1098        1122    122  22071257.0  1.0              26220   \n",
       "1099        1123    123  18359929.0  1.0              21490   \n",
       "1100        1124    124  20085876.0  1.0              20000   \n",
       "\n",
       "                                            JOB_CONTENT  \\\n",
       "0     ['Building leaders Horticultural technician HF...   \n",
       "1     ['As an educational and social education cente...   \n",
       "2     ['Civil Engineer 1804 Corsiersurvey Engineerin...   \n",
       "3     ['24', ' 05', ' 2017 Internship Landscape Deve...   \n",
       "4     ['Company portrait The office for the forest o...   \n",
       "...                                                 ...   \n",
       "1096  [\"Emploi ESDA is looking for a Market Data Ana...   \n",
       "1097  ['Org', ' Setting and Reporting  This position...   \n",
       "1098  ['Caterpillar Graduate Program  Junior Busines...   \n",
       "1099  ['Energy Energy Management Raymond E', ' Moser...   \n",
       "1100  ['Federal Polytechnic Lecole of Lausanne EPFL ...   \n",
       "\n",
       "                                        TRANSLATED_JOBS  CANTON COMPANY_SIZE  \\\n",
       "0     Building leaders Horticultural technician HF T...  ['BE']        Micro   \n",
       "1     As an educational and social education center,...  ['BE']        Small   \n",
       "2     Civil Engineer 1804 Corsiersurvey Engineering ...  ['VD']        Micro   \n",
       "3     24. 05. 2017 Internship Landscape Development ...  ['BE']        Micro   \n",
       "4     Company portrait The office for the forest of ...  ['BE']      Midsize   \n",
       "...                                                 ...     ...          ...   \n",
       "1096  Emploi ESDA is looking for a Market Data Analy...  ['GE']      Midsize   \n",
       "1097  Org. Setting and Reporting  This position is l...  ['GE']      Midsize   \n",
       "1098  Caterpillar Graduate Program  Junior Business ...  ['GE']        Large   \n",
       "1099  Energy Energy Management Raymond E. Moser has ...  ['GE']        Micro   \n",
       "1100  Federal Polytechnic Lecole of Lausanne EPFL is...  ['VD']      Midsize   \n",
       "\n",
       "      NumSentences  ...  Canton_GE Canton_NE  Canton_FR  Canton_VS  Canton_JU  \\\n",
       "0               25  ...      False     False      False      False      False   \n",
       "1               15  ...      False     False      False      False      False   \n",
       "2               12  ...      False     False      False      False      False   \n",
       "3                7  ...      False     False      False      False      False   \n",
       "4               21  ...      False     False      False      False      False   \n",
       "...            ...  ...        ...       ...        ...        ...        ...   \n",
       "1096            12  ...       True     False      False      False      False   \n",
       "1097            66  ...       True     False      False      False      False   \n",
       "1098            21  ...       True     False      False      False      False   \n",
       "1099            24  ...       True     False      False      False      False   \n",
       "1100            19  ...      False     False      False      False      False   \n",
       "\n",
       "      Canton_AR  Large  Micro  Midsize  Small  \n",
       "0         False      0      1        0      0  \n",
       "1         False      0      0        0      1  \n",
       "2         False      0      1        0      0  \n",
       "3         False      0      1        0      0  \n",
       "4         False      0      0        1      0  \n",
       "...         ...    ...    ...      ...    ...  \n",
       "1096      False      0      0        1      0  \n",
       "1097      False      0      0        1      0  \n",
       "1098      False      1      0        0      0  \n",
       "1099      False      0      1        0      0  \n",
       "1100      False      0      0        1      0  \n",
       "\n",
       "[1101 rows x 24 columns]"
      ]
     },
     "execution_count": 14,
     "metadata": {},
     "output_type": "execute_result"
    }
   ],
   "source": [
    "mergedDf"
   ]
  },
  {
   "cell_type": "code",
   "execution_count": 15,
   "id": "5619ecc2",
   "metadata": {},
   "outputs": [
    {
     "data": {
      "text/plain": [
       "True     304\n",
       "False    237\n",
       "Name: MJ, dtype: int64"
      ]
     },
     "execution_count": 15,
     "metadata": {},
     "output_type": "execute_result"
    }
   ],
   "source": [
    "labeledDf[\"MJ\"].astype('bool').value_counts()"
   ]
  },
  {
   "cell_type": "code",
   "execution_count": null,
   "id": "035c4885",
   "metadata": {},
   "outputs": [],
   "source": []
  },
  {
   "cell_type": "code",
   "execution_count": null,
   "id": "fabd1c19",
   "metadata": {},
   "outputs": [],
   "source": []
  },
  {
   "cell_type": "code",
   "execution_count": 16,
   "id": "bd267603",
   "metadata": {},
   "outputs": [],
   "source": [
    "# Only take 2/3 of the \"not green\" jobs so you have a balanced data set\n",
    "trainDf = labeledDf[labeledDf.index % 3 != 0]"
   ]
  },
  {
   "cell_type": "code",
   "execution_count": 17,
   "id": "90369d8a",
   "metadata": {},
   "outputs": [],
   "source": [
    "testDf = labeledDf[labeledDf.index % 3 == 0]"
   ]
  },
  {
   "cell_type": "code",
   "execution_count": 18,
   "id": "fd27ebf0",
   "metadata": {},
   "outputs": [],
   "source": [
    "from tensorflow.keras.utils import plot_model"
   ]
  },
  {
   "cell_type": "code",
   "execution_count": 19,
   "id": "1f27c1df",
   "metadata": {},
   "outputs": [],
   "source": [
    "def buildInputs(df):\n",
    "    normSent = (df[\"NumSentences\"]-df[\"NumSentences\"].mean())/df[\"NumSentences\"].std()\n",
    "    normChar = (df[\"NumCharacters\"]-df[\"NumCharacters\"].mean())/df[\"NumCharacters\"].std()\n",
    "    return (df[\"TRANSLATED_JOBS\"].to_numpy(), np.stack(\n",
    "            (\n",
    "                normSent, \n",
    "                normChar,\n",
    "                df[\"Canton_BE\"],\n",
    "                df[\"Canton_VD\"],\n",
    "                df[\"Canton_NE\"],\n",
    "                df[\"Canton_FR\"], \n",
    "                df[\"Canton_GE\"],\n",
    "                df[\"Canton_VS\"],\n",
    "                df[\"Canton_JU\"],\n",
    "                df[\"Large\"],\n",
    "                df[\"Micro\"], \n",
    "                df[\"Midsize\"],\n",
    "                df[\"Small\"],\n",
    "            ), axis=-1))"
   ]
  },
  {
   "cell_type": "code",
   "execution_count": 20,
   "id": "69eec8b5",
   "metadata": {},
   "outputs": [],
   "source": [
    "trainInputs = buildInputs(trainDf)\n",
    "tf.keras.backend.clear_session()"
   ]
  },
  {
   "cell_type": "code",
   "execution_count": 21,
   "id": "932e70e4",
   "metadata": {},
   "outputs": [],
   "source": [
    "paragraphInput = tf.keras.layers.Input(shape=(), name=\"Input\", dtype=tf.string)\n",
    "paragraphEncode = hub.KerasLayer('universal-sentence-encoder_4',\n",
    "                        input_shape=[], \n",
    "                        dtype=tf.string, \n",
    "                        trainable=True)(paragraphInput)\n"
   ]
  },
  {
   "cell_type": "code",
   "execution_count": 22,
   "id": "e077674a",
   "metadata": {},
   "outputs": [],
   "source": [
    "paragraphDense = tf.keras.layers.Dense(256, activation='relu')(paragraphEncode)"
   ]
  },
  {
   "cell_type": "code",
   "execution_count": 23,
   "id": "f96b2ece",
   "metadata": {},
   "outputs": [],
   "source": [
    "otherInput = tf.keras.layers.Input(shape=(trainInputs[1].shape[1],))\n",
    "otherDense = tf.keras.layers.Dense(16,)(otherInput)\n",
    "mergedLayer = tf.keras.layers.Concatenate()([otherDense, paragraphDense])\n",
    "denseMerged = tf.keras.layers.Dense(32, activation='relu')(mergedLayer)\n",
    "output = tf.keras.layers.Dense(1, activation='sigmoid')(denseMerged)"
   ]
  },
  {
   "cell_type": "code",
   "execution_count": 24,
   "id": "75e86b20",
   "metadata": {},
   "outputs": [],
   "source": [
    "model = tf.keras.Model(inputs=[paragraphInput, otherInput], outputs=output)\n",
    "model.compile(optimizer='adam', \n",
    "              loss='binary_crossentropy', \n",
    "              metrics=['accuracy'])"
   ]
  },
  {
   "cell_type": "code",
   "execution_count": 25,
   "id": "narrow-reach",
   "metadata": {},
   "outputs": [],
   "source": [
    "callback = tf.keras.callbacks.EarlyStopping(monitor='val_loss', patience=2)"
   ]
  },
  {
   "cell_type": "code",
   "execution_count": 26,
   "id": "voluntary-scenario",
   "metadata": {},
   "outputs": [
    {
     "data": {
      "text/plain": [
       "1.0    204\n",
       "0.0    157\n",
       "Name: MJ, dtype: int64"
      ]
     },
     "execution_count": 26,
     "metadata": {},
     "output_type": "execute_result"
    }
   ],
   "source": [
    "trainDf[\"MJ\"].value_counts()"
   ]
  },
  {
   "cell_type": "code",
   "execution_count": 27,
   "id": "599a6518",
   "metadata": {},
   "outputs": [
    {
     "name": "stdout",
     "output_type": "stream",
     "text": [
      "Epoch 1/3\n",
      "12/12 [==============================] - 27s 2s/step - loss: 0.6732 - accuracy: 0.5983 - val_loss: 0.6315 - val_accuracy: 0.6556\n",
      "Epoch 2/3\n",
      "12/12 [==============================] - 19s 2s/step - loss: 0.5932 - accuracy: 0.7202 - val_loss: 0.5727 - val_accuracy: 0.6944\n",
      "Epoch 3/3\n",
      "12/12 [==============================] - 19s 2s/step - loss: 0.4513 - accuracy: 0.8227 - val_loss: 0.4695 - val_accuracy: 0.7611\n"
     ]
    },
    {
     "data": {
      "text/plain": [
       "<tensorflow.python.keras.callbacks.History at 0x7fd77fe7b820>"
      ]
     },
     "execution_count": 27,
     "metadata": {},
     "output_type": "execute_result"
    }
   ],
   "source": [
    "model.fit(x=buildInputs(trainDf), \n",
    "          y=trainDf[\"MJ\"].astype(\"bool\"), \n",
    "          validation_data=(buildInputs(testDf), testDf[\"MJ\"].astype(\"bool\")),\n",
    "          callbacks=[callback],\n",
    "          epochs=3)"
   ]
  },
  {
   "cell_type": "code",
   "execution_count": 28,
   "id": "f4d19697",
   "metadata": {},
   "outputs": [
    {
     "name": "stderr",
     "output_type": "stream",
     "text": [
      "<ipython-input-28-6adb286e861b>:1: SettingWithCopyWarning: \n",
      "A value is trying to be set on a copy of a slice from a DataFrame.\n",
      "Try using .loc[row_indexer,col_indexer] = value instead\n",
      "\n",
      "See the caveats in the documentation: https://pandas.pydata.org/pandas-docs/stable/user_guide/indexing.html#returning-a-view-versus-a-copy\n",
      "  testDf[\"GREEN_PREDICT_FULL\"] = model.predict(x=buildInputs(testDf)) > 0.5\n"
     ]
    }
   ],
   "source": [
    "testDf[\"GREEN_PREDICT_FULL\"] = model.predict(x=buildInputs(testDf)) > 0.5"
   ]
  },
  {
   "cell_type": "code",
   "execution_count": 29,
   "id": "d59b6ae1",
   "metadata": {},
   "outputs": [
    {
     "data": {
      "text/html": [
       "<div>\n",
       "<style scoped>\n",
       "    .dataframe tbody tr th:only-of-type {\n",
       "        vertical-align: middle;\n",
       "    }\n",
       "\n",
       "    .dataframe tbody tr th {\n",
       "        vertical-align: top;\n",
       "    }\n",
       "\n",
       "    .dataframe thead th {\n",
       "        text-align: right;\n",
       "    }\n",
       "</style>\n",
       "<table border=\"1\" class=\"dataframe\">\n",
       "  <thead>\n",
       "    <tr style=\"text-align: right;\">\n",
       "      <th>Predicted</th>\n",
       "      <th>False</th>\n",
       "      <th>True</th>\n",
       "    </tr>\n",
       "    <tr>\n",
       "      <th>Actual</th>\n",
       "      <th></th>\n",
       "      <th></th>\n",
       "    </tr>\n",
       "  </thead>\n",
       "  <tbody>\n",
       "    <tr>\n",
       "      <th>False</th>\n",
       "      <td>48</td>\n",
       "      <td>32</td>\n",
       "    </tr>\n",
       "    <tr>\n",
       "      <th>True</th>\n",
       "      <td>11</td>\n",
       "      <td>89</td>\n",
       "    </tr>\n",
       "  </tbody>\n",
       "</table>\n",
       "</div>"
      ],
      "text/plain": [
       "Predicted  False  True \n",
       "Actual                 \n",
       "False         48     32\n",
       "True          11     89"
      ]
     },
     "execution_count": 29,
     "metadata": {},
     "output_type": "execute_result"
    }
   ],
   "source": [
    "confusion = pd.crosstab(testDf[\"MJ\"].astype('bool'), testDf[\"GREEN_PREDICT_FULL\"], rownames=['Actual'], colnames=['Predicted'], )\n",
    "confusion"
   ]
  },
  {
   "cell_type": "code",
   "execution_count": null,
   "id": "stone-router",
   "metadata": {},
   "outputs": [],
   "source": []
  },
  {
   "cell_type": "code",
   "execution_count": 49,
   "id": "3c4456e4",
   "metadata": {},
   "outputs": [],
   "source": [
    "import seaborn as sn\n",
    "sn.set(font_scale=1.4)"
   ]
  },
  {
   "cell_type": "code",
   "execution_count": 50,
   "id": "3f2b2bf9",
   "metadata": {},
   "outputs": [
    {
     "data": {
      "text/plain": [
       "<AxesSubplot:xlabel='Predicted', ylabel='Actual'>"
      ]
     },
     "execution_count": 50,
     "metadata": {},
     "output_type": "execute_result"
    },
    {
     "data": {
      "image/png": "[encoded data removed]",
      "text/plain": [
       "<Figure size 432x288 with 2 Axes>"
      ]
     },
     "metadata": {},
     "output_type": "display_data"
    }
   ],
   "source": [
    "sn.heatmap(confusion, annot=True, cmap=\"Blues\", annot_kws={\"size\": 16})"
   ]
  },
  {
   "cell_type": "code",
   "execution_count": 32,
   "id": "c4c0c124",
   "metadata": {},
   "outputs": [],
   "source": [
    "plot_model(model, to_file='Plots/NeuralNetArch_AllInputs.pdf', show_shapes=True, show_layer_names=True)"
   ]
  },
  {
   "cell_type": "code",
   "execution_count": 33,
   "id": "880078d7",
   "metadata": {},
   "outputs": [
    {
     "data": {
      "text/plain": [
       "True     204\n",
       "False    157\n",
       "Name: MJ, dtype: int64"
      ]
     },
     "execution_count": 33,
     "metadata": {},
     "output_type": "execute_result"
    }
   ],
   "source": [
    "trainDf[\"MJ\"].astype('bool').value_counts()"
   ]
  },
  {
   "cell_type": "code",
   "execution_count": 34,
   "id": "35d7e8ab",
   "metadata": {},
   "outputs": [],
   "source": [
    "denseUnmerged = tf.keras.layers.Dense(32, activation='relu')(paragraphDense)\n",
    "outputUnmerged = tf.keras.layers.Dense(1, activation='sigmoid')(denseUnmerged)"
   ]
  },
  {
   "cell_type": "code",
   "execution_count": null,
   "id": "norwegian-performer",
   "metadata": {},
   "outputs": [],
   "source": []
  },
  {
   "cell_type": "code",
   "execution_count": 35,
   "id": "9edd3a9a",
   "metadata": {},
   "outputs": [],
   "source": [
    "simpleModel = tf.keras.Model(inputs=[paragraphInput], outputs=outputUnmerged)\n",
    "simpleModel.compile(optimizer='adam', \n",
    "              loss='binary_crossentropy', \n",
    "              metrics=['accuracy'])"
   ]
  },
  {
   "cell_type": "code",
   "execution_count": 36,
   "id": "further-death",
   "metadata": {},
   "outputs": [
    {
     "data": {
      "text/plain": [
       "True     204\n",
       "False    157\n",
       "Name: MJ, dtype: int64"
      ]
     },
     "execution_count": 36,
     "metadata": {},
     "output_type": "execute_result"
    }
   ],
   "source": [
    "trainDf[\"MJ\"].astype('bool').value_counts()"
   ]
  },
  {
   "cell_type": "code",
   "execution_count": 37,
   "id": "9a7d0dba",
   "metadata": {},
   "outputs": [
    {
     "name": "stdout",
     "output_type": "stream",
     "text": [
      "Epoch 1/3\n",
      "12/12 [==============================] - 25s 2s/step - loss: 0.4815 - accuracy: 0.8615 - val_loss: 0.4936 - val_accuracy: 0.7500\n",
      "Epoch 2/3\n",
      "12/12 [==============================] - 19s 2s/step - loss: 0.2264 - accuracy: 0.9363 - val_loss: 0.5275 - val_accuracy: 0.7556\n",
      "Epoch 3/3\n",
      "12/12 [==============================] - 19s 2s/step - loss: 0.0888 - accuracy: 0.9778 - val_loss: 0.5099 - val_accuracy: 0.8056\n"
     ]
    },
    {
     "data": {
      "text/plain": [
       "<tensorflow.python.keras.callbacks.History at 0x7fd6bf3086a0>"
      ]
     },
     "execution_count": 37,
     "metadata": {},
     "output_type": "execute_result"
    }
   ],
   "source": [
    "tf.keras.backend.clear_session()\n",
    "simpleModel.fit(x=[trainDf[\"TRANSLATED_JOBS\"]], \n",
    "          y=trainDf[\"MJ\"].astype('bool'), \n",
    "          callbacks=[callback],\n",
    "          validation_data=([testDf[\"TRANSLATED_JOBS\"]], testDf[\"MJ\"].astype('bool'), ),\n",
    "          epochs=3)"
   ]
  },
  {
   "cell_type": "code",
   "execution_count": 38,
   "id": "c782634f",
   "metadata": {},
   "outputs": [],
   "source": [
    "plot_model(simpleModel, to_file='Plots/NeuralNetArch_OnlySentences.pdf', show_shapes=True, show_layer_names=True)"
   ]
  },
  {
   "cell_type": "code",
   "execution_count": 39,
   "id": "3bbf67e5",
   "metadata": {},
   "outputs": [
    {
     "name": "stderr",
     "output_type": "stream",
     "text": [
      "<ipython-input-39-051f38d27ca8>:1: SettingWithCopyWarning: \n",
      "A value is trying to be set on a copy of a slice from a DataFrame.\n",
      "Try using .loc[row_indexer,col_indexer] = value instead\n",
      "\n",
      "See the caveats in the documentation: https://pandas.pydata.org/pandas-docs/stable/user_guide/indexing.html#returning-a-view-versus-a-copy\n",
      "  testDf[\"GREEN_PREDICT_SIMPLE\"] = simpleModel.predict(x=[testDf[\"TRANSLATED_JOBS\"]]) > 0.5\n"
     ]
    }
   ],
   "source": [
    "testDf[\"GREEN_PREDICT_SIMPLE\"] = simpleModel.predict(x=[testDf[\"TRANSLATED_JOBS\"]]) > 0.5\n",
    "confusionSimple = pd.crosstab(testDf[\"MJ\"].astype('bool'), testDf[\"GREEN_PREDICT_FULL\"], rownames=['Actual'], colnames=['Predicted'], )\n"
   ]
  },
  {
   "cell_type": "code",
   "execution_count": 40,
   "id": "ed65c1dc",
   "metadata": {},
   "outputs": [
    {
     "data": {
      "text/html": [
       "<div>\n",
       "<style scoped>\n",
       "    .dataframe tbody tr th:only-of-type {\n",
       "        vertical-align: middle;\n",
       "    }\n",
       "\n",
       "    .dataframe tbody tr th {\n",
       "        vertical-align: top;\n",
       "    }\n",
       "\n",
       "    .dataframe thead th {\n",
       "        text-align: right;\n",
       "    }\n",
       "</style>\n",
       "<table border=\"1\" class=\"dataframe\">\n",
       "  <thead>\n",
       "    <tr style=\"text-align: right;\">\n",
       "      <th>Predicted</th>\n",
       "      <th>False</th>\n",
       "      <th>True</th>\n",
       "    </tr>\n",
       "    <tr>\n",
       "      <th>Actual</th>\n",
       "      <th></th>\n",
       "      <th></th>\n",
       "    </tr>\n",
       "  </thead>\n",
       "  <tbody>\n",
       "    <tr>\n",
       "      <th>False</th>\n",
       "      <td>48</td>\n",
       "      <td>32</td>\n",
       "    </tr>\n",
       "    <tr>\n",
       "      <th>True</th>\n",
       "      <td>11</td>\n",
       "      <td>89</td>\n",
       "    </tr>\n",
       "  </tbody>\n",
       "</table>\n",
       "</div>"
      ],
      "text/plain": [
       "Predicted  False  True \n",
       "Actual                 \n",
       "False         48     32\n",
       "True          11     89"
      ]
     },
     "execution_count": 40,
     "metadata": {},
     "output_type": "execute_result"
    }
   ],
   "source": [
    "confusionSimple "
   ]
  },
  {
   "cell_type": "code",
   "execution_count": 51,
   "id": "b2960187",
   "metadata": {},
   "outputs": [
    {
     "data": {
      "text/plain": [
       "<AxesSubplot:xlabel='Predicted', ylabel='Actual'>"
      ]
     },
     "execution_count": 51,
     "metadata": {},
     "output_type": "execute_result"
    },
    {
     "data": {
      "image/png": "[encoded data removed]",
      "text/plain": [
       "<Figure size 432x288 with 2 Axes>"
      ]
     },
     "metadata": {},
     "output_type": "display_data"
    }
   ],
   "source": [
    "sn.heatmap(confusion, annot=True, cmap=\"Blues\", annot_kws={\"size\": 16})"
   ]
  },
  {
   "cell_type": "code",
   "execution_count": null,
   "id": "25a964c6",
   "metadata": {},
   "outputs": [],
   "source": []
  },
  {
   "cell_type": "code",
   "execution_count": null,
   "id": "166bb224",
   "metadata": {},
   "outputs": [],
   "source": []
  },
  {
   "cell_type": "code",
   "execution_count": 42,
   "id": "forced-exhaust",
   "metadata": {},
   "outputs": [
    {
     "data": {
      "text/html": [
       "<div>\n",
       "<style scoped>\n",
       "    .dataframe tbody tr th:only-of-type {\n",
       "        vertical-align: middle;\n",
       "    }\n",
       "\n",
       "    .dataframe tbody tr th {\n",
       "        vertical-align: top;\n",
       "    }\n",
       "\n",
       "    .dataframe thead th {\n",
       "        text-align: right;\n",
       "    }\n",
       "</style>\n",
       "<table border=\"1\" class=\"dataframe\">\n",
       "  <thead>\n",
       "    <tr style=\"text-align: right;\">\n",
       "      <th></th>\n",
       "      <th>Unnamed: 0</th>\n",
       "      <th>index</th>\n",
       "      <th>JOB_ID</th>\n",
       "      <th>MJ</th>\n",
       "      <th>ISCO</th>\n",
       "      <th>JOB_CONTENT</th>\n",
       "      <th>TRANSLATED_JOBS</th>\n",
       "      <th>CANTON</th>\n",
       "      <th>COMPANY_SIZE</th>\n",
       "      <th>NumSentences</th>\n",
       "      <th>...</th>\n",
       "      <th>Canton_GE</th>\n",
       "      <th>Canton_NE</th>\n",
       "      <th>Canton_FR</th>\n",
       "      <th>Canton_VS</th>\n",
       "      <th>Canton_JU</th>\n",
       "      <th>Canton_AR</th>\n",
       "      <th>Large</th>\n",
       "      <th>Micro</th>\n",
       "      <th>Midsize</th>\n",
       "      <th>Small</th>\n",
       "    </tr>\n",
       "  </thead>\n",
       "  <tbody>\n",
       "  </tbody>\n",
       "</table>\n",
       "<p>0 rows × 24 columns</p>\n",
       "</div>"
      ],
      "text/plain": [
       "Empty DataFrame\n",
       "Columns: [Unnamed: 0, index, JOB_ID, MJ, ISCO, JOB_CONTENT, TRANSLATED_JOBS, CANTON, COMPANY_SIZE, NumSentences, NumCharacters, CANTON1, Canton_BE, Canton_VD, Canton_GE, Canton_NE, Canton_FR, Canton_VS, Canton_JU, Canton_AR, Large, Micro, Midsize, Small]\n",
       "Index: []\n",
       "\n",
       "[0 rows x 24 columns]"
      ]
     },
     "execution_count": 42,
     "metadata": {},
     "output_type": "execute_result"
    }
   ],
   "source": [
    "mergedDf[mergedDf[\"TRANSLATED_JOBS\"].isna()]"
   ]
  },
  {
   "cell_type": "code",
   "execution_count": 43,
   "id": "53db9439",
   "metadata": {},
   "outputs": [],
   "source": [
    "mergedDf[\"GREEN_PREDICT_SIMPLE\"] = simpleModel.predict(x=[mergedDf[\"TRANSLATED_JOBS\"]])"
   ]
  },
  {
   "cell_type": "code",
   "execution_count": 44,
   "id": "soviet-negotiation",
   "metadata": {},
   "outputs": [],
   "source": [
    "mergedDf[\"GREEN_PREDICT_FULL\"] = model.predict(x=buildInputs(mergedDf))"
   ]
  },
  {
   "cell_type": "code",
   "execution_count": 45,
   "id": "1ce62e2d",
   "metadata": {},
   "outputs": [
    {
     "data": {
      "text/plain": [
       "<matplotlib.legend.Legend at 0x7fd64f59b1f0>"
      ]
     },
     "execution_count": 45,
     "metadata": {},
     "output_type": "execute_result"
    },
    {
     "data": {
      "image/png": "[encoded data removed]",
      "text/plain": [
       "<Figure size 432x288 with 1 Axes>"
      ]
     },
     "metadata": {
      "needs_background": "light"
     },
     "output_type": "display_data"
    }
   ],
   "source": [
    "plt.hist(mergedDf[\"GREEN_PREDICT_SIMPLE\"], label=\"Only text\", alpha=0.5)\n",
    "plt.hist(mergedDf[\"GREEN_PREDICT_FULL\"], label=\"Full model\", alpha=0.5)\n",
    "plt.legend()"
   ]
  },
  {
   "cell_type": "code",
   "execution_count": null,
   "id": "0f483bbe",
   "metadata": {},
   "outputs": [],
   "source": []
  },
  {
   "cell_type": "code",
   "execution_count": null,
   "id": "8b543b43",
   "metadata": {},
   "outputs": [],
   "source": []
  },
  {
   "cell_type": "code",
   "execution_count": null,
   "id": "9881ba0d",
   "metadata": {},
   "outputs": [],
   "source": []
  }
 ],
 "metadata": {
  "kernelspec": {
   "display_name": "thesisenv",
   "language": "python",
   "name": "thesisenv"
  },
  "language_info": {
   "codemirror_mode": {
    "name": "ipython",
    "version": 3
   },
   "file_extension": ".py",
   "mimetype": "text/x-python",
   "name": "python",
   "nbconvert_exporter": "python",
   "pygments_lexer": "ipython3",
   "version": "3.8.8"
  }
 },
 "nbformat": 4,
 "nbformat_minor": 5
}
