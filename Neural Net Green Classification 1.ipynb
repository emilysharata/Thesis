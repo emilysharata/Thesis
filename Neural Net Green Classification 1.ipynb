{
 "cells": [
  {
   "cell_type": "code",
   "execution_count": 1,
   "id": "77730b2b",
   "metadata": {},
   "outputs": [],
   "source": [
    "%load_ext autoreload\n",
    "%autoreload 2\n",
    "from Methods import JobOffers,dataframeHelpers"
   ]
  },
  {
   "cell_type": "code",
   "execution_count": 2,
   "id": "6ebbc8a9",
   "metadata": {},
   "outputs": [],
   "source": [
    "import os\n",
    "import nltk\n",
    "import re\n",
    "import pandas as pd\n",
    "import numpy as np\n",
    "import tensorflow as tf\n",
    "import tensorflow_hub as hub\n",
    "import matplotlib.pyplot as plt"
   ]
  },
  {
   "cell_type": "code",
   "execution_count": 3,
   "id": "fc0ee1a0",
   "metadata": {},
   "outputs": [],
   "source": [
    "autoreload JobOffers,dataframeHelpers"
   ]
  },
  {
   "cell_type": "code",
   "execution_count": null,
   "id": "6810724a",
   "metadata": {},
   "outputs": [],
   "source": [
    "# Only run this if you want to redo the translations\n",
    "# Start with google and use easynmt if it fails\n",
    "# JobOffers.writeTranslatedJobs(1000, method=\"google\", fallback=True)"
   ]
  },
  {
   "cell_type": "code",
   "execution_count": null,
   "id": "b981ea5d",
   "metadata": {},
   "outputs": [],
   "source": [
    "# rawOffers = JobOffers.readJsonFile(\"Data/output_v1.1.json\")"
   ]
  },
  {
   "cell_type": "code",
   "execution_count": 4,
   "id": "97646346",
   "metadata": {},
   "outputs": [],
   "source": [
    "mergedDf = pd.read_csv(\"Data/mergedJobs1000.csv\")"
   ]
  },
  {
   "cell_type": "code",
   "execution_count": 5,
   "id": "former-correspondence",
   "metadata": {},
   "outputs": [
    {
     "data": {
      "text/plain": [
       "1101"
      ]
     },
     "execution_count": 5,
     "metadata": {},
     "output_type": "execute_result"
    }
   ],
   "source": [
    "len(mergedDf)"
   ]
  },
  {
   "cell_type": "code",
   "execution_count": 6,
   "id": "54f4b70d",
   "metadata": {},
   "outputs": [],
   "source": [
    "for canton in mergedDf[\"CANTON1\"].value_counts().index[:-1]:\n",
    "    mergedDf[f\"Canton_{canton}\"] = mergedDf.apply(lambda x: canton in x[\"CANTON\"], axis=1)"
   ]
  },
  {
   "cell_type": "code",
   "execution_count": 7,
   "id": "f3700b53",
   "metadata": {},
   "outputs": [],
   "source": [
    "dummies = pd.get_dummies(mergedDf[\"COMPANY_SIZE\"])\n",
    "mergedDf = mergedDf.join(dummies)"
   ]
  },
  {
   "cell_type": "code",
   "execution_count": 8,
   "id": "88d6a83f",
   "metadata": {},
   "outputs": [
    {
     "data": {
      "text/plain": [
       "1.0    304\n",
       "0.0    237\n",
       "Name: MJ, dtype: int64"
      ]
     },
     "execution_count": 8,
     "metadata": {},
     "output_type": "execute_result"
    }
   ],
   "source": [
    "mergedDf[\"MJ\"].value_counts()"
   ]
  },
  {
   "cell_type": "code",
   "execution_count": null,
   "id": "ee95e080",
   "metadata": {},
   "outputs": [],
   "source": []
  },
  {
   "cell_type": "code",
   "execution_count": 9,
   "id": "08660c34",
   "metadata": {},
   "outputs": [
    {
     "data": {
      "text/plain": [
       "'Building leaders Horticultural technician HF The Aemmer AG has been preparing sophisticated and beautiful garden and sports facilities for over 85 years. As a traditional family business with 35 employees and the most modern machinery, we strive to afford proper work. For expanding our team, we are looking for immediate or after agreement building guideline horticultural technician HF their area of \\u200b\\u200bresponsibility they are involved in the entire expiration of the planning offensea before and construction management to billing. Your areas of responsibility include sophisticated new plant garden change in private and public areas. Our expectations independence as well as joy in working in a team. In addition to flexibility of versatility and commitment should, above all, enjoy the contact with our customers. We offer we offer you a challenging versatile and self-employed activity of a modern dynamic and family operation. A pleasant working atmosphere in a motivated team and attractive techniques. Feel address then send us your complete application documents with photo to Mr. Alfred R. Grand Managing Director. Aemmer AG Garden and Sportplatzbau Oeleweg 12 3250 Lyss Tel. No. 032 387 79 50 a. Basic enslarge construction. CH landscape gardener as a foreman group boss We are a renowned company in the Bernese Zealand with 35 employees and the most modern machine park. We are active in the fields of horticulture sports fields and garden maintenance. At the center of our actions is our demanding and loyal clientele. They are a trained landscape gardener at least 25 years old and already have first experiences as a foreman or group boss. You are happy to work in a dynamic team looking forward to new interesting gardening challenges and ... Contact Alfred R. Grand Managing Director Aemmer AG Oeleweg 12 3250 Lyss Tel. 032 387 79 50'"
      ]
     },
     "execution_count": 9,
     "metadata": {},
     "output_type": "execute_result"
    }
   ],
   "source": [
    "mergedDf.iloc[0][\"TRANSLATED_JOBS\"]"
   ]
  },
  {
   "cell_type": "code",
   "execution_count": 10,
   "id": "04cfb4e1",
   "metadata": {},
   "outputs": [],
   "source": [
    "labeledDf = mergedDf[~mergedDf[\"MJ\"].isna()]"
   ]
  },
  {
   "cell_type": "code",
   "execution_count": null,
   "id": "49b8f106",
   "metadata": {},
   "outputs": [],
   "source": [
    "labeledDf"
   ]
  },
  {
   "cell_type": "code",
   "execution_count": null,
   "id": "87ced0fc",
   "metadata": {},
   "outputs": [],
   "source": [
    "mergedDf"
   ]
  },
  {
   "cell_type": "code",
   "execution_count": 11,
   "id": "5619ecc2",
   "metadata": {},
   "outputs": [
    {
     "data": {
      "text/plain": [
       "True     304\n",
       "False    237\n",
       "Name: MJ, dtype: int64"
      ]
     },
     "execution_count": 11,
     "metadata": {},
     "output_type": "execute_result"
    }
   ],
   "source": [
    "labeledDf[\"MJ\"].astype('bool').value_counts()"
   ]
  },
  {
   "cell_type": "code",
   "execution_count": null,
   "id": "035c4885",
   "metadata": {},
   "outputs": [],
   "source": []
  },
  {
   "cell_type": "code",
   "execution_count": null,
   "id": "fabd1c19",
   "metadata": {},
   "outputs": [],
   "source": []
  },
  {
   "cell_type": "code",
   "execution_count": 12,
   "id": "bd267603",
   "metadata": {},
   "outputs": [],
   "source": [
    "# Only take 2/3 of the \"not green\" jobs so you have a balanced data set\n",
    "trainDf = labeledDf[labeledDf.index % 3 != 0]"
   ]
  },
  {
   "cell_type": "code",
   "execution_count": 13,
   "id": "90369d8a",
   "metadata": {},
   "outputs": [],
   "source": [
    "testDf = labeledDf[labeledDf.index % 3 == 0]"
   ]
  },
  {
   "cell_type": "code",
   "execution_count": 14,
   "id": "fd27ebf0",
   "metadata": {},
   "outputs": [],
   "source": [
    "from tensorflow.keras.utils import plot_model"
   ]
  },
  {
   "cell_type": "code",
   "execution_count": 15,
   "id": "1f27c1df",
   "metadata": {},
   "outputs": [],
   "source": [
    "def buildInputs(df):\n",
    "    normSent = (df[\"NumSentences\"]-df[\"NumSentences\"].mean())/df[\"NumSentences\"].std()\n",
    "    normChar = (df[\"NumCharacters\"]-df[\"NumCharacters\"].mean())/df[\"NumCharacters\"].std()\n",
    "    return (df[\"TRANSLATED_JOBS\"].to_numpy(), np.stack(\n",
    "            (\n",
    "                normSent, \n",
    "                normChar,\n",
    "                df[\"Canton_BE\"],\n",
    "                df[\"Canton_VD\"],\n",
    "                df[\"Canton_NE\"],\n",
    "                df[\"Canton_FR\"], \n",
    "                df[\"Canton_GE\"],\n",
    "                df[\"Canton_VS\"],\n",
    "                df[\"Canton_JU\"],\n",
    "                df[\"Large\"],\n",
    "                df[\"Micro\"], \n",
    "                df[\"Midsize\"],\n",
    "                df[\"Small\"],\n",
    "            ), axis=-1))"
   ]
  },
  {
   "cell_type": "code",
   "execution_count": 16,
   "id": "69eec8b5",
   "metadata": {},
   "outputs": [],
   "source": [
    "trainInputs = buildInputs(trainDf)\n",
    "tf.keras.backend.clear_session()"
   ]
  },
  {
   "cell_type": "code",
   "execution_count": 17,
   "id": "932e70e4",
   "metadata": {},
   "outputs": [],
   "source": [
    "paragraphInput = tf.keras.layers.Input(shape=(), name=\"Input\", dtype=tf.string)\n",
    "paragraphEncode = hub.KerasLayer('universal-sentence-encoder_4',\n",
    "                        input_shape=[], \n",
    "                        dtype=tf.string, \n",
    "                        trainable=True)(paragraphInput)\n"
   ]
  },
  {
   "cell_type": "code",
   "execution_count": 18,
   "id": "e077674a",
   "metadata": {},
   "outputs": [],
   "source": [
    "paragraphDense = tf.keras.layers.Dense(256, activation='relu')(paragraphEncode)"
   ]
  },
  {
   "cell_type": "code",
   "execution_count": 19,
   "id": "f96b2ece",
   "metadata": {},
   "outputs": [],
   "source": [
    "otherInput = tf.keras.layers.Input(shape=(trainInputs[1].shape[1],))\n",
    "otherDense = tf.keras.layers.Dense(16,)(otherInput)\n",
    "mergedLayer = tf.keras.layers.Concatenate()([otherDense, paragraphDense])\n",
    "denseMerged = tf.keras.layers.Dense(32, activation='relu')(mergedLayer)\n",
    "output = tf.keras.layers.Dense(1, activation='sigmoid')(denseMerged)"
   ]
  },
  {
   "cell_type": "code",
   "execution_count": null,
   "id": "75e86b20",
   "metadata": {},
   "outputs": [],
   "source": [
    "model = tf.keras.Model(inputs=[paragraphInput, otherInput], outputs=output)\n",
    "model.compile(optimizer='adam', \n",
    "              loss='binary_crossentropy', \n",
    "              metrics=['accuracy'])"
   ]
  },
  {
   "cell_type": "code",
   "execution_count": 20,
   "id": "narrow-reach",
   "metadata": {},
   "outputs": [],
   "source": [
    "callback = tf.keras.callbacks.EarlyStopping(monitor='val_loss', patience=2)"
   ]
  },
  {
   "cell_type": "code",
   "execution_count": 21,
   "id": "voluntary-scenario",
   "metadata": {},
   "outputs": [
    {
     "data": {
      "text/plain": [
       "1.0    204\n",
       "0.0    157\n",
       "Name: MJ, dtype: int64"
      ]
     },
     "execution_count": 21,
     "metadata": {},
     "output_type": "execute_result"
    }
   ],
   "source": [
    "trainDf[\"MJ\"].value_counts()"
   ]
  },
  {
   "cell_type": "code",
   "execution_count": null,
   "id": "599a6518",
   "metadata": {},
   "outputs": [],
   "source": [
    "model.fit(x=buildInputs(trainDf), \n",
    "          y=trainDf[\"MJ\"].astype(\"bool\"), \n",
    "          validation_data=(buildInputs(testDf), testDf[\"MJ\"].astype(\"bool\")),\n",
    "          callbacks=[callback],\n",
    "          epochs=3)"
   ]
  },
  {
   "cell_type": "code",
   "execution_count": null,
   "id": "f4d19697",
   "metadata": {},
   "outputs": [],
   "source": [
    "testDf[\"GREEN_PREDICT_FULL\"] = model.predict(x=buildInputs(testDf)) > 0.5"
   ]
  },
  {
   "cell_type": "code",
   "execution_count": null,
   "id": "d59b6ae1",
   "metadata": {},
   "outputs": [],
   "source": [
    "confusion = pd.crosstab(testDf[\"MJ\"].astype('bool'), testDf[\"GREEN_PREDICT_FULL\"], rownames=['Actual'], colnames=['Predicted'], )\n",
    "confusion"
   ]
  },
  {
   "cell_type": "code",
   "execution_count": null,
   "id": "stone-router",
   "metadata": {},
   "outputs": [],
   "source": []
  },
  {
   "cell_type": "code",
   "execution_count": 39,
   "id": "3c4456e4",
   "metadata": {},
   "outputs": [],
   "source": [
    "import seaborn as sn\n",
    "sn.set(font_scale=1.4)"
   ]
  },
  {
   "cell_type": "code",
   "execution_count": 23,
   "id": "3f2b2bf9",
   "metadata": {},
   "outputs": [
    {
     "ename": "NameError",
     "evalue": "name 'confusion' is not defined",
     "output_type": "error",
     "traceback": [
      "\u001b[0;31m---------------------------------------------------------------------------\u001b[0m",
      "\u001b[0;31mNameError\u001b[0m                                 Traceback (most recent call last)",
      "\u001b[0;32m<ipython-input-23-0571b5880d8a>\u001b[0m in \u001b[0;36m<module>\u001b[0;34m\u001b[0m\n\u001b[0;32m----> 1\u001b[0;31m \u001b[0msn\u001b[0m\u001b[0;34m.\u001b[0m\u001b[0mheatmap\u001b[0m\u001b[0;34m(\u001b[0m\u001b[0mconfusion\u001b[0m\u001b[0;34m,\u001b[0m \u001b[0mannot\u001b[0m\u001b[0;34m=\u001b[0m\u001b[0;32mTrue\u001b[0m\u001b[0;34m,\u001b[0m \u001b[0;34m)\u001b[0m\u001b[0;34m\u001b[0m\u001b[0;34m\u001b[0m\u001b[0m\n\u001b[0m",
      "\u001b[0;31mNameError\u001b[0m: name 'confusion' is not defined"
     ]
    }
   ],
   "source": [
    "sn.heatmap(confusion, annot=True, )"
   ]
  },
  {
   "cell_type": "code",
   "execution_count": 24,
   "id": "c4c0c124",
   "metadata": {},
   "outputs": [
    {
     "ename": "NameError",
     "evalue": "name 'model' is not defined",
     "output_type": "error",
     "traceback": [
      "\u001b[0;31m---------------------------------------------------------------------------\u001b[0m",
      "\u001b[0;31mNameError\u001b[0m                                 Traceback (most recent call last)",
      "\u001b[0;32m<ipython-input-24-40285cf34e38>\u001b[0m in \u001b[0;36m<module>\u001b[0;34m\u001b[0m\n\u001b[0;32m----> 1\u001b[0;31m \u001b[0mplot_model\u001b[0m\u001b[0;34m(\u001b[0m\u001b[0mmodel\u001b[0m\u001b[0;34m,\u001b[0m \u001b[0mto_file\u001b[0m\u001b[0;34m=\u001b[0m\u001b[0;34m'Plots/NeuralNetArch_AllInputs.pdf'\u001b[0m\u001b[0;34m,\u001b[0m \u001b[0mshow_shapes\u001b[0m\u001b[0;34m=\u001b[0m\u001b[0;32mTrue\u001b[0m\u001b[0;34m,\u001b[0m \u001b[0mshow_layer_names\u001b[0m\u001b[0;34m=\u001b[0m\u001b[0;32mTrue\u001b[0m\u001b[0;34m)\u001b[0m\u001b[0;34m\u001b[0m\u001b[0;34m\u001b[0m\u001b[0m\n\u001b[0m",
      "\u001b[0;31mNameError\u001b[0m: name 'model' is not defined"
     ]
    }
   ],
   "source": [
    "plot_model(model, to_file='Plots/NeuralNetArch_AllInputs.pdf', show_shapes=True, show_layer_names=True)"
   ]
  },
  {
   "cell_type": "code",
   "execution_count": 26,
   "id": "880078d7",
   "metadata": {},
   "outputs": [
    {
     "data": {
      "text/plain": [
       "True     204\n",
       "False    157\n",
       "Name: MJ, dtype: int64"
      ]
     },
     "execution_count": 26,
     "metadata": {},
     "output_type": "execute_result"
    }
   ],
   "source": [
    "trainDf[\"MJ\"].astype('bool').value_counts()"
   ]
  },
  {
   "cell_type": "code",
   "execution_count": 27,
   "id": "35d7e8ab",
   "metadata": {},
   "outputs": [],
   "source": [
    "denseUnmerged = tf.keras.layers.Dense(32, activation='relu')(paragraphDense)\n",
    "outputUnmerged = tf.keras.layers.Dense(1, activation='sigmoid')(denseUnmerged)"
   ]
  },
  {
   "cell_type": "code",
   "execution_count": null,
   "id": "norwegian-performer",
   "metadata": {},
   "outputs": [],
   "source": []
  },
  {
   "cell_type": "code",
   "execution_count": 28,
   "id": "9edd3a9a",
   "metadata": {},
   "outputs": [],
   "source": [
    "simpleModel = tf.keras.Model(inputs=[paragraphInput], outputs=outputUnmerged)\n",
    "simpleModel.compile(optimizer='adam', \n",
    "              loss='binary_crossentropy', \n",
    "              metrics=['accuracy'])"
   ]
  },
  {
   "cell_type": "code",
   "execution_count": 29,
   "id": "further-death",
   "metadata": {},
   "outputs": [
    {
     "data": {
      "text/plain": [
       "True     204\n",
       "False    157\n",
       "Name: MJ, dtype: int64"
      ]
     },
     "execution_count": 29,
     "metadata": {},
     "output_type": "execute_result"
    }
   ],
   "source": [
    "trainDf[\"MJ\"].astype('bool').value_counts()"
   ]
  },
  {
   "cell_type": "code",
   "execution_count": 30,
   "id": "9a7d0dba",
   "metadata": {},
   "outputs": [
    {
     "name": "stdout",
     "output_type": "stream",
     "text": [
      "Epoch 1/6\n",
      "12/12 [==============================] - 27s 2s/step - loss: 0.6490 - accuracy: 0.6399 - val_loss: 0.5930 - val_accuracy: 0.6778\n",
      "Epoch 2/6\n",
      "12/12 [==============================] - 20s 2s/step - loss: 0.5365 - accuracy: 0.7618 - val_loss: 0.4898 - val_accuracy: 0.7556\n",
      "Epoch 3/6\n",
      "12/12 [==============================] - 19s 2s/step - loss: 0.3061 - accuracy: 0.9197 - val_loss: 0.4588 - val_accuracy: 0.7500\n",
      "Epoch 4/6\n",
      "12/12 [==============================] - 20s 2s/step - loss: 0.1059 - accuracy: 0.9751 - val_loss: 0.5218 - val_accuracy: 0.7778\n",
      "Epoch 5/6\n",
      "12/12 [==============================] - 20s 2s/step - loss: 0.0439 - accuracy: 0.9889 - val_loss: 0.6421 - val_accuracy: 0.7778\n"
     ]
    },
    {
     "data": {
      "text/plain": [
       "<tensorflow.python.keras.callbacks.History at 0x7fbe5ad7bbb0>"
      ]
     },
     "execution_count": 30,
     "metadata": {},
     "output_type": "execute_result"
    }
   ],
   "source": [
    "tf.keras.backend.clear_session()\n",
    "simpleModel.fit(x=[trainDf[\"TRANSLATED_JOBS\"]], \n",
    "          y=trainDf[\"MJ\"].astype('bool'), \n",
    "          callbacks=[callback],\n",
    "          validation_data=([testDf[\"TRANSLATED_JOBS\"]], testDf[\"MJ\"].astype('bool'), ),\n",
    "          epochs=6)"
   ]
  },
  {
   "cell_type": "code",
   "execution_count": 31,
   "id": "c782634f",
   "metadata": {},
   "outputs": [],
   "source": [
    "plot_model(simpleModel, to_file='Plots/NeuralNetArch_OnlySentences.pdf', show_shapes=True, show_layer_names=True)"
   ]
  },
  {
   "cell_type": "code",
   "execution_count": 33,
   "id": "3bbf67e5",
   "metadata": {},
   "outputs": [
    {
     "name": "stderr",
     "output_type": "stream",
     "text": [
      "<ipython-input-33-f437d751fa29>:1: SettingWithCopyWarning: \n",
      "A value is trying to be set on a copy of a slice from a DataFrame.\n",
      "Try using .loc[row_indexer,col_indexer] = value instead\n",
      "\n",
      "See the caveats in the documentation: https://pandas.pydata.org/pandas-docs/stable/user_guide/indexing.html#returning-a-view-versus-a-copy\n",
      "  testDf[\"GREEN_PREDICT_SIMPLE\"] = simpleModel.predict(x=[testDf[\"TRANSLATED_JOBS\"]]) > 0.5\n"
     ]
    }
   ],
   "source": [
    "testDf[\"GREEN_PREDICT_SIMPLE\"] = simpleModel.predict(x=[testDf[\"TRANSLATED_JOBS\"]]) > 0.5\n",
    "confusionSimple = pd.crosstab(testDf[\"MJ\"].astype('bool'), testDf[\"GREEN_PREDICT_SIMPLE\"], rownames=['Actual'], colnames=['Predicted'], )\n"
   ]
  },
  {
   "cell_type": "code",
   "execution_count": 34,
   "id": "ed65c1dc",
   "metadata": {},
   "outputs": [
    {
     "data": {
      "text/html": [
       "<div>\n",
       "<style scoped>\n",
       "    .dataframe tbody tr th:only-of-type {\n",
       "        vertical-align: middle;\n",
       "    }\n",
       "\n",
       "    .dataframe tbody tr th {\n",
       "        vertical-align: top;\n",
       "    }\n",
       "\n",
       "    .dataframe thead th {\n",
       "        text-align: right;\n",
       "    }\n",
       "</style>\n",
       "<table border=\"1\" class=\"dataframe\">\n",
       "  <thead>\n",
       "    <tr style=\"text-align: right;\">\n",
       "      <th>Predicted</th>\n",
       "      <th>False</th>\n",
       "      <th>True</th>\n",
       "    </tr>\n",
       "    <tr>\n",
       "      <th>Actual</th>\n",
       "      <th></th>\n",
       "      <th></th>\n",
       "    </tr>\n",
       "  </thead>\n",
       "  <tbody>\n",
       "    <tr>\n",
       "      <th>False</th>\n",
       "      <td>67</td>\n",
       "      <td>13</td>\n",
       "    </tr>\n",
       "    <tr>\n",
       "      <th>True</th>\n",
       "      <td>27</td>\n",
       "      <td>73</td>\n",
       "    </tr>\n",
       "  </tbody>\n",
       "</table>\n",
       "</div>"
      ],
      "text/plain": [
       "Predicted  False  True \n",
       "Actual                 \n",
       "False         67     13\n",
       "True          27     73"
      ]
     },
     "execution_count": 34,
     "metadata": {},
     "output_type": "execute_result"
    }
   ],
   "source": [
    "confusionSimple "
   ]
  },
  {
   "cell_type": "code",
   "execution_count": 56,
   "id": "b2960187",
   "metadata": {},
   "outputs": [
    {
     "data": {
      "image/png": "[encoded data removed]",
      "text/plain": [
       "<Figure size 432x288 with 2 Axes>"
      ]
     },
     "metadata": {},
     "output_type": "display_data"
    }
   ],
   "source": [
    "fig = sn.heatmap(confusionSimple, annot=True, cmap=\"Blues\", annot_kws={\"size\": 16})"
   ]
  },
  {
   "cell_type": "code",
   "execution_count": 59,
   "id": "25a964c6",
   "metadata": {},
   "outputs": [],
   "source": [
    "fig.figure.tight_layout()\n",
    "fig.figure.savefig(\"Plots/simpleModelConfusion.pdf\")"
   ]
  },
  {
   "cell_type": "code",
   "execution_count": null,
   "id": "166bb224",
   "metadata": {},
   "outputs": [],
   "source": []
  },
  {
   "cell_type": "code",
   "execution_count": null,
   "id": "forced-exhaust",
   "metadata": {},
   "outputs": [],
   "source": [
    "mergedDf[mergedDf[\"TRANSLATED_JOBS\"].isna()]"
   ]
  },
  {
   "cell_type": "code",
   "execution_count": null,
   "id": "53db9439",
   "metadata": {},
   "outputs": [],
   "source": [
    "mergedDf[\"GREEN_PREDICT_SIMPLE\"] = simpleModel.predict(x=[mergedDf[\"TRANSLATED_JOBS\"]])"
   ]
  },
  {
   "cell_type": "code",
   "execution_count": null,
   "id": "soviet-negotiation",
   "metadata": {},
   "outputs": [],
   "source": [
    "mergedDf[\"GREEN_PREDICT_FULL\"] = model.predict(x=buildInputs(mergedDf))"
   ]
  },
  {
   "cell_type": "code",
   "execution_count": null,
   "id": "1ce62e2d",
   "metadata": {},
   "outputs": [],
   "source": [
    "plt.hist(mergedDf[\"GREEN_PREDICT_SIMPLE\"], label=\"Only text\", alpha=0.5)\n",
    "plt.hist(mergedDf[\"GREEN_PREDICT_FULL\"], label=\"Full model\", alpha=0.5)\n",
    "plt.legend()"
   ]
  },
  {
   "cell_type": "code",
   "execution_count": 64,
   "id": "0f483bbe",
   "metadata": {},
   "outputs": [
    {
     "data": {
      "text/html": [
       "<div>\n",
       "<style scoped>\n",
       "    .dataframe tbody tr th:only-of-type {\n",
       "        vertical-align: middle;\n",
       "    }\n",
       "\n",
       "    .dataframe tbody tr th {\n",
       "        vertical-align: top;\n",
       "    }\n",
       "\n",
       "    .dataframe thead th {\n",
       "        text-align: right;\n",
       "    }\n",
       "</style>\n",
       "<table border=\"1\" class=\"dataframe\">\n",
       "  <thead>\n",
       "    <tr style=\"text-align: right;\">\n",
       "      <th>Predicted</th>\n",
       "      <th>False</th>\n",
       "      <th>True</th>\n",
       "    </tr>\n",
       "    <tr>\n",
       "      <th>Actual</th>\n",
       "      <th></th>\n",
       "      <th></th>\n",
       "    </tr>\n",
       "  </thead>\n",
       "  <tbody>\n",
       "    <tr>\n",
       "      <th>False</th>\n",
       "      <td>67</td>\n",
       "      <td>13</td>\n",
       "    </tr>\n",
       "    <tr>\n",
       "      <th>True</th>\n",
       "      <td>27</td>\n",
       "      <td>73</td>\n",
       "    </tr>\n",
       "  </tbody>\n",
       "</table>\n",
       "</div>"
      ],
      "text/plain": [
       "Predicted  False  True \n",
       "Actual                 \n",
       "False         67     13\n",
       "True          27     73"
      ]
     },
     "execution_count": 64,
     "metadata": {},
     "output_type": "execute_result"
    }
   ],
   "source": [
    "confusionSimple"
   ]
  },
  {
   "cell_type": "code",
   "execution_count": 70,
   "id": "8b543b43",
   "metadata": {},
   "outputs": [],
   "source": [
    "confMat = confusionSimple.to_numpy()"
   ]
  },
  {
   "cell_type": "code",
   "execution_count": 74,
   "id": "9881ba0d",
   "metadata": {},
   "outputs": [],
   "source": [
    "recall = confMat[0,0]/(confMat[0,0]+confMat[1,0])"
   ]
  },
  {
   "cell_type": "code",
   "execution_count": 75,
   "id": "21cefcd6",
   "metadata": {},
   "outputs": [],
   "source": [
    "precision = confMat[0,0]/(confMat[0,0]+confMat[1,0])"
   ]
  },
  {
   "cell_type": "code",
   "execution_count": 78,
   "id": "eb0ce32c",
   "metadata": {},
   "outputs": [],
   "source": [
    "fscore = 2*recall*precision/(recall+precision)"
   ]
  },
  {
   "cell_type": "code",
   "execution_count": 81,
   "id": "f299fc79",
   "metadata": {},
   "outputs": [
    {
     "name": "stdout",
     "output_type": "stream",
     "text": [
      "Recall: 0.84\n",
      "precision: 0.71\n",
      "f-score: 0.77\n"
     ]
    }
   ],
   "source": [
    "print(\"Recall: %0.2f\\nprecision: %0.2f\\nf-score: %0.2f\" % (recall, precision, fscore ))"
   ]
  }
 ],
 "metadata": {
  "kernelspec": {
   "display_name": "thesisenv",
   "language": "python",
   "name": "thesisenv"
  },
  "language_info": {
   "codemirror_mode": {
    "name": "ipython",
    "version": 3
   },
   "file_extension": ".py",
   "mimetype": "text/x-python",
   "name": "python",
   "nbconvert_exporter": "python",
   "pygments_lexer": "ipython3",
   "version": "3.8.8"
  }
 },
 "nbformat": 4,
 "nbformat_minor": 5
}
