{
 "cells": [
  {
   "cell_type": "code",
   "execution_count": 1,
   "metadata": {},
   "outputs": [],
   "source": [
    "%load_ext autoreload\n",
    "%autoreload 2\n",
    "import sentenceSimilarityMethods"
   ]
  },
  {
   "cell_type": "code",
   "execution_count": 2,
   "metadata": {},
   "outputs": [],
   "source": [
    "import json\n",
    "import os\n",
    "import nltk\n",
    "import re\n",
    "import pandas as pd\n",
    "import JobOffers\n",
    "import tensorflow_hub as hub\n",
    "import numpy as np"
   ]
  },
  {
   "cell_type": "code",
   "execution_count": 3,
   "metadata": {},
   "outputs": [],
   "source": [
    "from scipy import spatial"
   ]
  },
  {
   "cell_type": "code",
   "execution_count": 4,
   "metadata": {},
   "outputs": [],
   "source": [
    "autoreload JobOffers"
   ]
  },
  {
   "cell_type": "code",
   "execution_count": 5,
   "metadata": {},
   "outputs": [],
   "source": [
    "alljobs = JobOffers.readJsonFile(\"output_V1.1.json\")"
   ]
  },
  {
   "cell_type": "code",
   "execution_count": 6,
   "metadata": {},
   "outputs": [],
   "source": [
    "import tokenizers\n",
    "from easynmt import EasyNMT\n",
    "model = EasyNMT('opus-mt')"
   ]
  },
  {
   "cell_type": "code",
   "execution_count": 7,
   "metadata": {},
   "outputs": [],
   "source": [
    "#alljobs = JobOffers.addTranslation(alljobs, \"output_V1.1.translate.json\", maxWrite=100)"
   ]
  },
  {
   "cell_type": "code",
   "execution_count": 8,
   "metadata": {},
   "outputs": [],
   "source": [
    "alljobs = JobOffers.readJsonFile(\"output_V1.1.translate.json\")"
   ]
  },
  {
   "cell_type": "code",
   "execution_count": 9,
   "metadata": {},
   "outputs": [],
   "source": [
    "jobsDf = pd.DataFrame(np.array(([x[\"ID\"] for x in alljobs], [x[\"TOKENIZED_JOBS\"] for x in alljobs]), dtype='object').T, columns = [\"JOB_ID\", \"JOB_CONTENT\"] )\n",
    "\n",
    "\n"
   ]
  },
  {
   "cell_type": "code",
   "execution_count": 10,
   "metadata": {},
   "outputs": [],
   "source": [
    "jobsSentences = np.array([y for x in jobsDf[\"JOB_CONTENT\"] for y in x])"
   ]
  },
  {
   "cell_type": "code",
   "execution_count": 11,
   "metadata": {},
   "outputs": [],
   "source": [
    "#Activities Json\n",
    "activitesJson = JobOffers.readJsonFile(\"Dataset_Classes.json\", encoding=\"utf-8\")"
   ]
  },
  {
   "cell_type": "code",
   "execution_count": 12,
   "metadata": {},
   "outputs": [],
   "source": [
    "#Old activities CSV that I will work with for now\n",
    "oldActs = pd.read_csv(os.path.expanduser(\"~/Desktop/Thesis/Data/Activities.csv\"), error_bad_lines=False)"
   ]
  },
  {
   "cell_type": "code",
   "execution_count": 13,
   "metadata": {},
   "outputs": [],
   "source": [
    "oldActsDf = oldActs.rename(columns={'O*Net\\nMétiers verts' : \"ACTIVITY_ID\", 'O\"Net: Détails des activités pour les métiers verts' : \"ACTIVITY_CONTENT\"})"
   ]
  },
  {
   "cell_type": "code",
   "execution_count": 14,
   "metadata": {},
   "outputs": [],
   "source": [
    "slimmedActsDf = oldActsDf[[\"ACTIVITY_ID\", \"ACTIVITY_CONTENT\"]][~oldActsDf[\"ACTIVITY_CONTENT\"].isna()]"
   ]
  },
  {
   "cell_type": "code",
   "execution_count": 15,
   "metadata": {},
   "outputs": [],
   "source": [
    "slimmedActsDf.loc[slimmedActsDf[\"ACTIVITY_ID\"].isna(), 'ACTIVITY_ID'] = slimmedActsDf[slimmedActsDf[\"ACTIVITY_ID\"].isna()].index"
   ]
  },
  {
   "cell_type": "code",
   "execution_count": 16,
   "metadata": {},
   "outputs": [
    {
     "data": {
      "text/html": [
       "<div>\n",
       "<style scoped>\n",
       "    .dataframe tbody tr th:only-of-type {\n",
       "        vertical-align: middle;\n",
       "    }\n",
       "\n",
       "    .dataframe tbody tr th {\n",
       "        vertical-align: top;\n",
       "    }\n",
       "\n",
       "    .dataframe thead th {\n",
       "        text-align: right;\n",
       "    }\n",
       "</style>\n",
       "<table border=\"1\" class=\"dataframe\">\n",
       "  <thead>\n",
       "    <tr style=\"text-align: right;\">\n",
       "      <th></th>\n",
       "      <th>ACTIVITY_ID</th>\n",
       "      <th>ACTIVITY_CONTENT</th>\n",
       "    </tr>\n",
       "  </thead>\n",
       "  <tbody>\n",
       "    <tr>\n",
       "      <th>0</th>\n",
       "      <td>0</td>\n",
       "      <td>Where and how are the information and data gai...</td>\n",
       "    </tr>\n",
       "    <tr>\n",
       "      <th>1</th>\n",
       "      <td>1</td>\n",
       "      <td>Observing, receiving, and otherwise obtaining...</td>\n",
       "    </tr>\n",
       "    <tr>\n",
       "      <th>3</th>\n",
       "      <td>4.A.1.a.1.G01</td>\n",
       "      <td>Collect geographic information systems (GIS) d...</td>\n",
       "    </tr>\n",
       "    <tr>\n",
       "      <th>4</th>\n",
       "      <td>4.A.1.a.1.G02</td>\n",
       "      <td>Collect geological data.</td>\n",
       "    </tr>\n",
       "    <tr>\n",
       "      <th>5</th>\n",
       "      <td>4.A.1.a.1.G03</td>\n",
       "      <td>Collect data about green practices or programs.</td>\n",
       "    </tr>\n",
       "    <tr>\n",
       "      <th>...</th>\n",
       "      <td>...</td>\n",
       "      <td>...</td>\n",
       "    </tr>\n",
       "    <tr>\n",
       "      <th>225</th>\n",
       "      <td>4.A.4.b.6.G08</td>\n",
       "      <td>Provide technical guidance on green projects.</td>\n",
       "    </tr>\n",
       "    <tr>\n",
       "      <th>226</th>\n",
       "      <td>226</td>\n",
       "      <td>Performing day-to-day administrative tasks suc...</td>\n",
       "    </tr>\n",
       "    <tr>\n",
       "      <th>227</th>\n",
       "      <td>4.A.4.c.1.G01</td>\n",
       "      <td>Obtain permits.</td>\n",
       "    </tr>\n",
       "    <tr>\n",
       "      <th>228</th>\n",
       "      <td>228</td>\n",
       "      <td>Recruiting, interviewing, selecting, hiring, ...</td>\n",
       "    </tr>\n",
       "    <tr>\n",
       "      <th>229</th>\n",
       "      <td>229</td>\n",
       "      <td>Monitoring and controlling resources and over...</td>\n",
       "    </tr>\n",
       "  </tbody>\n",
       "</table>\n",
       "<p>219 rows × 2 columns</p>\n",
       "</div>"
      ],
      "text/plain": [
       "       ACTIVITY_ID                                   ACTIVITY_CONTENT\n",
       "0                0  Where and how are the information and data gai...\n",
       "1                1   Observing, receiving, and otherwise obtaining...\n",
       "3    4.A.1.a.1.G01  Collect geographic information systems (GIS) d...\n",
       "4    4.A.1.a.1.G02                           Collect geological data.\n",
       "5    4.A.1.a.1.G03    Collect data about green practices or programs.\n",
       "..             ...                                                ...\n",
       "225  4.A.4.b.6.G08      Provide technical guidance on green projects.\n",
       "226            226  Performing day-to-day administrative tasks suc...\n",
       "227  4.A.4.c.1.G01                                    Obtain permits.\n",
       "228            228   Recruiting, interviewing, selecting, hiring, ...\n",
       "229            229   Monitoring and controlling resources and over...\n",
       "\n",
       "[219 rows x 2 columns]"
      ]
     },
     "execution_count": 16,
     "metadata": {},
     "output_type": "execute_result"
    }
   ],
   "source": [
    "slimmedActsDf"
   ]
  },
  {
   "cell_type": "code",
   "execution_count": 17,
   "metadata": {},
   "outputs": [],
   "source": [
    "activitiesSentences = slimmedActsDf[\"ACTIVITY_CONTENT\"].to_numpy()"
   ]
  },
  {
   "cell_type": "code",
   "execution_count": 18,
   "metadata": {},
   "outputs": [],
   "source": [
    "allSentences = np.concatenate((jobsSentences, activitiesSentences))"
   ]
  },
  {
   "cell_type": "code",
   "execution_count": 19,
   "metadata": {},
   "outputs": [],
   "source": [
    "import logging\n",
    "logging.getLogger(\"tensorflow\").setLevel(logging.ERROR)"
   ]
  },
  {
   "cell_type": "code",
   "execution_count": 20,
   "metadata": {},
   "outputs": [
    {
     "name": "stderr",
     "output_type": "stream",
     "text": [
      "INFO:absl:Using /var/folders/k1/s5r_rds12x52scbksr0dfg3m0000gn/T/tfhub_modules to cache modules.\n"
     ]
    }
   ],
   "source": [
    "module_url = \"https://tfhub.dev/google/universal-sentence-encoder/4\" #@param [\"https://tfhub.dev/google/universal-sentence-encoder/4\", \"https://tfhub.dev/google/universal-sentence-encoder-large/5\"]\n",
    "model = hub.load(module_url)\n",
    "def embed(input):\n",
    "  return model(input)"
   ]
  },
  {
   "cell_type": "code",
   "execution_count": 21,
   "metadata": {},
   "outputs": [
    {
     "data": {
      "text/plain": [
       "219"
      ]
     },
     "execution_count": 21,
     "metadata": {},
     "output_type": "execute_result"
    }
   ],
   "source": [
    "len(slimmedActsDf)"
   ]
  },
  {
   "cell_type": "code",
   "execution_count": 22,
   "metadata": {},
   "outputs": [
    {
     "data": {
      "text/plain": [
       "array(['We are a successful and independent engineering office in Schönried',\n",
       "       ' To strengthen our team and to optimally process the manifold interesting objects, we are looking for civil engineering MW of their work areas of constructive engineering construction both in project planning and in the construction management of general low and road construction',\n",
       "       ' Your profile You have a completed studies as a civil engineer ETHTUFH',\n",
       "       ..., 'Obtain permits.',\n",
       "       ' Recruiting, interviewing, selecting, hiring, and promoting employees in an organization.',\n",
       "       ' Monitoring and controlling resources and overseeing the spending of money.'],\n",
       "      dtype=object)"
      ]
     },
     "execution_count": 22,
     "metadata": {},
     "output_type": "execute_result"
    }
   ],
   "source": [
    "allSentences"
   ]
  },
  {
   "cell_type": "code",
   "execution_count": 23,
   "metadata": {},
   "outputs": [],
   "source": [
    "for i, x in enumerate(allSentences):\n",
    "    if type(x) != str:\n",
    "        print(i, x)"
   ]
  },
  {
   "cell_type": "code",
   "execution_count": 24,
   "metadata": {},
   "outputs": [],
   "source": [
    "allSentences = np.concatenate((jobsSentences, activitiesSentences))"
   ]
  },
  {
   "cell_type": "code",
   "execution_count": 25,
   "metadata": {},
   "outputs": [],
   "source": [
    "allEmbeddings = embed(allSentences)"
   ]
  },
  {
   "cell_type": "code",
   "execution_count": 26,
   "metadata": {},
   "outputs": [
    {
     "data": {
      "text/plain": [
       "1044"
      ]
     },
     "execution_count": 26,
     "metadata": {},
     "output_type": "execute_result"
    }
   ],
   "source": [
    "len(allEmbeddings)"
   ]
  },
  {
   "cell_type": "code",
   "execution_count": 27,
   "metadata": {},
   "outputs": [
    {
     "data": {
      "text/plain": [
       "<tf.Tensor: shape=(1044, 512), dtype=float32, numpy=\n",
       "array([[-0.04822776, -0.02858711, -0.06559009, ...,  0.01871002,\n",
       "        -0.0613087 , -0.00590269],\n",
       "       [ 0.0207816 ,  0.03388791,  0.04297301, ...,  0.0401625 ,\n",
       "        -0.04559466,  0.00078988],\n",
       "       [ 0.04384393, -0.05652945,  0.00356796, ...,  0.00565387,\n",
       "        -0.02749583, -0.04372038],\n",
       "       ...,\n",
       "       [ 0.01992017, -0.07031337,  0.01158184, ...,  0.02191224,\n",
       "         0.03360986, -0.01287735],\n",
       "       [ 0.0046779 , -0.07686147, -0.00192719, ...,  0.04384581,\n",
       "        -0.01931715,  0.04942223],\n",
       "       [ 0.06814821, -0.04083548,  0.06860898, ...,  0.02696883,\n",
       "        -0.0426277 ,  0.07055186]], dtype=float32)>"
      ]
     },
     "execution_count": 27,
     "metadata": {},
     "output_type": "execute_result"
    }
   ],
   "source": [
    "allEmbeddings"
   ]
  },
  {
   "cell_type": "code",
   "execution_count": 28,
   "metadata": {},
   "outputs": [
    {
     "data": {
      "text/plain": [
       "array([ 11,  21,  28,  30,  51,  53,  69,  70,  83,  96, 108, 110, 111,\n",
       "       119, 121, 123, 135, 139, 159, 179, 188, 199, 201, 203, 210, 219,\n",
       "       227, 236, 238, 255, 272, 274, 285, 307, 313, 327, 334, 338, 352,\n",
       "       353, 364, 369, 376, 396, 404, 414, 428, 462, 469, 499, 501, 506,\n",
       "       517, 524, 531, 534, 547, 566, 573, 582, 593, 595, 597, 599, 601,\n",
       "       608, 617, 641, 661, 674, 676, 690, 692, 694, 696, 704, 706, 727,\n",
       "       729, 739, 741, 743, 745, 747, 749, 760, 762, 775, 777, 784, 792,\n",
       "       794, 796, 798, 800, 802, 812, 821, 823, 825])"
      ]
     },
     "execution_count": 28,
     "metadata": {},
     "output_type": "execute_result"
    }
   ],
   "source": [
    "jobBoundaries = np.cumsum([len(x) for x in jobsDf[\"JOB_CONTENT\"]])\n",
    "jobBoundaries"
   ]
  },
  {
   "cell_type": "code",
   "execution_count": 29,
   "metadata": {},
   "outputs": [],
   "source": [
    "def matchToJob(row):\n",
    "    first = jobBoundaries[row.name-1] if row.name != 0 else 0\n",
    "    last = jobBoundaries[row.name]\n",
    "    return allEmbeddings[first:last]"
   ]
  },
  {
   "cell_type": "code",
   "execution_count": 30,
   "metadata": {},
   "outputs": [],
   "source": [
    "jobsDf[\"JOB_SCORES\"] = jobsDf.apply(matchToJob, axis=1)"
   ]
  },
  {
   "cell_type": "code",
   "execution_count": 31,
   "metadata": {
    "scrolled": true
   },
   "outputs": [
    {
     "data": {
      "text/html": [
       "<div>\n",
       "<style scoped>\n",
       "    .dataframe tbody tr th:only-of-type {\n",
       "        vertical-align: middle;\n",
       "    }\n",
       "\n",
       "    .dataframe tbody tr th {\n",
       "        vertical-align: top;\n",
       "    }\n",
       "\n",
       "    .dataframe thead th {\n",
       "        text-align: right;\n",
       "    }\n",
       "</style>\n",
       "<table border=\"1\" class=\"dataframe\">\n",
       "  <thead>\n",
       "    <tr style=\"text-align: right;\">\n",
       "      <th></th>\n",
       "      <th>JOB_ID</th>\n",
       "      <th>JOB_CONTENT</th>\n",
       "      <th>JOB_SCORES</th>\n",
       "    </tr>\n",
       "  </thead>\n",
       "  <tbody>\n",
       "    <tr>\n",
       "      <th>0</th>\n",
       "      <td>12220025</td>\n",
       "      <td>[We are a successful and independent engineeri...</td>\n",
       "      <td>((tf.Tensor(-0.04822776, shape=(), dtype=float...</td>\n",
       "    </tr>\n",
       "    <tr>\n",
       "      <th>1</th>\n",
       "      <td>10814567</td>\n",
       "      <td>[We are a prestigious and successful engineeri...</td>\n",
       "      <td>((tf.Tensor(-0.020631889, shape=(), dtype=floa...</td>\n",
       "    </tr>\n",
       "    <tr>\n",
       "      <th>2</th>\n",
       "      <td>12401674</td>\n",
       "      <td>[Bill Weyermann Partner AG has been producing ...</td>\n",
       "      <td>((tf.Tensor(0.055472188, shape=(), dtype=float...</td>\n",
       "    </tr>\n",
       "    <tr>\n",
       "      <th>3</th>\n",
       "      <td>12473085</td>\n",
       "      <td>[Administration Communale de Valderuzforstarti...</td>\n",
       "      <td>((tf.Tensor(0.019481275, shape=(), dtype=float...</td>\n",
       "    </tr>\n",
       "    <tr>\n",
       "      <th>4</th>\n",
       "      <td>12905109</td>\n",
       "      <td>[The Straumann Group is experiencing internati...</td>\n",
       "      <td>((tf.Tensor(-0.022287764, shape=(), dtype=floa...</td>\n",
       "    </tr>\n",
       "    <tr>\n",
       "      <th>...</th>\n",
       "      <td>...</td>\n",
       "      <td>...</td>\n",
       "      <td>...</td>\n",
       "    </tr>\n",
       "    <tr>\n",
       "      <th>95</th>\n",
       "      <td>13469747</td>\n",
       "      <td>[Commune de Lausanne Service of the Parcs Et D...</td>\n",
       "      <td>((tf.Tensor(0.06673486, shape=(), dtype=float3...</td>\n",
       "    </tr>\n",
       "    <tr>\n",
       "      <th>96</th>\n",
       "      <td>13494906</td>\n",
       "      <td>[Quality Assurance Engineer Bern Switzerland Y...</td>\n",
       "      <td>((tf.Tensor(-0.010205403, shape=(), dtype=floa...</td>\n",
       "    </tr>\n",
       "    <tr>\n",
       "      <th>97</th>\n",
       "      <td>13517245</td>\n",
       "      <td>[Solution-oriented creative and dynamic We are...</td>\n",
       "      <td>((tf.Tensor(-0.055482067, shape=(), dtype=floa...</td>\n",
       "    </tr>\n",
       "    <tr>\n",
       "      <th>98</th>\n",
       "      <td>13461980</td>\n",
       "      <td>[Green Blue Gardener Garden and Landscaping Ef...</td>\n",
       "      <td>((tf.Tensor(-0.008430735, shape=(), dtype=floa...</td>\n",
       "    </tr>\n",
       "    <tr>\n",
       "      <th>99</th>\n",
       "      <td>13462067</td>\n",
       "      <td>[Haas Gartenbau Aggartenner in Garden and land...</td>\n",
       "      <td>((tf.Tensor(-0.002503812, shape=(), dtype=floa...</td>\n",
       "    </tr>\n",
       "  </tbody>\n",
       "</table>\n",
       "<p>100 rows × 3 columns</p>\n",
       "</div>"
      ],
      "text/plain": [
       "      JOB_ID                                        JOB_CONTENT  \\\n",
       "0   12220025  [We are a successful and independent engineeri...   \n",
       "1   10814567  [We are a prestigious and successful engineeri...   \n",
       "2   12401674  [Bill Weyermann Partner AG has been producing ...   \n",
       "3   12473085  [Administration Communale de Valderuzforstarti...   \n",
       "4   12905109  [The Straumann Group is experiencing internati...   \n",
       "..       ...                                                ...   \n",
       "95  13469747  [Commune de Lausanne Service of the Parcs Et D...   \n",
       "96  13494906  [Quality Assurance Engineer Bern Switzerland Y...   \n",
       "97  13517245  [Solution-oriented creative and dynamic We are...   \n",
       "98  13461980  [Green Blue Gardener Garden and Landscaping Ef...   \n",
       "99  13462067  [Haas Gartenbau Aggartenner in Garden and land...   \n",
       "\n",
       "                                           JOB_SCORES  \n",
       "0   ((tf.Tensor(-0.04822776, shape=(), dtype=float...  \n",
       "1   ((tf.Tensor(-0.020631889, shape=(), dtype=floa...  \n",
       "2   ((tf.Tensor(0.055472188, shape=(), dtype=float...  \n",
       "3   ((tf.Tensor(0.019481275, shape=(), dtype=float...  \n",
       "4   ((tf.Tensor(-0.022287764, shape=(), dtype=floa...  \n",
       "..                                                ...  \n",
       "95  ((tf.Tensor(0.06673486, shape=(), dtype=float3...  \n",
       "96  ((tf.Tensor(-0.010205403, shape=(), dtype=floa...  \n",
       "97  ((tf.Tensor(-0.055482067, shape=(), dtype=floa...  \n",
       "98  ((tf.Tensor(-0.008430735, shape=(), dtype=floa...  \n",
       "99  ((tf.Tensor(-0.002503812, shape=(), dtype=floa...  \n",
       "\n",
       "[100 rows x 3 columns]"
      ]
     },
     "execution_count": 31,
     "metadata": {},
     "output_type": "execute_result"
    }
   ],
   "source": [
    "jobsDf"
   ]
  },
  {
   "cell_type": "code",
   "execution_count": 32,
   "metadata": {},
   "outputs": [],
   "source": [
    "slimmedActsDf[\"ACTIVITY_SCORES\"] = allEmbeddings[-1*(len(slimmedActsDf)):]"
   ]
  },
  {
   "cell_type": "code",
   "execution_count": 33,
   "metadata": {
    "scrolled": true
   },
   "outputs": [
    {
     "data": {
      "text/plain": [
       "512"
      ]
     },
     "execution_count": 33,
     "metadata": {},
     "output_type": "execute_result"
    }
   ],
   "source": [
    "len(slimmedActsDf[\"ACTIVITY_SCORES\"][0])"
   ]
  },
  {
   "cell_type": "code",
   "execution_count": 34,
   "metadata": {},
   "outputs": [],
   "source": [
    "dist = spatial.distance.cosine(jobsDf[\"JOB_SCORES\"][0][0], slimmedActsDf[\"ACTIVITY_SCORES\"][0])"
   ]
  },
  {
   "cell_type": "code",
   "execution_count": 35,
   "metadata": {},
   "outputs": [
    {
     "data": {
      "text/plain": [
       "0.9204563945531845"
      ]
     },
     "execution_count": 35,
     "metadata": {},
     "output_type": "execute_result"
    }
   ],
   "source": [
    "dist"
   ]
  },
  {
   "cell_type": "code",
   "execution_count": 36,
   "metadata": {},
   "outputs": [],
   "source": [
    "resultsDf = pd.DataFrame()"
   ]
  },
  {
   "cell_type": "code",
   "execution_count": 37,
   "metadata": {},
   "outputs": [],
   "source": [
    "resultsDf[\"JOB_ID\"] = jobsDf[\"JOB_ID\"]"
   ]
  },
  {
   "cell_type": "code",
   "execution_count": 38,
   "metadata": {},
   "outputs": [],
   "source": [
    "resultsDf[\"JOB_SCORES\"] = jobsDf[\"JOB_SCORES\"]"
   ]
  },
  {
   "cell_type": "code",
   "execution_count": 39,
   "metadata": {},
   "outputs": [],
   "source": [
    "resultsDf = resultsDf.merge(slimmedActsDf, how = \"cross\")"
   ]
  },
  {
   "cell_type": "code",
   "execution_count": 40,
   "metadata": {},
   "outputs": [
    {
     "data": {
      "text/plain": [
       "21900"
      ]
     },
     "execution_count": 40,
     "metadata": {},
     "output_type": "execute_result"
    }
   ],
   "source": [
    "len(resultsDf[\"ACTIVITY_SCORES\"])"
   ]
  },
  {
   "cell_type": "code",
   "execution_count": 41,
   "metadata": {},
   "outputs": [],
   "source": [
    "resultsDf = resultsDf[[\"JOB_ID\", \"ACTIVITY_ID\", \"JOB_SCORES\", \"ACTIVITY_SCORES\"]]\n"
   ]
  },
  {
   "cell_type": "code",
   "execution_count": 42,
   "metadata": {},
   "outputs": [
    {
     "data": {
      "text/html": [
       "<div>\n",
       "<style scoped>\n",
       "    .dataframe tbody tr th:only-of-type {\n",
       "        vertical-align: middle;\n",
       "    }\n",
       "\n",
       "    .dataframe tbody tr th {\n",
       "        vertical-align: top;\n",
       "    }\n",
       "\n",
       "    .dataframe thead th {\n",
       "        text-align: right;\n",
       "    }\n",
       "</style>\n",
       "<table border=\"1\" class=\"dataframe\">\n",
       "  <thead>\n",
       "    <tr style=\"text-align: right;\">\n",
       "      <th></th>\n",
       "      <th>JOB_ID</th>\n",
       "      <th>ACTIVITY_ID</th>\n",
       "      <th>JOB_SCORES</th>\n",
       "      <th>ACTIVITY_SCORES</th>\n",
       "    </tr>\n",
       "  </thead>\n",
       "  <tbody>\n",
       "    <tr>\n",
       "      <th>0</th>\n",
       "      <td>12220025</td>\n",
       "      <td>0</td>\n",
       "      <td>((tf.Tensor(-0.04822776, shape=(), dtype=float...</td>\n",
       "      <td>(tf.Tensor(0.027285306, shape=(), dtype=float3...</td>\n",
       "    </tr>\n",
       "    <tr>\n",
       "      <th>1</th>\n",
       "      <td>12220025</td>\n",
       "      <td>1</td>\n",
       "      <td>((tf.Tensor(-0.04822776, shape=(), dtype=float...</td>\n",
       "      <td>(tf.Tensor(0.07172423, shape=(), dtype=float32...</td>\n",
       "    </tr>\n",
       "    <tr>\n",
       "      <th>2</th>\n",
       "      <td>12220025</td>\n",
       "      <td>4.A.1.a.1.G01</td>\n",
       "      <td>((tf.Tensor(-0.04822776, shape=(), dtype=float...</td>\n",
       "      <td>(tf.Tensor(0.061349783, shape=(), dtype=float3...</td>\n",
       "    </tr>\n",
       "    <tr>\n",
       "      <th>3</th>\n",
       "      <td>12220025</td>\n",
       "      <td>4.A.1.a.1.G02</td>\n",
       "      <td>((tf.Tensor(-0.04822776, shape=(), dtype=float...</td>\n",
       "      <td>(tf.Tensor(0.04309698, shape=(), dtype=float32...</td>\n",
       "    </tr>\n",
       "    <tr>\n",
       "      <th>4</th>\n",
       "      <td>12220025</td>\n",
       "      <td>4.A.1.a.1.G03</td>\n",
       "      <td>((tf.Tensor(-0.04822776, shape=(), dtype=float...</td>\n",
       "      <td>(tf.Tensor(0.035856005, shape=(), dtype=float3...</td>\n",
       "    </tr>\n",
       "    <tr>\n",
       "      <th>...</th>\n",
       "      <td>...</td>\n",
       "      <td>...</td>\n",
       "      <td>...</td>\n",
       "      <td>...</td>\n",
       "    </tr>\n",
       "    <tr>\n",
       "      <th>21895</th>\n",
       "      <td>13462067</td>\n",
       "      <td>4.A.4.b.6.G08</td>\n",
       "      <td>((tf.Tensor(-0.002503812, shape=(), dtype=floa...</td>\n",
       "      <td>(tf.Tensor(0.0028080945, shape=(), dtype=float...</td>\n",
       "    </tr>\n",
       "    <tr>\n",
       "      <th>21896</th>\n",
       "      <td>13462067</td>\n",
       "      <td>226</td>\n",
       "      <td>((tf.Tensor(-0.002503812, shape=(), dtype=floa...</td>\n",
       "      <td>(tf.Tensor(-0.008161316, shape=(), dtype=float...</td>\n",
       "    </tr>\n",
       "    <tr>\n",
       "      <th>21897</th>\n",
       "      <td>13462067</td>\n",
       "      <td>4.A.4.c.1.G01</td>\n",
       "      <td>((tf.Tensor(-0.002503812, shape=(), dtype=floa...</td>\n",
       "      <td>(tf.Tensor(0.019920168, shape=(), dtype=float3...</td>\n",
       "    </tr>\n",
       "    <tr>\n",
       "      <th>21898</th>\n",
       "      <td>13462067</td>\n",
       "      <td>228</td>\n",
       "      <td>((tf.Tensor(-0.002503812, shape=(), dtype=floa...</td>\n",
       "      <td>(tf.Tensor(0.0046779006, shape=(), dtype=float...</td>\n",
       "    </tr>\n",
       "    <tr>\n",
       "      <th>21899</th>\n",
       "      <td>13462067</td>\n",
       "      <td>229</td>\n",
       "      <td>((tf.Tensor(-0.002503812, shape=(), dtype=floa...</td>\n",
       "      <td>(tf.Tensor(0.06814821, shape=(), dtype=float32...</td>\n",
       "    </tr>\n",
       "  </tbody>\n",
       "</table>\n",
       "<p>21900 rows × 4 columns</p>\n",
       "</div>"
      ],
      "text/plain": [
       "         JOB_ID    ACTIVITY_ID  \\\n",
       "0      12220025              0   \n",
       "1      12220025              1   \n",
       "2      12220025  4.A.1.a.1.G01   \n",
       "3      12220025  4.A.1.a.1.G02   \n",
       "4      12220025  4.A.1.a.1.G03   \n",
       "...         ...            ...   \n",
       "21895  13462067  4.A.4.b.6.G08   \n",
       "21896  13462067            226   \n",
       "21897  13462067  4.A.4.c.1.G01   \n",
       "21898  13462067            228   \n",
       "21899  13462067            229   \n",
       "\n",
       "                                              JOB_SCORES  \\\n",
       "0      ((tf.Tensor(-0.04822776, shape=(), dtype=float...   \n",
       "1      ((tf.Tensor(-0.04822776, shape=(), dtype=float...   \n",
       "2      ((tf.Tensor(-0.04822776, shape=(), dtype=float...   \n",
       "3      ((tf.Tensor(-0.04822776, shape=(), dtype=float...   \n",
       "4      ((tf.Tensor(-0.04822776, shape=(), dtype=float...   \n",
       "...                                                  ...   \n",
       "21895  ((tf.Tensor(-0.002503812, shape=(), dtype=floa...   \n",
       "21896  ((tf.Tensor(-0.002503812, shape=(), dtype=floa...   \n",
       "21897  ((tf.Tensor(-0.002503812, shape=(), dtype=floa...   \n",
       "21898  ((tf.Tensor(-0.002503812, shape=(), dtype=floa...   \n",
       "21899  ((tf.Tensor(-0.002503812, shape=(), dtype=floa...   \n",
       "\n",
       "                                         ACTIVITY_SCORES  \n",
       "0      (tf.Tensor(0.027285306, shape=(), dtype=float3...  \n",
       "1      (tf.Tensor(0.07172423, shape=(), dtype=float32...  \n",
       "2      (tf.Tensor(0.061349783, shape=(), dtype=float3...  \n",
       "3      (tf.Tensor(0.04309698, shape=(), dtype=float32...  \n",
       "4      (tf.Tensor(0.035856005, shape=(), dtype=float3...  \n",
       "...                                                  ...  \n",
       "21895  (tf.Tensor(0.0028080945, shape=(), dtype=float...  \n",
       "21896  (tf.Tensor(-0.008161316, shape=(), dtype=float...  \n",
       "21897  (tf.Tensor(0.019920168, shape=(), dtype=float3...  \n",
       "21898  (tf.Tensor(0.0046779006, shape=(), dtype=float...  \n",
       "21899  (tf.Tensor(0.06814821, shape=(), dtype=float32...  \n",
       "\n",
       "[21900 rows x 4 columns]"
      ]
     },
     "execution_count": 42,
     "metadata": {},
     "output_type": "execute_result"
    }
   ],
   "source": [
    "resultsDf"
   ]
  },
  {
   "cell_type": "code",
   "execution_count": 43,
   "metadata": {},
   "outputs": [],
   "source": [
    "row = resultsDf.loc[0,:]"
   ]
  },
  {
   "cell_type": "code",
   "execution_count": 44,
   "metadata": {},
   "outputs": [],
   "source": [
    "def compareSentences(row):\n",
    "    for sentence in resultsDf[\"JOB_SCORES\"]:\n",
    "        return spatial.distance.cosine(row[\"JOB_SCORES\"][sentence], row[\"ACTIVITY_SCORES\"])"
   ]
  },
  {
   "cell_type": "code",
   "execution_count": 45,
   "metadata": {},
   "outputs": [],
   "source": [
    "def distCalc(row):\n",
    "    distArray = []\n",
    "    for entry in row[\"JOB_SCORES\"] :\n",
    "        dist = spatial.distance.cosine(entry, row[\"ACTIVITY_SCORES\"])\n",
    "        distArray.append(dist)\n",
    "    return distArray\n",
    "    "
   ]
  },
  {
   "cell_type": "code",
   "execution_count": 64,
   "metadata": {},
   "outputs": [],
   "source": [
    "row = resultsDf.loc[0,:]"
   ]
  },
  {
   "cell_type": "code",
   "execution_count": 46,
   "metadata": {},
   "outputs": [],
   "source": [
    "resultsDf[\"DISTANCES\"] = resultsDf.apply(distCalc, axis =1)"
   ]
  },
  {
   "cell_type": "code",
   "execution_count": 49,
   "metadata": {},
   "outputs": [
    {
     "data": {
      "text/html": [
       "<div>\n",
       "<style scoped>\n",
       "    .dataframe tbody tr th:only-of-type {\n",
       "        vertical-align: middle;\n",
       "    }\n",
       "\n",
       "    .dataframe tbody tr th {\n",
       "        vertical-align: top;\n",
       "    }\n",
       "\n",
       "    .dataframe thead th {\n",
       "        text-align: right;\n",
       "    }\n",
       "</style>\n",
       "<table border=\"1\" class=\"dataframe\">\n",
       "  <thead>\n",
       "    <tr style=\"text-align: right;\">\n",
       "      <th></th>\n",
       "      <th>JOB_ID</th>\n",
       "      <th>ACTIVITY_ID</th>\n",
       "      <th>JOB_SCORES</th>\n",
       "      <th>ACTIVITY_SCORES</th>\n",
       "      <th>DISTANCES</th>\n",
       "    </tr>\n",
       "  </thead>\n",
       "  <tbody>\n",
       "    <tr>\n",
       "      <th>0</th>\n",
       "      <td>12220025</td>\n",
       "      <td>0</td>\n",
       "      <td>((tf.Tensor(-0.04822776, shape=(), dtype=float...</td>\n",
       "      <td>(tf.Tensor(0.027285306, shape=(), dtype=float3...</td>\n",
       "      <td>[0.9204563945531845, 0.9612990096211433, 0.896...</td>\n",
       "    </tr>\n",
       "    <tr>\n",
       "      <th>1</th>\n",
       "      <td>12220025</td>\n",
       "      <td>1</td>\n",
       "      <td>((tf.Tensor(-0.04822776, shape=(), dtype=float...</td>\n",
       "      <td>(tf.Tensor(0.07172423, shape=(), dtype=float32...</td>\n",
       "      <td>[1.1060239672660828, 0.9814335498958826, 0.960...</td>\n",
       "    </tr>\n",
       "    <tr>\n",
       "      <th>2</th>\n",
       "      <td>12220025</td>\n",
       "      <td>4.A.1.a.1.G01</td>\n",
       "      <td>((tf.Tensor(-0.04822776, shape=(), dtype=float...</td>\n",
       "      <td>(tf.Tensor(0.061349783, shape=(), dtype=float3...</td>\n",
       "      <td>[1.02582386136055, 1.048024758696556, 0.852094...</td>\n",
       "    </tr>\n",
       "    <tr>\n",
       "      <th>3</th>\n",
       "      <td>12220025</td>\n",
       "      <td>4.A.1.a.1.G02</td>\n",
       "      <td>((tf.Tensor(-0.04822776, shape=(), dtype=float...</td>\n",
       "      <td>(tf.Tensor(0.04309698, shape=(), dtype=float32...</td>\n",
       "      <td>[1.0590376444160938, 1.0112552838400006, 0.829...</td>\n",
       "    </tr>\n",
       "    <tr>\n",
       "      <th>4</th>\n",
       "      <td>12220025</td>\n",
       "      <td>4.A.1.a.1.G03</td>\n",
       "      <td>((tf.Tensor(-0.04822776, shape=(), dtype=float...</td>\n",
       "      <td>(tf.Tensor(0.035856005, shape=(), dtype=float3...</td>\n",
       "      <td>[1.0500608645379543, 1.095018446445465, 0.9780...</td>\n",
       "    </tr>\n",
       "    <tr>\n",
       "      <th>...</th>\n",
       "      <td>...</td>\n",
       "      <td>...</td>\n",
       "      <td>...</td>\n",
       "      <td>...</td>\n",
       "      <td>...</td>\n",
       "    </tr>\n",
       "    <tr>\n",
       "      <th>21895</th>\n",
       "      <td>13462067</td>\n",
       "      <td>4.A.4.b.6.G08</td>\n",
       "      <td>((tf.Tensor(-0.002503812, shape=(), dtype=floa...</td>\n",
       "      <td>(tf.Tensor(0.0028080945, shape=(), dtype=float...</td>\n",
       "      <td>[0.9995186589076184, 1.2212068736553192]</td>\n",
       "    </tr>\n",
       "    <tr>\n",
       "      <th>21896</th>\n",
       "      <td>13462067</td>\n",
       "      <td>226</td>\n",
       "      <td>((tf.Tensor(-0.002503812, shape=(), dtype=floa...</td>\n",
       "      <td>(tf.Tensor(-0.008161316, shape=(), dtype=float...</td>\n",
       "      <td>[0.977263942360878, 0.9934241622686386]</td>\n",
       "    </tr>\n",
       "    <tr>\n",
       "      <th>21897</th>\n",
       "      <td>13462067</td>\n",
       "      <td>4.A.4.c.1.G01</td>\n",
       "      <td>((tf.Tensor(-0.002503812, shape=(), dtype=floa...</td>\n",
       "      <td>(tf.Tensor(0.019920168, shape=(), dtype=float3...</td>\n",
       "      <td>[0.9572820700705051, 0.9627352058887482]</td>\n",
       "    </tr>\n",
       "    <tr>\n",
       "      <th>21898</th>\n",
       "      <td>13462067</td>\n",
       "      <td>228</td>\n",
       "      <td>((tf.Tensor(-0.002503812, shape=(), dtype=floa...</td>\n",
       "      <td>(tf.Tensor(0.0046779006, shape=(), dtype=float...</td>\n",
       "      <td>[0.8675366938114166, 0.8801782131195068]</td>\n",
       "    </tr>\n",
       "    <tr>\n",
       "      <th>21899</th>\n",
       "      <td>13462067</td>\n",
       "      <td>229</td>\n",
       "      <td>((tf.Tensor(-0.002503812, shape=(), dtype=floa...</td>\n",
       "      <td>(tf.Tensor(0.06814821, shape=(), dtype=float32...</td>\n",
       "      <td>[0.9900918966159225, 1.0790960937738419]</td>\n",
       "    </tr>\n",
       "  </tbody>\n",
       "</table>\n",
       "<p>21900 rows × 5 columns</p>\n",
       "</div>"
      ],
      "text/plain": [
       "         JOB_ID    ACTIVITY_ID  \\\n",
       "0      12220025              0   \n",
       "1      12220025              1   \n",
       "2      12220025  4.A.1.a.1.G01   \n",
       "3      12220025  4.A.1.a.1.G02   \n",
       "4      12220025  4.A.1.a.1.G03   \n",
       "...         ...            ...   \n",
       "21895  13462067  4.A.4.b.6.G08   \n",
       "21896  13462067            226   \n",
       "21897  13462067  4.A.4.c.1.G01   \n",
       "21898  13462067            228   \n",
       "21899  13462067            229   \n",
       "\n",
       "                                              JOB_SCORES  \\\n",
       "0      ((tf.Tensor(-0.04822776, shape=(), dtype=float...   \n",
       "1      ((tf.Tensor(-0.04822776, shape=(), dtype=float...   \n",
       "2      ((tf.Tensor(-0.04822776, shape=(), dtype=float...   \n",
       "3      ((tf.Tensor(-0.04822776, shape=(), dtype=float...   \n",
       "4      ((tf.Tensor(-0.04822776, shape=(), dtype=float...   \n",
       "...                                                  ...   \n",
       "21895  ((tf.Tensor(-0.002503812, shape=(), dtype=floa...   \n",
       "21896  ((tf.Tensor(-0.002503812, shape=(), dtype=floa...   \n",
       "21897  ((tf.Tensor(-0.002503812, shape=(), dtype=floa...   \n",
       "21898  ((tf.Tensor(-0.002503812, shape=(), dtype=floa...   \n",
       "21899  ((tf.Tensor(-0.002503812, shape=(), dtype=floa...   \n",
       "\n",
       "                                         ACTIVITY_SCORES  \\\n",
       "0      (tf.Tensor(0.027285306, shape=(), dtype=float3...   \n",
       "1      (tf.Tensor(0.07172423, shape=(), dtype=float32...   \n",
       "2      (tf.Tensor(0.061349783, shape=(), dtype=float3...   \n",
       "3      (tf.Tensor(0.04309698, shape=(), dtype=float32...   \n",
       "4      (tf.Tensor(0.035856005, shape=(), dtype=float3...   \n",
       "...                                                  ...   \n",
       "21895  (tf.Tensor(0.0028080945, shape=(), dtype=float...   \n",
       "21896  (tf.Tensor(-0.008161316, shape=(), dtype=float...   \n",
       "21897  (tf.Tensor(0.019920168, shape=(), dtype=float3...   \n",
       "21898  (tf.Tensor(0.0046779006, shape=(), dtype=float...   \n",
       "21899  (tf.Tensor(0.06814821, shape=(), dtype=float32...   \n",
       "\n",
       "                                               DISTANCES  \n",
       "0      [0.9204563945531845, 0.9612990096211433, 0.896...  \n",
       "1      [1.1060239672660828, 0.9814335498958826, 0.960...  \n",
       "2      [1.02582386136055, 1.048024758696556, 0.852094...  \n",
       "3      [1.0590376444160938, 1.0112552838400006, 0.829...  \n",
       "4      [1.0500608645379543, 1.095018446445465, 0.9780...  \n",
       "...                                                  ...  \n",
       "21895           [0.9995186589076184, 1.2212068736553192]  \n",
       "21896            [0.977263942360878, 0.9934241622686386]  \n",
       "21897           [0.9572820700705051, 0.9627352058887482]  \n",
       "21898           [0.8675366938114166, 0.8801782131195068]  \n",
       "21899           [0.9900918966159225, 1.0790960937738419]  \n",
       "\n",
       "[21900 rows x 5 columns]"
      ]
     },
     "execution_count": 49,
     "metadata": {},
     "output_type": "execute_result"
    }
   ],
   "source": [
    "resultsDf"
   ]
  },
  {
   "cell_type": "code",
   "execution_count": 67,
   "metadata": {},
   "outputs": [],
   "source": [
    "def bestMatchFinder(row) :\n",
    "    minDistance = min(row[\"DISTANCES\"])\n",
    "    return minDistance"
   ]
  },
  {
   "cell_type": "code",
   "execution_count": 68,
   "metadata": {},
   "outputs": [],
   "source": [
    "resultsDf[\"BEST_ACTIVITY_MATCH\"] = resultsDf.apply(bestMatchFinder, axis =1)"
   ]
  },
  {
   "cell_type": "code",
   "execution_count": 71,
   "metadata": {},
   "outputs": [
    {
     "data": {
      "text/plain": [
       "14851"
      ]
     },
     "execution_count": 71,
     "metadata": {},
     "output_type": "execute_result"
    }
   ],
   "source": [
    "np.argmin(resultsDf[\"BEST_ACTIVITY_MATCH\"])"
   ]
  },
  {
   "cell_type": "code",
   "execution_count": 72,
   "metadata": {},
   "outputs": [
    {
     "data": {
      "text/plain": [
       "JOB_ID                                                          13583336\n",
       "ACTIVITY_ID                                                4.A.4.a.6.G04\n",
       "JOB_SCORES             ((tf.Tensor(-0.019486245, shape=(), dtype=floa...\n",
       "ACTIVITY_SCORES        (tf.Tensor(-0.042908337, shape=(), dtype=float...\n",
       "DISTANCES              [1.0609365440905094, 0.9880833635106683, 1.114...\n",
       "bestMatch                                                           None\n",
       "BEST_ACTIVITY_MATCH                                             0.459543\n",
       "Name: 14851, dtype: object"
      ]
     },
     "execution_count": 72,
     "metadata": {},
     "output_type": "execute_result"
    }
   ],
   "source": [
    "resultsDf.loc[14851,:]"
   ]
  },
  {
   "cell_type": "code",
   "execution_count": 73,
   "metadata": {},
   "outputs": [
    {
     "data": {
      "text/html": [
       "<div>\n",
       "<style scoped>\n",
       "    .dataframe tbody tr th:only-of-type {\n",
       "        vertical-align: middle;\n",
       "    }\n",
       "\n",
       "    .dataframe tbody tr th {\n",
       "        vertical-align: top;\n",
       "    }\n",
       "\n",
       "    .dataframe thead th {\n",
       "        text-align: right;\n",
       "    }\n",
       "</style>\n",
       "<table border=\"1\" class=\"dataframe\">\n",
       "  <thead>\n",
       "    <tr style=\"text-align: right;\">\n",
       "      <th></th>\n",
       "      <th>JOB_ID</th>\n",
       "      <th>ACTIVITY_ID</th>\n",
       "      <th>JOB_SCORES</th>\n",
       "      <th>ACTIVITY_SCORES</th>\n",
       "      <th>DISTANCES</th>\n",
       "      <th>bestMatch</th>\n",
       "      <th>BEST_ACTIVITY_MATCH</th>\n",
       "    </tr>\n",
       "  </thead>\n",
       "  <tbody>\n",
       "    <tr>\n",
       "      <th>0</th>\n",
       "      <td>12220025</td>\n",
       "      <td>0</td>\n",
       "      <td>((tf.Tensor(-0.04822776, shape=(), dtype=float...</td>\n",
       "      <td>(tf.Tensor(0.027285306, shape=(), dtype=float3...</td>\n",
       "      <td>[0.9204563945531845, 0.9612990096211433, 0.896...</td>\n",
       "      <td>None</td>\n",
       "      <td>0.670784</td>\n",
       "    </tr>\n",
       "    <tr>\n",
       "      <th>1</th>\n",
       "      <td>12220025</td>\n",
       "      <td>1</td>\n",
       "      <td>((tf.Tensor(-0.04822776, shape=(), dtype=float...</td>\n",
       "      <td>(tf.Tensor(0.07172423, shape=(), dtype=float32...</td>\n",
       "      <td>[1.1060239672660828, 0.9814335498958826, 0.960...</td>\n",
       "      <td>None</td>\n",
       "      <td>0.730214</td>\n",
       "    </tr>\n",
       "    <tr>\n",
       "      <th>2</th>\n",
       "      <td>12220025</td>\n",
       "      <td>4.A.1.a.1.G01</td>\n",
       "      <td>((tf.Tensor(-0.04822776, shape=(), dtype=float...</td>\n",
       "      <td>(tf.Tensor(0.061349783, shape=(), dtype=float3...</td>\n",
       "      <td>[1.02582386136055, 1.048024758696556, 0.852094...</td>\n",
       "      <td>None</td>\n",
       "      <td>0.852094</td>\n",
       "    </tr>\n",
       "    <tr>\n",
       "      <th>3</th>\n",
       "      <td>12220025</td>\n",
       "      <td>4.A.1.a.1.G02</td>\n",
       "      <td>((tf.Tensor(-0.04822776, shape=(), dtype=float...</td>\n",
       "      <td>(tf.Tensor(0.04309698, shape=(), dtype=float32...</td>\n",
       "      <td>[1.0590376444160938, 1.0112552838400006, 0.829...</td>\n",
       "      <td>None</td>\n",
       "      <td>0.814106</td>\n",
       "    </tr>\n",
       "    <tr>\n",
       "      <th>4</th>\n",
       "      <td>12220025</td>\n",
       "      <td>4.A.1.a.1.G03</td>\n",
       "      <td>((tf.Tensor(-0.04822776, shape=(), dtype=float...</td>\n",
       "      <td>(tf.Tensor(0.035856005, shape=(), dtype=float3...</td>\n",
       "      <td>[1.0500608645379543, 1.095018446445465, 0.9780...</td>\n",
       "      <td>None</td>\n",
       "      <td>0.923093</td>\n",
       "    </tr>\n",
       "    <tr>\n",
       "      <th>...</th>\n",
       "      <td>...</td>\n",
       "      <td>...</td>\n",
       "      <td>...</td>\n",
       "      <td>...</td>\n",
       "      <td>...</td>\n",
       "      <td>...</td>\n",
       "      <td>...</td>\n",
       "    </tr>\n",
       "    <tr>\n",
       "      <th>21895</th>\n",
       "      <td>13462067</td>\n",
       "      <td>4.A.4.b.6.G08</td>\n",
       "      <td>((tf.Tensor(-0.002503812, shape=(), dtype=floa...</td>\n",
       "      <td>(tf.Tensor(0.0028080945, shape=(), dtype=float...</td>\n",
       "      <td>[0.9995186589076184, 1.2212068736553192]</td>\n",
       "      <td>None</td>\n",
       "      <td>0.999519</td>\n",
       "    </tr>\n",
       "    <tr>\n",
       "      <th>21896</th>\n",
       "      <td>13462067</td>\n",
       "      <td>226</td>\n",
       "      <td>((tf.Tensor(-0.002503812, shape=(), dtype=floa...</td>\n",
       "      <td>(tf.Tensor(-0.008161316, shape=(), dtype=float...</td>\n",
       "      <td>[0.977263942360878, 0.9934241622686386]</td>\n",
       "      <td>None</td>\n",
       "      <td>0.977264</td>\n",
       "    </tr>\n",
       "    <tr>\n",
       "      <th>21897</th>\n",
       "      <td>13462067</td>\n",
       "      <td>4.A.4.c.1.G01</td>\n",
       "      <td>((tf.Tensor(-0.002503812, shape=(), dtype=floa...</td>\n",
       "      <td>(tf.Tensor(0.019920168, shape=(), dtype=float3...</td>\n",
       "      <td>[0.9572820700705051, 0.9627352058887482]</td>\n",
       "      <td>None</td>\n",
       "      <td>0.957282</td>\n",
       "    </tr>\n",
       "    <tr>\n",
       "      <th>21898</th>\n",
       "      <td>13462067</td>\n",
       "      <td>228</td>\n",
       "      <td>((tf.Tensor(-0.002503812, shape=(), dtype=floa...</td>\n",
       "      <td>(tf.Tensor(0.0046779006, shape=(), dtype=float...</td>\n",
       "      <td>[0.8675366938114166, 0.8801782131195068]</td>\n",
       "      <td>None</td>\n",
       "      <td>0.867537</td>\n",
       "    </tr>\n",
       "    <tr>\n",
       "      <th>21899</th>\n",
       "      <td>13462067</td>\n",
       "      <td>229</td>\n",
       "      <td>((tf.Tensor(-0.002503812, shape=(), dtype=floa...</td>\n",
       "      <td>(tf.Tensor(0.06814821, shape=(), dtype=float32...</td>\n",
       "      <td>[0.9900918966159225, 1.0790960937738419]</td>\n",
       "      <td>None</td>\n",
       "      <td>0.990092</td>\n",
       "    </tr>\n",
       "  </tbody>\n",
       "</table>\n",
       "<p>21900 rows × 7 columns</p>\n",
       "</div>"
      ],
      "text/plain": [
       "         JOB_ID    ACTIVITY_ID  \\\n",
       "0      12220025              0   \n",
       "1      12220025              1   \n",
       "2      12220025  4.A.1.a.1.G01   \n",
       "3      12220025  4.A.1.a.1.G02   \n",
       "4      12220025  4.A.1.a.1.G03   \n",
       "...         ...            ...   \n",
       "21895  13462067  4.A.4.b.6.G08   \n",
       "21896  13462067            226   \n",
       "21897  13462067  4.A.4.c.1.G01   \n",
       "21898  13462067            228   \n",
       "21899  13462067            229   \n",
       "\n",
       "                                              JOB_SCORES  \\\n",
       "0      ((tf.Tensor(-0.04822776, shape=(), dtype=float...   \n",
       "1      ((tf.Tensor(-0.04822776, shape=(), dtype=float...   \n",
       "2      ((tf.Tensor(-0.04822776, shape=(), dtype=float...   \n",
       "3      ((tf.Tensor(-0.04822776, shape=(), dtype=float...   \n",
       "4      ((tf.Tensor(-0.04822776, shape=(), dtype=float...   \n",
       "...                                                  ...   \n",
       "21895  ((tf.Tensor(-0.002503812, shape=(), dtype=floa...   \n",
       "21896  ((tf.Tensor(-0.002503812, shape=(), dtype=floa...   \n",
       "21897  ((tf.Tensor(-0.002503812, shape=(), dtype=floa...   \n",
       "21898  ((tf.Tensor(-0.002503812, shape=(), dtype=floa...   \n",
       "21899  ((tf.Tensor(-0.002503812, shape=(), dtype=floa...   \n",
       "\n",
       "                                         ACTIVITY_SCORES  \\\n",
       "0      (tf.Tensor(0.027285306, shape=(), dtype=float3...   \n",
       "1      (tf.Tensor(0.07172423, shape=(), dtype=float32...   \n",
       "2      (tf.Tensor(0.061349783, shape=(), dtype=float3...   \n",
       "3      (tf.Tensor(0.04309698, shape=(), dtype=float32...   \n",
       "4      (tf.Tensor(0.035856005, shape=(), dtype=float3...   \n",
       "...                                                  ...   \n",
       "21895  (tf.Tensor(0.0028080945, shape=(), dtype=float...   \n",
       "21896  (tf.Tensor(-0.008161316, shape=(), dtype=float...   \n",
       "21897  (tf.Tensor(0.019920168, shape=(), dtype=float3...   \n",
       "21898  (tf.Tensor(0.0046779006, shape=(), dtype=float...   \n",
       "21899  (tf.Tensor(0.06814821, shape=(), dtype=float32...   \n",
       "\n",
       "                                               DISTANCES bestMatch  \\\n",
       "0      [0.9204563945531845, 0.9612990096211433, 0.896...      None   \n",
       "1      [1.1060239672660828, 0.9814335498958826, 0.960...      None   \n",
       "2      [1.02582386136055, 1.048024758696556, 0.852094...      None   \n",
       "3      [1.0590376444160938, 1.0112552838400006, 0.829...      None   \n",
       "4      [1.0500608645379543, 1.095018446445465, 0.9780...      None   \n",
       "...                                                  ...       ...   \n",
       "21895           [0.9995186589076184, 1.2212068736553192]      None   \n",
       "21896            [0.977263942360878, 0.9934241622686386]      None   \n",
       "21897           [0.9572820700705051, 0.9627352058887482]      None   \n",
       "21898           [0.8675366938114166, 0.8801782131195068]      None   \n",
       "21899           [0.9900918966159225, 1.0790960937738419]      None   \n",
       "\n",
       "       BEST_ACTIVITY_MATCH  \n",
       "0                 0.670784  \n",
       "1                 0.730214  \n",
       "2                 0.852094  \n",
       "3                 0.814106  \n",
       "4                 0.923093  \n",
       "...                    ...  \n",
       "21895             0.999519  \n",
       "21896             0.977264  \n",
       "21897             0.957282  \n",
       "21898             0.867537  \n",
       "21899             0.990092  \n",
       "\n",
       "[21900 rows x 7 columns]"
      ]
     },
     "execution_count": 73,
     "metadata": {},
     "output_type": "execute_result"
    }
   ],
   "source": [
    "resultsDf"
   ]
  },
  {
   "cell_type": "code",
   "execution_count": 78,
   "metadata": {},
   "outputs": [
    {
     "data": {
      "text/plain": [
       "JOB_ID                                                          12220025\n",
       "ACTIVITY_ID                                                4.A.4.b.1.G09\n",
       "JOB_SCORES             ((tf.Tensor(-0.04822776, shape=(), dtype=float...\n",
       "ACTIVITY_SCORES        (tf.Tensor(0.05714458, shape=(), dtype=float32...\n",
       "DISTANCES              [0.7911518663167953, 0.6139824390411377, 0.747...\n",
       "bestMatch                                                           None\n",
       "BEST_ACTIVITY_MATCH                                             0.578821\n",
       "Name: 194, dtype: object"
      ]
     },
     "execution_count": 78,
     "metadata": {},
     "output_type": "execute_result"
    }
   ],
   "source": [
    "job1 = resultsDf[resultsDf[\"JOB_ID\"] == 12220025]\n",
    "minEntry = np.argmin(job1[\"BEST_ACTIVITY_MATCH\"])\n",
    "job1.loc[minEntry,:]"
   ]
  },
  {
   "cell_type": "code",
   "execution_count": 80,
   "metadata": {
    "scrolled": true
   },
   "outputs": [
    {
     "data": {
      "text/html": [
       "<div>\n",
       "<style scoped>\n",
       "    .dataframe tbody tr th:only-of-type {\n",
       "        vertical-align: middle;\n",
       "    }\n",
       "\n",
       "    .dataframe tbody tr th {\n",
       "        vertical-align: top;\n",
       "    }\n",
       "\n",
       "    .dataframe thead th {\n",
       "        text-align: right;\n",
       "    }\n",
       "</style>\n",
       "<table border=\"1\" class=\"dataframe\">\n",
       "  <thead>\n",
       "    <tr style=\"text-align: right;\">\n",
       "      <th></th>\n",
       "      <th>ACTIVITY_ID</th>\n",
       "      <th>ACTIVITY_CONTENT</th>\n",
       "      <th>ACTIVITY_SCORES</th>\n",
       "    </tr>\n",
       "  </thead>\n",
       "  <tbody>\n",
       "    <tr>\n",
       "      <th>205</th>\n",
       "      <td>4.A.4.b.1.G09</td>\n",
       "      <td>Manage engineering or construction activities.</td>\n",
       "      <td>(tf.Tensor(0.05714458, shape=(), dtype=float32...</td>\n",
       "    </tr>\n",
       "  </tbody>\n",
       "</table>\n",
       "</div>"
      ],
      "text/plain": [
       "       ACTIVITY_ID                                ACTIVITY_CONTENT  \\\n",
       "205  4.A.4.b.1.G09  Manage engineering or construction activities.   \n",
       "\n",
       "                                       ACTIVITY_SCORES  \n",
       "205  (tf.Tensor(0.05714458, shape=(), dtype=float32...  "
      ]
     },
     "execution_count": 80,
     "metadata": {},
     "output_type": "execute_result"
    }
   ],
   "source": [
    "slimmedActsDf[slimmedActsDf[\"ACTIVITY_ID\"]==\"4.A.4.b.1.G09\"]"
   ]
  },
  {
   "cell_type": "code",
   "execution_count": 84,
   "metadata": {},
   "outputs": [],
   "source": [
    "job1Df = jobsDf[jobsDf[\"JOB_ID\"]==12220025]"
   ]
  },
  {
   "cell_type": "code",
   "execution_count": 87,
   "metadata": {},
   "outputs": [
    {
     "name": "stdout",
     "output_type": "stream",
     "text": [
      "[['We are a successful and independent engineering office in Schönried', ' To strengthen our team and to optimally process the manifold interesting objects, we are looking for civil engineering MW of their work areas of constructive engineering construction both in project planning and in the construction management of general low and road construction', ' Your profile You have a completed studies as a civil engineer ETHTUFH', ' You want to gain experience in configuration and construction management', ' They are all over and want to develop develops are used to deal with pressure and can also retain the tranquility in hectic situations', ' Your chances You can extend your knowledge and experience in a small motivated team with modern work equipment and interesting objects', ' You will get the opportunity to grow on the task', ' Further information and application We are at your disposal for more information and look forward to receiving your application', ' Please send your documents preferably by email to Clewi Haldi Clewaihaldi', ' EU We look forward to receiving contact', ' Haldi Design AG Schönried']]\n"
     ]
    }
   ],
   "source": [
    "print([x for x in job1Df[\"JOB_CONTENT\"]])"
   ]
  },
  {
   "cell_type": "code",
   "execution_count": 89,
   "metadata": {},
   "outputs": [
    {
     "ename": "TypeError",
     "evalue": "object of type 'int' has no len()",
     "output_type": "error",
     "traceback": [
      "\u001b[0;31m---------------------------------------------------------------------------\u001b[0m",
      "\u001b[0;31mTypeError\u001b[0m                                 Traceback (most recent call last)",
      "\u001b[0;32m<ipython-input-89-018fc8a73b64>\u001b[0m in \u001b[0;36m<module>\u001b[0;34m\u001b[0m\n\u001b[1;32m      1\u001b[0m \u001b[0;32mfor\u001b[0m \u001b[0mid\u001b[0m \u001b[0;32min\u001b[0m \u001b[0mjobsDf\u001b[0m\u001b[0;34m[\u001b[0m\u001b[0;34m\"JOB_ID\"\u001b[0m\u001b[0;34m]\u001b[0m \u001b[0;34m:\u001b[0m\u001b[0;34m\u001b[0m\u001b[0;34m\u001b[0m\u001b[0m\n\u001b[0;32m----> 2\u001b[0;31m     \u001b[0mlen\u001b[0m\u001b[0;34m(\u001b[0m\u001b[0mid\u001b[0m\u001b[0;34m)\u001b[0m\u001b[0;34m\u001b[0m\u001b[0;34m\u001b[0m\u001b[0m\n\u001b[0m\u001b[1;32m      3\u001b[0m     \u001b[0;31m#bestOverallActivityMatch = min(results)\u001b[0m\u001b[0;34m\u001b[0m\u001b[0;34m\u001b[0m\u001b[0;34m\u001b[0m\u001b[0m\n",
      "\u001b[0;31mTypeError\u001b[0m: object of type 'int' has no len()"
     ]
    }
   ],
   "source": [
    "for id in jobsDf[\"JOB_ID\"] :\n",
    "    bestOverallActivityMatch = np.argmin(resultsDf[resultsDf[\"JOB_ID\"] == id][\"BEST_ACTIVITY_MATCH\"])\n",
    "    return bestOverallActivityMatch \n",
    "    \n",
    "    "
   ]
  }
 ],
 "metadata": {
  "kernelspec": {
   "display_name": "env",
   "language": "python",
   "name": "env"
  },
  "language_info": {
   "codemirror_mode": {
    "name": "ipython",
    "version": 3
   },
   "file_extension": ".py",
   "mimetype": "text/x-python",
   "name": "python",
   "nbconvert_exporter": "python",
   "pygments_lexer": "ipython3",
   "version": "3.7.4"
  }
 },
 "nbformat": 4,
 "nbformat_minor": 2
}
