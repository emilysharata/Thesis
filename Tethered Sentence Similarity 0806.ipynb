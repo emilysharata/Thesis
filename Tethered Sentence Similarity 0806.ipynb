{
 "cells": [
  {
   "cell_type": "code",
   "execution_count": 1,
   "metadata": {},
   "outputs": [],
   "source": [
    "%load_ext autoreload\n",
    "%autoreload 2\n",
    "from Methods import sentenceSimilarityMethods,JobOffers,dataframeHelpers"
   ]
  },
  {
   "cell_type": "code",
   "execution_count": 2,
   "metadata": {},
   "outputs": [],
   "source": [
    "import json\n",
    "import os\n",
    "import nltk\n",
    "import re\n",
    "import pandas as pd\n",
    "import numpy as np\n",
    "import tensorflow as tf\n",
    "import tensorflow_hub as hub"
   ]
  },
  {
   "cell_type": "code",
   "execution_count": 3,
   "metadata": {},
   "outputs": [],
   "source": [
    "from scipy import spatial"
   ]
  },
  {
   "cell_type": "code",
   "execution_count": 4,
   "metadata": {},
   "outputs": [],
   "source": [
    "model = hub.load(\"/Users/klong/Desktop/Thesis/universal-sentence-encoder_4/\")\n",
    "def embed(input):\n",
    "  return model(input)"
   ]
  },
  {
   "cell_type": "code",
   "execution_count": 5,
   "metadata": {},
   "outputs": [],
   "source": [
    "autoreload JobOffers,dataframeHelpers"
   ]
  },
  {
   "cell_type": "code",
   "execution_count": 6,
   "metadata": {},
   "outputs": [],
   "source": [
    "# Only run this if you want to redo the translations\n",
    "#JobOffers.writeTranslatedJobs(100)"
   ]
  },
  {
   "cell_type": "code",
   "execution_count": 7,
   "metadata": {},
   "outputs": [],
   "source": [
    "slimmedActsDf = dataframeHelpers.buildActivitiesDFV26()"
   ]
  },
  {
   "cell_type": "code",
   "execution_count": 8,
   "metadata": {},
   "outputs": [
    {
     "data": {
      "text/html": [
       "<div>\n",
       "<style scoped>\n",
       "    .dataframe tbody tr th:only-of-type {\n",
       "        vertical-align: middle;\n",
       "    }\n",
       "\n",
       "    .dataframe tbody tr th {\n",
       "        vertical-align: top;\n",
       "    }\n",
       "\n",
       "    .dataframe thead th {\n",
       "        text-align: right;\n",
       "    }\n",
       "</style>\n",
       "<table border=\"1\" class=\"dataframe\">\n",
       "  <thead>\n",
       "    <tr style=\"text-align: right;\">\n",
       "      <th></th>\n",
       "      <th>ACTIVITY_CONTENT</th>\n",
       "      <th>ACTIVITY_ID</th>\n",
       "    </tr>\n",
       "  </thead>\n",
       "  <tbody>\n",
       "    <tr>\n",
       "      <th>0</th>\n",
       "      <td>Where and how are the information and data gai...</td>\n",
       "      <td>2</td>\n",
       "    </tr>\n",
       "    <tr>\n",
       "      <th>1</th>\n",
       "      <td>Observing, receiving, and otherwise obtaining...</td>\n",
       "      <td>3</td>\n",
       "    </tr>\n",
       "    <tr>\n",
       "      <th>2</th>\n",
       "      <td>Research geological features or processes.</td>\n",
       "      <td>4</td>\n",
       "    </tr>\n",
       "    <tr>\n",
       "      <th>3</th>\n",
       "      <td>Conduct climatological research.</td>\n",
       "      <td>5</td>\n",
       "    </tr>\n",
       "    <tr>\n",
       "      <th>4</th>\n",
       "      <td>Investigate the environmental impact of indust...</td>\n",
       "      <td>6</td>\n",
       "    </tr>\n",
       "    <tr>\n",
       "      <th>...</th>\n",
       "      <td>...</td>\n",
       "      <td>...</td>\n",
       "    </tr>\n",
       "    <tr>\n",
       "      <th>283</th>\n",
       "      <td>Providing guidance and expert advice to manage...</td>\n",
       "      <td>290</td>\n",
       "    </tr>\n",
       "    <tr>\n",
       "      <th>284</th>\n",
       "      <td>Performing day-to-day administrative tasks suc...</td>\n",
       "      <td>291</td>\n",
       "    </tr>\n",
       "    <tr>\n",
       "      <th>285</th>\n",
       "      <td>Obtain permits.</td>\n",
       "      <td>292</td>\n",
       "    </tr>\n",
       "    <tr>\n",
       "      <th>286</th>\n",
       "      <td>Recruiting, interviewing, selecting, hiring, ...</td>\n",
       "      <td>293</td>\n",
       "    </tr>\n",
       "    <tr>\n",
       "      <th>287</th>\n",
       "      <td>Monitoring and controlling resources and over...</td>\n",
       "      <td>294</td>\n",
       "    </tr>\n",
       "  </tbody>\n",
       "</table>\n",
       "<p>288 rows × 2 columns</p>\n",
       "</div>"
      ],
      "text/plain": [
       "                                      ACTIVITY_CONTENT  ACTIVITY_ID\n",
       "0    Where and how are the information and data gai...            2\n",
       "1     Observing, receiving, and otherwise obtaining...            3\n",
       "2           Research geological features or processes.            4\n",
       "3                     Conduct climatological research.            5\n",
       "4    Investigate the environmental impact of indust...            6\n",
       "..                                                 ...          ...\n",
       "283  Providing guidance and expert advice to manage...          290\n",
       "284  Performing day-to-day administrative tasks suc...          291\n",
       "285                                    Obtain permits.          292\n",
       "286   Recruiting, interviewing, selecting, hiring, ...          293\n",
       "287   Monitoring and controlling resources and over...          294\n",
       "\n",
       "[288 rows x 2 columns]"
      ]
     },
     "execution_count": 8,
     "metadata": {},
     "output_type": "execute_result"
    }
   ],
   "source": [
    "slimmedActsDf"
   ]
  },
  {
   "cell_type": "code",
   "execution_count": 9,
   "metadata": {},
   "outputs": [],
   "source": [
    "#got stuck here\n",
    "jobsDf = dataframeHelpers.buildJobsDF()"
   ]
  },
  {
   "cell_type": "code",
   "execution_count": 10,
   "metadata": {
    "scrolled": true
   },
   "outputs": [
    {
     "data": {
      "text/html": [
       "<div>\n",
       "<style scoped>\n",
       "    .dataframe tbody tr th:only-of-type {\n",
       "        vertical-align: middle;\n",
       "    }\n",
       "\n",
       "    .dataframe tbody tr th {\n",
       "        vertical-align: top;\n",
       "    }\n",
       "\n",
       "    .dataframe thead th {\n",
       "        text-align: right;\n",
       "    }\n",
       "</style>\n",
       "<table border=\"1\" class=\"dataframe\">\n",
       "  <thead>\n",
       "    <tr style=\"text-align: right;\">\n",
       "      <th></th>\n",
       "      <th>JOB_ID</th>\n",
       "      <th>ISCO</th>\n",
       "      <th>JOB_CONTENT</th>\n",
       "      <th>ORIGINAL_CONTENT</th>\n",
       "    </tr>\n",
       "  </thead>\n",
       "  <tbody>\n",
       "    <tr>\n",
       "      <th>0</th>\n",
       "      <td>12220025</td>\n",
       "      <td>21420</td>\n",
       "      <td>[We are a successful and independent engineeri...</td>\n",
       "      <td>&lt;p&gt;Wir sind ein erfolgreiches und unabhängiges...</td>\n",
       "    </tr>\n",
       "    <tr>\n",
       "      <th>1</th>\n",
       "      <td>10814567</td>\n",
       "      <td>21420</td>\n",
       "      <td>[We are a renowned and successful engineering ...</td>\n",
       "      <td>Wir sind eine renommierte und erfolgreiche Ing...</td>\n",
       "    </tr>\n",
       "    <tr>\n",
       "      <th>2</th>\n",
       "      <td>12401674</td>\n",
       "      <td>21420</td>\n",
       "      <td>[Bill Weyermann Partner AG has been providing ...</td>\n",
       "      <td>Bill Weyermann Partner AG erbringt seit über\\n...</td>\n",
       "    </tr>\n",
       "    <tr>\n",
       "      <th>3</th>\n",
       "      <td>12473085</td>\n",
       "      <td>62100</td>\n",
       "      <td>[Administration communale de ValdeRuzForstwart...</td>\n",
       "      <td>Administration communale de Val-de-RuzForstwar...</td>\n",
       "    </tr>\n",
       "    <tr>\n",
       "      <th>4</th>\n",
       "      <td>12905109</td>\n",
       "      <td>26220;24210</td>\n",
       "      <td>[The Straumann Group is internationally succes...</td>\n",
       "      <td>Le groupe Straumann connaît un succès internat...</td>\n",
       "    </tr>\n",
       "    <tr>\n",
       "      <th>...</th>\n",
       "      <td>...</td>\n",
       "      <td>...</td>\n",
       "      <td>...</td>\n",
       "      <td>...</td>\n",
       "    </tr>\n",
       "    <tr>\n",
       "      <th>95</th>\n",
       "      <td>13469747</td>\n",
       "      <td>62100</td>\n",
       "      <td>[Commune de Lausanne Service des parcs et doma...</td>\n",
       "      <td>Commune de Lausanne - Service des parcs et dom...</td>\n",
       "    </tr>\n",
       "    <tr>\n",
       "      <th>96</th>\n",
       "      <td>13494906</td>\n",
       "      <td>24210</td>\n",
       "      <td>[Quality Assurance Engineer Bern Switzerland Y...</td>\n",
       "      <td>Quality Assurance Engineer\\n\\n\\nBern, Switzerl...</td>\n",
       "    </tr>\n",
       "    <tr>\n",
       "      <th>97</th>\n",
       "      <td>13517245</td>\n",
       "      <td>21420;31180</td>\n",
       "      <td>[Solution-oriented creative and dynamic We are...</td>\n",
       "      <td>Lösungsorientiert, kreativ und dynamisch: Wir ...</td>\n",
       "    </tr>\n",
       "    <tr>\n",
       "      <th>98</th>\n",
       "      <td>13461980</td>\n",
       "      <td>21620</td>\n",
       "      <td>[Green BlueGarden garden and landscaping EFZLa...</td>\n",
       "      <td>Grün &amp; BlauGärtner/in (Garten- und Landschafts...</td>\n",
       "    </tr>\n",
       "    <tr>\n",
       "      <th>99</th>\n",
       "      <td>13462067</td>\n",
       "      <td>21620</td>\n",
       "      <td>[Haas Gartenbau AGGarden and Landscaping EFZBe...</td>\n",
       "      <td>Haas Gartenbau AGGärtner/in (Garten- und Lands...</td>\n",
       "    </tr>\n",
       "  </tbody>\n",
       "</table>\n",
       "<p>100 rows × 4 columns</p>\n",
       "</div>"
      ],
      "text/plain": [
       "      JOB_ID         ISCO                                        JOB_CONTENT  \\\n",
       "0   12220025        21420  [We are a successful and independent engineeri...   \n",
       "1   10814567        21420  [We are a renowned and successful engineering ...   \n",
       "2   12401674        21420  [Bill Weyermann Partner AG has been providing ...   \n",
       "3   12473085        62100  [Administration communale de ValdeRuzForstwart...   \n",
       "4   12905109  26220;24210  [The Straumann Group is internationally succes...   \n",
       "..       ...          ...                                                ...   \n",
       "95  13469747        62100  [Commune de Lausanne Service des parcs et doma...   \n",
       "96  13494906        24210  [Quality Assurance Engineer Bern Switzerland Y...   \n",
       "97  13517245  21420;31180  [Solution-oriented creative and dynamic We are...   \n",
       "98  13461980        21620  [Green BlueGarden garden and landscaping EFZLa...   \n",
       "99  13462067        21620  [Haas Gartenbau AGGarden and Landscaping EFZBe...   \n",
       "\n",
       "                                     ORIGINAL_CONTENT  \n",
       "0   <p>Wir sind ein erfolgreiches und unabhängiges...  \n",
       "1   Wir sind eine renommierte und erfolgreiche Ing...  \n",
       "2   Bill Weyermann Partner AG erbringt seit über\\n...  \n",
       "3   Administration communale de Val-de-RuzForstwar...  \n",
       "4   Le groupe Straumann connaît un succès internat...  \n",
       "..                                                ...  \n",
       "95  Commune de Lausanne - Service des parcs et dom...  \n",
       "96  Quality Assurance Engineer\\n\\n\\nBern, Switzerl...  \n",
       "97  Lösungsorientiert, kreativ und dynamisch: Wir ...  \n",
       "98  Grün & BlauGärtner/in (Garten- und Landschafts...  \n",
       "99  Haas Gartenbau AGGärtner/in (Garten- und Lands...  \n",
       "\n",
       "[100 rows x 4 columns]"
      ]
     },
     "execution_count": 10,
     "metadata": {},
     "output_type": "execute_result"
    }
   ],
   "source": [
    "jobsDf"
   ]
  },
  {
   "cell_type": "code",
   "execution_count": null,
   "metadata": {},
   "outputs": [],
   "source": []
  },
  {
   "cell_type": "code",
   "execution_count": null,
   "metadata": {},
   "outputs": [],
   "source": []
  },
  {
   "cell_type": "code",
   "execution_count": 11,
   "metadata": {},
   "outputs": [],
   "source": [
    "embeddings = dataframeHelpers.getEmbeddings(slimmedActsDf, jobsDf)"
   ]
  },
  {
   "cell_type": "code",
   "execution_count": 12,
   "metadata": {},
   "outputs": [
    {
     "data": {
      "text/html": [
       "<div>\n",
       "<style scoped>\n",
       "    .dataframe tbody tr th:only-of-type {\n",
       "        vertical-align: middle;\n",
       "    }\n",
       "\n",
       "    .dataframe tbody tr th {\n",
       "        vertical-align: top;\n",
       "    }\n",
       "\n",
       "    .dataframe thead th {\n",
       "        text-align: right;\n",
       "    }\n",
       "</style>\n",
       "<table border=\"1\" class=\"dataframe\">\n",
       "  <thead>\n",
       "    <tr style=\"text-align: right;\">\n",
       "      <th></th>\n",
       "      <th>ACTIVITY_CONTENT</th>\n",
       "      <th>ACTIVITY_ID</th>\n",
       "    </tr>\n",
       "  </thead>\n",
       "  <tbody>\n",
       "  </tbody>\n",
       "</table>\n",
       "</div>"
      ],
      "text/plain": [
       "Empty DataFrame\n",
       "Columns: [ACTIVITY_CONTENT, ACTIVITY_ID]\n",
       "Index: []"
      ]
     },
     "execution_count": 12,
     "metadata": {},
     "output_type": "execute_result"
    }
   ],
   "source": [
    "slimmedActsDf[slimmedActsDf[\"ACTIVITY_CONTENT\"].isna()]\n"
   ]
  },
  {
   "cell_type": "code",
   "execution_count": 13,
   "metadata": {},
   "outputs": [],
   "source": [
    "jobsSentences = np.array([y for x in jobsDf[\"JOB_CONTENT\"] for y in x])"
   ]
  },
  {
   "cell_type": "code",
   "execution_count": null,
   "metadata": {},
   "outputs": [],
   "source": []
  },
  {
   "cell_type": "code",
   "execution_count": null,
   "metadata": {},
   "outputs": [],
   "source": []
  },
  {
   "cell_type": "code",
   "execution_count": null,
   "metadata": {},
   "outputs": [],
   "source": []
  },
  {
   "cell_type": "code",
   "execution_count": null,
   "metadata": {},
   "outputs": [],
   "source": []
  },
  {
   "cell_type": "code",
   "execution_count": null,
   "metadata": {},
   "outputs": [],
   "source": []
  },
  {
   "cell_type": "code",
   "execution_count": 14,
   "metadata": {},
   "outputs": [],
   "source": [
    "jobsDf = dataframeHelpers.addEmbeddingsToJobs(jobsDf, embeddings)\n",
    "slimmedActsDf = dataframeHelpers.addEmbeddingsToActivities(slimmedActsDf, embeddings)"
   ]
  },
  {
   "cell_type": "code",
   "execution_count": 15,
   "metadata": {},
   "outputs": [],
   "source": [
    "resultsDf = pd.DataFrame()"
   ]
  },
  {
   "cell_type": "code",
   "execution_count": 16,
   "metadata": {},
   "outputs": [],
   "source": [
    "for label in [\"JOB_ID\", \"JOB_SCORES\"]:\n",
    "    resultsDf[label] = jobsDf[label]"
   ]
  },
  {
   "cell_type": "code",
   "execution_count": 17,
   "metadata": {},
   "outputs": [],
   "source": [
    "resultsDf = resultsDf.merge(slimmedActsDf, how = \"cross\")"
   ]
  },
  {
   "cell_type": "code",
   "execution_count": 18,
   "metadata": {},
   "outputs": [],
   "source": [
    "resultsDf = resultsDf[[\"JOB_ID\", \"ACTIVITY_ID\", \"JOB_SCORES\", \"ACTIVITY_SCORES\"]]"
   ]
  },
  {
   "cell_type": "code",
   "execution_count": null,
   "metadata": {},
   "outputs": [],
   "source": []
  },
  {
   "cell_type": "code",
   "execution_count": null,
   "metadata": {},
   "outputs": [],
   "source": []
  },
  {
   "cell_type": "code",
   "execution_count": null,
   "metadata": {},
   "outputs": [],
   "source": []
  },
  {
   "cell_type": "code",
   "execution_count": null,
   "metadata": {},
   "outputs": [],
   "source": []
  },
  {
   "cell_type": "code",
   "execution_count": null,
   "metadata": {},
   "outputs": [],
   "source": []
  },
  {
   "cell_type": "code",
   "execution_count": 19,
   "metadata": {},
   "outputs": [],
   "source": [
    "def compareSentences(row):\n",
    "    for sentence in resultsDf[\"JOB_SCORES\"]:\n",
    "        return spatial.distance.cosine(row[\"JOB_SCORES\"][sentence], row[\"ACTIVITY_SCORES\"])"
   ]
  },
  {
   "cell_type": "code",
   "execution_count": 20,
   "metadata": {},
   "outputs": [],
   "source": [
    "def distCalc(row):\n",
    "    distArray = []\n",
    "    for entry in row[\"JOB_SCORES\"] :\n",
    "        dist = spatial.distance.cosine(entry, row[\"ACTIVITY_SCORES\"])\n",
    "        distArray.append(dist)\n",
    "    return distArray\n",
    "    "
   ]
  },
  {
   "cell_type": "code",
   "execution_count": null,
   "metadata": {},
   "outputs": [],
   "source": []
  },
  {
   "cell_type": "code",
   "execution_count": 21,
   "metadata": {},
   "outputs": [],
   "source": [
    "resultsDf[\"DISTANCES\"] = resultsDf.apply(distCalc, axis =1)"
   ]
  },
  {
   "cell_type": "code",
   "execution_count": null,
   "metadata": {
    "scrolled": true
   },
   "outputs": [],
   "source": []
  },
  {
   "cell_type": "code",
   "execution_count": 22,
   "metadata": {},
   "outputs": [],
   "source": [
    "def minDistanceFinder(row) : \n",
    "    minDistance = min(row[\"DISTANCES\"])\n",
    "    return minDistance"
   ]
  },
  {
   "cell_type": "code",
   "execution_count": 23,
   "metadata": {},
   "outputs": [],
   "source": [
    "def minDistanceSentence(row, jobs) : \n",
    "    minDistanceIdx = np.argmin(row[\"DISTANCES\"])\n",
    "    df = jobs[jobs[\"JOB_ID\"] == row[\"JOB_ID\"]]\n",
    "    if df.empty:\n",
    "        return \"\"\n",
    "    content = df.iloc[0][\"JOB_CONTENT\"]\n",
    "    return content[minDistanceIdx]"
   ]
  },
  {
   "cell_type": "code",
   "execution_count": 24,
   "metadata": {},
   "outputs": [],
   "source": [
    "resultsDf[\"LOWEST_DISTANCE\"] = resultsDf.apply(minDistanceFinder, axis =1)\n",
    "resultsDf[\"LOWEST_DISTANCE_SENTENCE\"] = resultsDf.apply(minDistanceSentence, args=[jobsDf], axis =1)\n"
   ]
  },
  {
   "cell_type": "code",
   "execution_count": 25,
   "metadata": {},
   "outputs": [
    {
     "data": {
      "text/html": [
       "<div>\n",
       "<style scoped>\n",
       "    .dataframe tbody tr th:only-of-type {\n",
       "        vertical-align: middle;\n",
       "    }\n",
       "\n",
       "    .dataframe tbody tr th {\n",
       "        vertical-align: top;\n",
       "    }\n",
       "\n",
       "    .dataframe thead th {\n",
       "        text-align: right;\n",
       "    }\n",
       "</style>\n",
       "<table border=\"1\" class=\"dataframe\">\n",
       "  <thead>\n",
       "    <tr style=\"text-align: right;\">\n",
       "      <th></th>\n",
       "      <th>JOB_ID</th>\n",
       "      <th>ACTIVITY_ID</th>\n",
       "      <th>JOB_SCORES</th>\n",
       "      <th>ACTIVITY_SCORES</th>\n",
       "      <th>DISTANCES</th>\n",
       "      <th>LOWEST_DISTANCE</th>\n",
       "      <th>LOWEST_DISTANCE_SENTENCE</th>\n",
       "    </tr>\n",
       "  </thead>\n",
       "  <tbody>\n",
       "    <tr>\n",
       "      <th>0</th>\n",
       "      <td>12220025</td>\n",
       "      <td>2</td>\n",
       "      <td>((tf.Tensor(-0.037420016, shape=(), dtype=floa...</td>\n",
       "      <td>(tf.Tensor(0.027285306, shape=(), dtype=float3...</td>\n",
       "      <td>[0.9333634227514267, 0.9425690993666649, 0.858...</td>\n",
       "      <td>0.729741</td>\n",
       "      <td>They want to gain experience in project plann...</td>\n",
       "    </tr>\n",
       "    <tr>\n",
       "      <th>1</th>\n",
       "      <td>12220025</td>\n",
       "      <td>3</td>\n",
       "      <td>((tf.Tensor(-0.037420016, shape=(), dtype=floa...</td>\n",
       "      <td>(tf.Tensor(0.07172423, shape=(), dtype=float32...</td>\n",
       "      <td>[1.106818176805973, 0.9665663540363312, 0.9541...</td>\n",
       "      <td>0.721484</td>\n",
       "      <td>Further information and application We are ha...</td>\n",
       "    </tr>\n",
       "    <tr>\n",
       "      <th>2</th>\n",
       "      <td>12220025</td>\n",
       "      <td>4</td>\n",
       "      <td>((tf.Tensor(-0.037420016, shape=(), dtype=floa...</td>\n",
       "      <td>(tf.Tensor(0.045720328, shape=(), dtype=float3...</td>\n",
       "      <td>[1.0460460484027863, 0.9370203092694283, 0.940...</td>\n",
       "      <td>0.807079</td>\n",
       "      <td>Haldi Design AG Schönried</td>\n",
       "    </tr>\n",
       "    <tr>\n",
       "      <th>3</th>\n",
       "      <td>12220025</td>\n",
       "      <td>5</td>\n",
       "      <td>((tf.Tensor(-0.037420016, shape=(), dtype=floa...</td>\n",
       "      <td>(tf.Tensor(0.05692438, shape=(), dtype=float32...</td>\n",
       "      <td>[1.048239592462778, 0.9645586386322975, 0.8781...</td>\n",
       "      <td>0.866480</td>\n",
       "      <td>Haldi Design AG Schönried</td>\n",
       "    </tr>\n",
       "    <tr>\n",
       "      <th>4</th>\n",
       "      <td>12220025</td>\n",
       "      <td>6</td>\n",
       "      <td>((tf.Tensor(-0.037420016, shape=(), dtype=floa...</td>\n",
       "      <td>(tf.Tensor(0.07220104, shape=(), dtype=float32...</td>\n",
       "      <td>[1.0029801961500198, 0.8679462969303131, 0.904...</td>\n",
       "      <td>0.837572</td>\n",
       "      <td>They want to gain experience in project plann...</td>\n",
       "    </tr>\n",
       "    <tr>\n",
       "      <th>...</th>\n",
       "      <td>...</td>\n",
       "      <td>...</td>\n",
       "      <td>...</td>\n",
       "      <td>...</td>\n",
       "      <td>...</td>\n",
       "      <td>...</td>\n",
       "      <td>...</td>\n",
       "    </tr>\n",
       "    <tr>\n",
       "      <th>28795</th>\n",
       "      <td>13462067</td>\n",
       "      <td>290</td>\n",
       "      <td>((tf.Tensor(-0.0019656876, shape=(), dtype=flo...</td>\n",
       "      <td>(tf.Tensor(0.027627837, shape=(), dtype=float3...</td>\n",
       "      <td>[0.9878562754020095, 1.0708704590797424, 1.072...</td>\n",
       "      <td>0.987856</td>\n",
       "      <td>Haas Gartenbau AGGarden and Landscaping EFZBer...</td>\n",
       "    </tr>\n",
       "    <tr>\n",
       "      <th>28796</th>\n",
       "      <td>13462067</td>\n",
       "      <td>291</td>\n",
       "      <td>((tf.Tensor(-0.0019656876, shape=(), dtype=flo...</td>\n",
       "      <td>(tf.Tensor(-0.008161316, shape=(), dtype=float...</td>\n",
       "      <td>[0.9724013563245535, 1.0722142532467842, 1.026...</td>\n",
       "      <td>0.972401</td>\n",
       "      <td>Haas Gartenbau AGGarden and Landscaping EFZBer...</td>\n",
       "    </tr>\n",
       "    <tr>\n",
       "      <th>28797</th>\n",
       "      <td>13462067</td>\n",
       "      <td>292</td>\n",
       "      <td>((tf.Tensor(-0.0019656876, shape=(), dtype=flo...</td>\n",
       "      <td>(tf.Tensor(0.019920168, shape=(), dtype=float3...</td>\n",
       "      <td>[0.9978231620043516, 0.9633813798427582, 0.986...</td>\n",
       "      <td>0.962735</td>\n",
       "      <td>9 Updated19</td>\n",
       "    </tr>\n",
       "    <tr>\n",
       "      <th>28798</th>\n",
       "      <td>13462067</td>\n",
       "      <td>293</td>\n",
       "      <td>((tf.Tensor(-0.0019656876, shape=(), dtype=flo...</td>\n",
       "      <td>(tf.Tensor(0.0046779006, shape=(), dtype=float...</td>\n",
       "      <td>[0.9451519772410393, 1.0347175188362598, 0.986...</td>\n",
       "      <td>0.880178</td>\n",
       "      <td>9 Updated19</td>\n",
       "    </tr>\n",
       "    <tr>\n",
       "      <th>28799</th>\n",
       "      <td>13462067</td>\n",
       "      <td>294</td>\n",
       "      <td>((tf.Tensor(-0.0019656876, shape=(), dtype=flo...</td>\n",
       "      <td>(tf.Tensor(0.06814821, shape=(), dtype=float32...</td>\n",
       "      <td>[0.994312712457031, 1.041558988392353, 1.07233...</td>\n",
       "      <td>0.991831</td>\n",
       "      <td>08</td>\n",
       "    </tr>\n",
       "  </tbody>\n",
       "</table>\n",
       "<p>28800 rows × 7 columns</p>\n",
       "</div>"
      ],
      "text/plain": [
       "         JOB_ID  ACTIVITY_ID  \\\n",
       "0      12220025            2   \n",
       "1      12220025            3   \n",
       "2      12220025            4   \n",
       "3      12220025            5   \n",
       "4      12220025            6   \n",
       "...         ...          ...   \n",
       "28795  13462067          290   \n",
       "28796  13462067          291   \n",
       "28797  13462067          292   \n",
       "28798  13462067          293   \n",
       "28799  13462067          294   \n",
       "\n",
       "                                              JOB_SCORES  \\\n",
       "0      ((tf.Tensor(-0.037420016, shape=(), dtype=floa...   \n",
       "1      ((tf.Tensor(-0.037420016, shape=(), dtype=floa...   \n",
       "2      ((tf.Tensor(-0.037420016, shape=(), dtype=floa...   \n",
       "3      ((tf.Tensor(-0.037420016, shape=(), dtype=floa...   \n",
       "4      ((tf.Tensor(-0.037420016, shape=(), dtype=floa...   \n",
       "...                                                  ...   \n",
       "28795  ((tf.Tensor(-0.0019656876, shape=(), dtype=flo...   \n",
       "28796  ((tf.Tensor(-0.0019656876, shape=(), dtype=flo...   \n",
       "28797  ((tf.Tensor(-0.0019656876, shape=(), dtype=flo...   \n",
       "28798  ((tf.Tensor(-0.0019656876, shape=(), dtype=flo...   \n",
       "28799  ((tf.Tensor(-0.0019656876, shape=(), dtype=flo...   \n",
       "\n",
       "                                         ACTIVITY_SCORES  \\\n",
       "0      (tf.Tensor(0.027285306, shape=(), dtype=float3...   \n",
       "1      (tf.Tensor(0.07172423, shape=(), dtype=float32...   \n",
       "2      (tf.Tensor(0.045720328, shape=(), dtype=float3...   \n",
       "3      (tf.Tensor(0.05692438, shape=(), dtype=float32...   \n",
       "4      (tf.Tensor(0.07220104, shape=(), dtype=float32...   \n",
       "...                                                  ...   \n",
       "28795  (tf.Tensor(0.027627837, shape=(), dtype=float3...   \n",
       "28796  (tf.Tensor(-0.008161316, shape=(), dtype=float...   \n",
       "28797  (tf.Tensor(0.019920168, shape=(), dtype=float3...   \n",
       "28798  (tf.Tensor(0.0046779006, shape=(), dtype=float...   \n",
       "28799  (tf.Tensor(0.06814821, shape=(), dtype=float32...   \n",
       "\n",
       "                                               DISTANCES  LOWEST_DISTANCE  \\\n",
       "0      [0.9333634227514267, 0.9425690993666649, 0.858...         0.729741   \n",
       "1      [1.106818176805973, 0.9665663540363312, 0.9541...         0.721484   \n",
       "2      [1.0460460484027863, 0.9370203092694283, 0.940...         0.807079   \n",
       "3      [1.048239592462778, 0.9645586386322975, 0.8781...         0.866480   \n",
       "4      [1.0029801961500198, 0.8679462969303131, 0.904...         0.837572   \n",
       "...                                                  ...              ...   \n",
       "28795  [0.9878562754020095, 1.0708704590797424, 1.072...         0.987856   \n",
       "28796  [0.9724013563245535, 1.0722142532467842, 1.026...         0.972401   \n",
       "28797  [0.9978231620043516, 0.9633813798427582, 0.986...         0.962735   \n",
       "28798  [0.9451519772410393, 1.0347175188362598, 0.986...         0.880178   \n",
       "28799  [0.994312712457031, 1.041558988392353, 1.07233...         0.991831   \n",
       "\n",
       "                                LOWEST_DISTANCE_SENTENCE  \n",
       "0       They want to gain experience in project plann...  \n",
       "1       Further information and application We are ha...  \n",
       "2                              Haldi Design AG Schönried  \n",
       "3                              Haldi Design AG Schönried  \n",
       "4       They want to gain experience in project plann...  \n",
       "...                                                  ...  \n",
       "28795  Haas Gartenbau AGGarden and Landscaping EFZBer...  \n",
       "28796  Haas Gartenbau AGGarden and Landscaping EFZBer...  \n",
       "28797                                        9 Updated19  \n",
       "28798                                        9 Updated19  \n",
       "28799                                                 08  \n",
       "\n",
       "[28800 rows x 7 columns]"
      ]
     },
     "execution_count": 25,
     "metadata": {},
     "output_type": "execute_result"
    }
   ],
   "source": [
    "resultsDf"
   ]
  },
  {
   "cell_type": "code",
   "execution_count": null,
   "metadata": {},
   "outputs": [],
   "source": []
  },
  {
   "cell_type": "code",
   "execution_count": null,
   "metadata": {},
   "outputs": [],
   "source": []
  },
  {
   "cell_type": "code",
   "execution_count": null,
   "metadata": {},
   "outputs": [],
   "source": []
  },
  {
   "cell_type": "code",
   "execution_count": 26,
   "metadata": {},
   "outputs": [],
   "source": [
    "def bestMatchReturn(row, results, actsDf, match, column_name) :\n",
    "    bestMatch = results[results[\"JOB_ID\"] == row[\"JOB_ID\"]]\n",
    "    minEntry = bestMatch[match].idxmin()\n",
    "    rowMatch = bestMatch.loc[minEntry,:]  \n",
    "    #return actsDf[actsDf[\"ACTIVITY_ID\"] == rowMatch[\"ACTIVITY_ID\"]][\"ACTIVITY_ID\"]\n",
    "    content = actsDf[actsDf[\"ACTIVITY_ID\"] == rowMatch[\"ACTIVITY_ID\"]]                  \n",
    "    return content[column_name].iloc[0]            \n"
   ]
  },
  {
   "cell_type": "code",
   "execution_count": 27,
   "metadata": {},
   "outputs": [],
   "source": [
    "def bestNMatchReturn(row, results, actsDf, match, column_name, num) :\n",
    "    jobMatch = results[results[\"JOB_ID\"] == row[\"JOB_ID\"]]\n",
    "    minEntries = jobMatch[match].argsort()[:num]\n",
    "    rowMatch = jobMatch.iloc[minEntries,:]\n",
    "    content = [actsDf[actsDf[\"ACTIVITY_ID\"] == x][column_name].iloc[0] for x in rowMatch[\"ACTIVITY_ID\"]]\n",
    "    return content"
   ]
  },
  {
   "cell_type": "code",
   "execution_count": 28,
   "metadata": {},
   "outputs": [],
   "source": [
    "def averageNSentences(row, n):\n",
    "    return np.average(np.sort(row[\"DISTANCES\"])[:n])"
   ]
  },
  {
   "cell_type": "code",
   "execution_count": 29,
   "metadata": {},
   "outputs": [],
   "source": [
    "resultsDf[\"AVERAGE_DISTANCE_3SENT\"] = resultsDf.apply(averageNSentences, args=[3], axis=1)"
   ]
  },
  {
   "cell_type": "code",
   "execution_count": 30,
   "metadata": {},
   "outputs": [
    {
     "data": {
      "text/plain": [
       "JOB_ID                                                               12220025\n",
       "ACTIVITY_ID                                                                 4\n",
       "JOB_SCORES                  ((tf.Tensor(-0.037420016, shape=(), dtype=floa...\n",
       "ACTIVITY_SCORES             (tf.Tensor(0.045720328, shape=(), dtype=float3...\n",
       "DISTANCES                   [1.0460460484027863, 0.9370203092694283, 0.940...\n",
       "LOWEST_DISTANCE                                                      0.807079\n",
       "LOWEST_DISTANCE_SENTENCE                            Haldi Design AG Schönried\n",
       "AVERAGE_DISTANCE_3SENT                                                0.82608\n",
       "Name: 2, dtype: object"
      ]
     },
     "execution_count": 30,
     "metadata": {},
     "output_type": "execute_result"
    }
   ],
   "source": [
    "row = resultsDf.loc[2]\n",
    "row"
   ]
  },
  {
   "cell_type": "code",
   "execution_count": 31,
   "metadata": {},
   "outputs": [
    {
     "data": {
      "text/html": [
       "<div>\n",
       "<style scoped>\n",
       "    .dataframe tbody tr th:only-of-type {\n",
       "        vertical-align: middle;\n",
       "    }\n",
       "\n",
       "    .dataframe tbody tr th {\n",
       "        vertical-align: top;\n",
       "    }\n",
       "\n",
       "    .dataframe thead th {\n",
       "        text-align: right;\n",
       "    }\n",
       "</style>\n",
       "<table border=\"1\" class=\"dataframe\">\n",
       "  <thead>\n",
       "    <tr style=\"text-align: right;\">\n",
       "      <th></th>\n",
       "      <th>ACTIVITY_CONTENT</th>\n",
       "      <th>ACTIVITY_ID</th>\n",
       "      <th>ACTIVITY_SCORES</th>\n",
       "    </tr>\n",
       "  </thead>\n",
       "  <tbody>\n",
       "    <tr>\n",
       "      <th>2</th>\n",
       "      <td>Research geological features or processes.</td>\n",
       "      <td>4</td>\n",
       "      <td>(tf.Tensor(0.045720328, shape=(), dtype=float3...</td>\n",
       "    </tr>\n",
       "  </tbody>\n",
       "</table>\n",
       "</div>"
      ],
      "text/plain": [
       "                             ACTIVITY_CONTENT  ACTIVITY_ID  \\\n",
       "2  Research geological features or processes.            4   \n",
       "\n",
       "                                     ACTIVITY_SCORES  \n",
       "2  (tf.Tensor(0.045720328, shape=(), dtype=float3...  "
      ]
     },
     "execution_count": 31,
     "metadata": {},
     "output_type": "execute_result"
    }
   ],
   "source": [
    "slimmedActsDf[slimmedActsDf[\"ACTIVITY_ID\"] == row[\"ACTIVITY_ID\"]]"
   ]
  },
  {
   "cell_type": "code",
   "execution_count": 32,
   "metadata": {},
   "outputs": [],
   "source": [
    "jobMatch = resultsDf[resultsDf[\"JOB_ID\"] == row[\"JOB_ID\"]]\n",
    "minEntries = jobMatch[\"LOWEST_DISTANCE\"].argsort()[:10]"
   ]
  },
  {
   "cell_type": "code",
   "execution_count": 33,
   "metadata": {},
   "outputs": [],
   "source": [
    "#slimmedActsDf[slimmedActsDf[\"ACTIVITY_ID\"].isin(bestMatch.loc[minEntries,:][\"ACTIVITY_ID\"])][\"ACTIVITY_CONTENT\"]"
   ]
  },
  {
   "cell_type": "code",
   "execution_count": null,
   "metadata": {},
   "outputs": [],
   "source": []
  },
  {
   "cell_type": "code",
   "execution_count": null,
   "metadata": {},
   "outputs": [],
   "source": []
  },
  {
   "cell_type": "code",
   "execution_count": 34,
   "metadata": {},
   "outputs": [],
   "source": [
    "#def activityMatcher(row) :\n",
    " #   for id in jobsDf[\"JOB_ID\"] :\n",
    "  #      bestOverallActivityMatch = np.argmin(resultsDf[row[\"JOB_ID\"] == id][\"LOWEST_DISTANCE\"])\n",
    "  #  return bestOverallActivityMatch \n",
    "    "
   ]
  },
  {
   "cell_type": "code",
   "execution_count": 35,
   "metadata": {},
   "outputs": [],
   "source": [
    "column_names = [\"JOB_ID\", \"ISCO\", \"JOB_CONTENT\", \"TOP_ACTIVITY_MATCHES\", \"TOP_ACTIVITY_IDS\", \"BEST_ACTIVITY_MATCH_3SENT\", \"BEST_ACTIVITY_ID_3SENT\", \"BEST_ACTIVITY_MATCH_1SENT\", \"BEST_ACTIVITY_ID_1SENT\", \"LOWEST_DISTANCE\", ]"
   ]
  },
  {
   "cell_type": "code",
   "execution_count": 36,
   "metadata": {},
   "outputs": [],
   "source": [
    "topResultsDf = pd.DataFrame(columns = column_names)"
   ]
  },
  {
   "cell_type": "code",
   "execution_count": 37,
   "metadata": {},
   "outputs": [],
   "source": [
    "for label in [\"JOB_ID\", \"ISCO\", \"JOB_CONTENT\", \"ORIGINAL_CONTENT\"]:\n",
    "    topResultsDf[label] = jobsDf[label]"
   ]
  },
  {
   "cell_type": "code",
   "execution_count": 38,
   "metadata": {},
   "outputs": [],
   "source": [
    "topResultsDf[\"JOB_CONTENT\"] = jobsDf.apply(lambda x: \" \".join(x[\"JOB_CONTENT\"]), axis=1)"
   ]
  },
  {
   "cell_type": "code",
   "execution_count": 39,
   "metadata": {},
   "outputs": [],
   "source": [
    "topResultsDf[\"LOWEST_DISTANCE\"] = resultsDf[\"LOWEST_DISTANCE\"]\n",
    "topResultsDf[\"AVERAGE_DISTANCE_3SENT\"] = resultsDf[\"AVERAGE_DISTANCE_3SENT\"]"
   ]
  },
  {
   "cell_type": "code",
   "execution_count": 40,
   "metadata": {},
   "outputs": [
    {
     "data": {
      "text/html": [
       "<div>\n",
       "<style scoped>\n",
       "    .dataframe tbody tr th:only-of-type {\n",
       "        vertical-align: middle;\n",
       "    }\n",
       "\n",
       "    .dataframe tbody tr th {\n",
       "        vertical-align: top;\n",
       "    }\n",
       "\n",
       "    .dataframe thead th {\n",
       "        text-align: right;\n",
       "    }\n",
       "</style>\n",
       "<table border=\"1\" class=\"dataframe\">\n",
       "  <thead>\n",
       "    <tr style=\"text-align: right;\">\n",
       "      <th></th>\n",
       "      <th>JOB_ID</th>\n",
       "      <th>ISCO</th>\n",
       "      <th>JOB_CONTENT</th>\n",
       "      <th>TOP_ACTIVITY_MATCHES</th>\n",
       "      <th>TOP_ACTIVITY_IDS</th>\n",
       "      <th>BEST_ACTIVITY_MATCH_3SENT</th>\n",
       "      <th>BEST_ACTIVITY_ID_3SENT</th>\n",
       "      <th>BEST_ACTIVITY_MATCH_1SENT</th>\n",
       "      <th>BEST_ACTIVITY_ID_1SENT</th>\n",
       "      <th>LOWEST_DISTANCE</th>\n",
       "      <th>ORIGINAL_CONTENT</th>\n",
       "      <th>AVERAGE_DISTANCE_3SENT</th>\n",
       "    </tr>\n",
       "  </thead>\n",
       "  <tbody>\n",
       "    <tr>\n",
       "      <th>0</th>\n",
       "      <td>12220025</td>\n",
       "      <td>21420</td>\n",
       "      <td>We are a successful and independent engineerin...</td>\n",
       "      <td>NaN</td>\n",
       "      <td>NaN</td>\n",
       "      <td>NaN</td>\n",
       "      <td>NaN</td>\n",
       "      <td>NaN</td>\n",
       "      <td>NaN</td>\n",
       "      <td>0.729741</td>\n",
       "      <td>&lt;p&gt;Wir sind ein erfolgreiches und unabhängiges...</td>\n",
       "      <td>0.766862</td>\n",
       "    </tr>\n",
       "    <tr>\n",
       "      <th>1</th>\n",
       "      <td>10814567</td>\n",
       "      <td>21420</td>\n",
       "      <td>We are a renowned and successful engineering c...</td>\n",
       "      <td>NaN</td>\n",
       "      <td>NaN</td>\n",
       "      <td>NaN</td>\n",
       "      <td>NaN</td>\n",
       "      <td>NaN</td>\n",
       "      <td>NaN</td>\n",
       "      <td>0.721484</td>\n",
       "      <td>Wir sind eine renommierte und erfolgreiche Ing...</td>\n",
       "      <td>0.859877</td>\n",
       "    </tr>\n",
       "    <tr>\n",
       "      <th>2</th>\n",
       "      <td>12401674</td>\n",
       "      <td>21420</td>\n",
       "      <td>Bill Weyermann Partner AG has been providing e...</td>\n",
       "      <td>NaN</td>\n",
       "      <td>NaN</td>\n",
       "      <td>NaN</td>\n",
       "      <td>NaN</td>\n",
       "      <td>NaN</td>\n",
       "      <td>NaN</td>\n",
       "      <td>0.807079</td>\n",
       "      <td>Bill Weyermann Partner AG erbringt seit über\\n...</td>\n",
       "      <td>0.826080</td>\n",
       "    </tr>\n",
       "    <tr>\n",
       "      <th>3</th>\n",
       "      <td>12473085</td>\n",
       "      <td>62100</td>\n",
       "      <td>Administration communale de ValdeRuzForstwarti...</td>\n",
       "      <td>NaN</td>\n",
       "      <td>NaN</td>\n",
       "      <td>NaN</td>\n",
       "      <td>NaN</td>\n",
       "      <td>NaN</td>\n",
       "      <td>NaN</td>\n",
       "      <td>0.866480</td>\n",
       "      <td>Administration communale de Val-de-RuzForstwar...</td>\n",
       "      <td>0.895573</td>\n",
       "    </tr>\n",
       "    <tr>\n",
       "      <th>4</th>\n",
       "      <td>12905109</td>\n",
       "      <td>26220;24210</td>\n",
       "      <td>The Straumann Group is internationally success...</td>\n",
       "      <td>NaN</td>\n",
       "      <td>NaN</td>\n",
       "      <td>NaN</td>\n",
       "      <td>NaN</td>\n",
       "      <td>NaN</td>\n",
       "      <td>NaN</td>\n",
       "      <td>0.837572</td>\n",
       "      <td>Le groupe Straumann connaît un succès internat...</td>\n",
       "      <td>0.866659</td>\n",
       "    </tr>\n",
       "    <tr>\n",
       "      <th>...</th>\n",
       "      <td>...</td>\n",
       "      <td>...</td>\n",
       "      <td>...</td>\n",
       "      <td>...</td>\n",
       "      <td>...</td>\n",
       "      <td>...</td>\n",
       "      <td>...</td>\n",
       "      <td>...</td>\n",
       "      <td>...</td>\n",
       "      <td>...</td>\n",
       "      <td>...</td>\n",
       "      <td>...</td>\n",
       "    </tr>\n",
       "    <tr>\n",
       "      <th>95</th>\n",
       "      <td>13469747</td>\n",
       "      <td>62100</td>\n",
       "      <td>Commune de Lausanne Service des parcs et domai...</td>\n",
       "      <td>NaN</td>\n",
       "      <td>NaN</td>\n",
       "      <td>NaN</td>\n",
       "      <td>NaN</td>\n",
       "      <td>NaN</td>\n",
       "      <td>NaN</td>\n",
       "      <td>0.785710</td>\n",
       "      <td>Commune de Lausanne - Service des parcs et dom...</td>\n",
       "      <td>0.810360</td>\n",
       "    </tr>\n",
       "    <tr>\n",
       "      <th>96</th>\n",
       "      <td>13494906</td>\n",
       "      <td>24210</td>\n",
       "      <td>Quality Assurance Engineer Bern Switzerland Yo...</td>\n",
       "      <td>NaN</td>\n",
       "      <td>NaN</td>\n",
       "      <td>NaN</td>\n",
       "      <td>NaN</td>\n",
       "      <td>NaN</td>\n",
       "      <td>NaN</td>\n",
       "      <td>0.841356</td>\n",
       "      <td>Quality Assurance Engineer\\n\\n\\nBern, Switzerl...</td>\n",
       "      <td>0.875942</td>\n",
       "    </tr>\n",
       "    <tr>\n",
       "      <th>97</th>\n",
       "      <td>13517245</td>\n",
       "      <td>21420;31180</td>\n",
       "      <td>Solution-oriented creative and dynamic We are ...</td>\n",
       "      <td>NaN</td>\n",
       "      <td>NaN</td>\n",
       "      <td>NaN</td>\n",
       "      <td>NaN</td>\n",
       "      <td>NaN</td>\n",
       "      <td>NaN</td>\n",
       "      <td>0.786357</td>\n",
       "      <td>Lösungsorientiert, kreativ und dynamisch: Wir ...</td>\n",
       "      <td>0.844407</td>\n",
       "    </tr>\n",
       "    <tr>\n",
       "      <th>98</th>\n",
       "      <td>13461980</td>\n",
       "      <td>21620</td>\n",
       "      <td>Green BlueGarden garden and landscaping EFZLau...</td>\n",
       "      <td>NaN</td>\n",
       "      <td>NaN</td>\n",
       "      <td>NaN</td>\n",
       "      <td>NaN</td>\n",
       "      <td>NaN</td>\n",
       "      <td>NaN</td>\n",
       "      <td>0.851093</td>\n",
       "      <td>Grün &amp; BlauGärtner/in (Garten- und Landschafts...</td>\n",
       "      <td>0.889590</td>\n",
       "    </tr>\n",
       "    <tr>\n",
       "      <th>99</th>\n",
       "      <td>13462067</td>\n",
       "      <td>21620</td>\n",
       "      <td>Haas Gartenbau AGGarden and Landscaping EFZBer...</td>\n",
       "      <td>NaN</td>\n",
       "      <td>NaN</td>\n",
       "      <td>NaN</td>\n",
       "      <td>NaN</td>\n",
       "      <td>NaN</td>\n",
       "      <td>NaN</td>\n",
       "      <td>0.832237</td>\n",
       "      <td>Haas Gartenbau AGGärtner/in (Garten- und Lands...</td>\n",
       "      <td>0.876143</td>\n",
       "    </tr>\n",
       "  </tbody>\n",
       "</table>\n",
       "<p>100 rows × 12 columns</p>\n",
       "</div>"
      ],
      "text/plain": [
       "      JOB_ID         ISCO                                        JOB_CONTENT  \\\n",
       "0   12220025        21420  We are a successful and independent engineerin...   \n",
       "1   10814567        21420  We are a renowned and successful engineering c...   \n",
       "2   12401674        21420  Bill Weyermann Partner AG has been providing e...   \n",
       "3   12473085        62100  Administration communale de ValdeRuzForstwarti...   \n",
       "4   12905109  26220;24210  The Straumann Group is internationally success...   \n",
       "..       ...          ...                                                ...   \n",
       "95  13469747        62100  Commune de Lausanne Service des parcs et domai...   \n",
       "96  13494906        24210  Quality Assurance Engineer Bern Switzerland Yo...   \n",
       "97  13517245  21420;31180  Solution-oriented creative and dynamic We are ...   \n",
       "98  13461980        21620  Green BlueGarden garden and landscaping EFZLau...   \n",
       "99  13462067        21620  Haas Gartenbau AGGarden and Landscaping EFZBer...   \n",
       "\n",
       "   TOP_ACTIVITY_MATCHES TOP_ACTIVITY_IDS BEST_ACTIVITY_MATCH_3SENT  \\\n",
       "0                   NaN              NaN                       NaN   \n",
       "1                   NaN              NaN                       NaN   \n",
       "2                   NaN              NaN                       NaN   \n",
       "3                   NaN              NaN                       NaN   \n",
       "4                   NaN              NaN                       NaN   \n",
       "..                  ...              ...                       ...   \n",
       "95                  NaN              NaN                       NaN   \n",
       "96                  NaN              NaN                       NaN   \n",
       "97                  NaN              NaN                       NaN   \n",
       "98                  NaN              NaN                       NaN   \n",
       "99                  NaN              NaN                       NaN   \n",
       "\n",
       "   BEST_ACTIVITY_ID_3SENT BEST_ACTIVITY_MATCH_1SENT BEST_ACTIVITY_ID_1SENT  \\\n",
       "0                     NaN                       NaN                    NaN   \n",
       "1                     NaN                       NaN                    NaN   \n",
       "2                     NaN                       NaN                    NaN   \n",
       "3                     NaN                       NaN                    NaN   \n",
       "4                     NaN                       NaN                    NaN   \n",
       "..                    ...                       ...                    ...   \n",
       "95                    NaN                       NaN                    NaN   \n",
       "96                    NaN                       NaN                    NaN   \n",
       "97                    NaN                       NaN                    NaN   \n",
       "98                    NaN                       NaN                    NaN   \n",
       "99                    NaN                       NaN                    NaN   \n",
       "\n",
       "    LOWEST_DISTANCE                                   ORIGINAL_CONTENT  \\\n",
       "0          0.729741  <p>Wir sind ein erfolgreiches und unabhängiges...   \n",
       "1          0.721484  Wir sind eine renommierte und erfolgreiche Ing...   \n",
       "2          0.807079  Bill Weyermann Partner AG erbringt seit über\\n...   \n",
       "3          0.866480  Administration communale de Val-de-RuzForstwar...   \n",
       "4          0.837572  Le groupe Straumann connaît un succès internat...   \n",
       "..              ...                                                ...   \n",
       "95         0.785710  Commune de Lausanne - Service des parcs et dom...   \n",
       "96         0.841356  Quality Assurance Engineer\\n\\n\\nBern, Switzerl...   \n",
       "97         0.786357  Lösungsorientiert, kreativ und dynamisch: Wir ...   \n",
       "98         0.851093  Grün & BlauGärtner/in (Garten- und Landschafts...   \n",
       "99         0.832237  Haas Gartenbau AGGärtner/in (Garten- und Lands...   \n",
       "\n",
       "    AVERAGE_DISTANCE_3SENT  \n",
       "0                 0.766862  \n",
       "1                 0.859877  \n",
       "2                 0.826080  \n",
       "3                 0.895573  \n",
       "4                 0.866659  \n",
       "..                     ...  \n",
       "95                0.810360  \n",
       "96                0.875942  \n",
       "97                0.844407  \n",
       "98                0.889590  \n",
       "99                0.876143  \n",
       "\n",
       "[100 rows x 12 columns]"
      ]
     },
     "execution_count": 40,
     "metadata": {},
     "output_type": "execute_result"
    }
   ],
   "source": [
    "topResultsDf"
   ]
  },
  {
   "cell_type": "code",
   "execution_count": 41,
   "metadata": {},
   "outputs": [
    {
     "ename": "NameError",
     "evalue": "name 'toprow' is not defined",
     "output_type": "error",
     "traceback": [
      "\u001b[0;31m---------------------------------------------------------------------------\u001b[0m",
      "\u001b[0;31mNameError\u001b[0m                                 Traceback (most recent call last)",
      "\u001b[0;32m<ipython-input-41-80c4ab6257ac>\u001b[0m in \u001b[0;36m<module>\u001b[0;34m\u001b[0m\n\u001b[0;32m----> 1\u001b[0;31m \u001b[0mbestNMatchReturn\u001b[0m\u001b[0;34m(\u001b[0m\u001b[0mtoprow\u001b[0m\u001b[0;34m,\u001b[0m \u001b[0mresultsDf\u001b[0m\u001b[0;34m,\u001b[0m \u001b[0mslimmedActsDf\u001b[0m\u001b[0;34m,\u001b[0m \u001b[0;34m\"AVERAGE_DISTANCE_3SENT\"\u001b[0m\u001b[0;34m,\u001b[0m \u001b[0;34m\"ACTIVITY_ID\"\u001b[0m\u001b[0;34m,\u001b[0m \u001b[0;36m10\u001b[0m\u001b[0;34m)\u001b[0m\u001b[0;34m\u001b[0m\u001b[0;34m\u001b[0m\u001b[0m\n\u001b[0m",
      "\u001b[0;31mNameError\u001b[0m: name 'toprow' is not defined"
     ]
    }
   ],
   "source": [
    "bestNMatchReturn(toprow, resultsDf, slimmedActsDf, \"AVERAGE_DISTANCE_3SENT\", \"ACTIVITY_ID\", 10)"
   ]
  },
  {
   "cell_type": "code",
   "execution_count": null,
   "metadata": {},
   "outputs": [],
   "source": [
    "bestMatchReturn(toprow, resultsDf, slimmedActsDf, \"AVERAGE_DISTANCE_3SENT\", \"ACTIVITY_ID\")"
   ]
  },
  {
   "cell_type": "code",
   "execution_count": null,
   "metadata": {},
   "outputs": [],
   "source": [
    "topResultsDf[\"BEST_ACTIVITY_MATCH_1SENT\"] = topResultsDf.apply(bestMatchReturn, args=(resultsDf, slimmedActsDf, \"LOWEST_DISTANCE\", \"ACTIVITY_CONTENT\"), axis=1)\n",
    "topResultsDf[\"BEST_ACTIVITY_MATCH_3SENT\"] = topResultsDf.apply(bestMatchReturn, args=(resultsDf, slimmedActsDf, \"AVERAGE_DISTANCE_3SENT\", \"ACTIVITY_CONTENT\"), axis=1)\n",
    "topResultsDf[\"BEST_ACTIVITY_ID_1SENT\"] = topResultsDf.apply(bestMatchReturn, args=(resultsDf, slimmedActsDf, \"LOWEST_DISTANCE\", \"ACTIVITY_ID\"), axis=1)\n",
    "topResultsDf[\"BEST_ACTIVITY_ID_3SENT\"] = topResultsDf.apply(bestMatchReturn, args=(resultsDf, slimmedActsDf, \"AVERAGE_DISTANCE_3SENT\", \"ACTIVITY_ID\"), axis=1)\n"
   ]
  },
  {
   "cell_type": "code",
   "execution_count": null,
   "metadata": {},
   "outputs": [],
   "source": [
    "topResultsDf[\"TOP_ACTIVITY_IDS\"] = topResultsDf.apply(bestNMatchReturn, args=(resultsDf, slimmedActsDf, \"AVERAGE_DISTANCE_3SENT\", \"ACTIVITY_ID\", 10), axis=1)\n",
    "topResultsDf[\"TOP_ACTIVITY_MATCHES\"] = topResultsDf.apply(bestNMatchReturn, args=(resultsDf, slimmedActsDf, \"AVERAGE_DISTANCE_3SENT\", \"ACTIVITY_CONTENT\", 10), axis=1)\n",
    "topResultsDf"
   ]
  },
  {
   "cell_type": "code",
   "execution_count": null,
   "metadata": {},
   "outputs": [],
   "source": [
    "annotatedJobs200 = pd.read_csv(\"Data/AnnotatedJobs200.csv\", sep=\";\")"
   ]
  },
  {
   "cell_type": "code",
   "execution_count": null,
   "metadata": {},
   "outputs": [],
   "source": [
    "topResultsDf[\"GREEN_IDENTITY\"] = annotatedJobs200[\"GREEN_IDENTITY\"].astype('bool')"
   ]
  },
  {
   "cell_type": "code",
   "execution_count": null,
   "metadata": {},
   "outputs": [],
   "source": [
    "topResultsDf = topResultsDf.sort_values(axis=0, by=\"AVERAGE_DISTANCE_3SENT\")"
   ]
  },
  {
   "cell_type": "code",
   "execution_count": null,
   "metadata": {},
   "outputs": [],
   "source": [
    "topResultsDf"
   ]
  },
  {
   "cell_type": "code",
   "execution_count": null,
   "metadata": {},
   "outputs": [],
   "source": [
    "topResultsDf.to_csv(\"PrelimActsResults200V26.csv\")"
   ]
  },
  {
   "cell_type": "code",
   "execution_count": null,
   "metadata": {},
   "outputs": [],
   "source": [
    "import matplotlib.pyplot as plt"
   ]
  },
  {
   "cell_type": "code",
   "execution_count": null,
   "metadata": {},
   "outputs": [],
   "source": [
    "plt.hist(topResultsDf[\"AVERAGE_DISTANCE_3SENT\"], density=True, label=\"Best match\", alpha=0.5)\n",
    "plt.hist(resultsDf[\"AVERAGE_DISTANCE_3SENT\"], density=True, label=\"all activities\", alpha=0.5)\n",
    "plt.legend()"
   ]
  },
  {
   "cell_type": "code",
   "execution_count": null,
   "metadata": {},
   "outputs": [],
   "source": [
    "plt.hist(topResultsDf[\"AVERAGE_DISTANCE_3SENT\"][topResultsDf[\"GREEN_IDENTITY\"] == 1.0], label=\"Green jobs\", density=True, alpha=0.5)\n",
    "plt.hist(topResultsDf[\"AVERAGE_DISTANCE_3SENT\"][topResultsDf[\"GREEN_IDENTITY\"] == 0.], label=\"not green\", density=True, alpha=0.5)\n",
    "plt.legend()"
   ]
  },
  {
   "cell_type": "code",
   "execution_count": null,
   "metadata": {},
   "outputs": [],
   "source": [
    "topResultsDf[topResultsDf[\"AVERAGE_DISTANCE_3SENT\"] < 0.85].to_csv(\"PrelimResultsActs200V26_GoodMatches.csv\")"
   ]
  }
 ],
 "metadata": {
  "kernelspec": {
   "display_name": "thesisenv",
   "language": "python",
   "name": "thesisenv"
  },
  "language_info": {
   "codemirror_mode": {
    "name": "ipython",
    "version": 3
   },
   "file_extension": ".py",
   "mimetype": "text/x-python",
   "name": "python",
   "nbconvert_exporter": "python",
   "pygments_lexer": "ipython3",
   "version": "3.8.8"
  }
 },
 "nbformat": 4,
 "nbformat_minor": 2
}
